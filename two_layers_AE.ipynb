{
 "cells": [
  {
   "cell_type": "code",
   "execution_count": null,
   "metadata": {
    "id": "rOFuiojRIdf2"
   },
   "outputs": [],
   "source": [
    "# AutoEncoder (no convolutional layers)\n",
    "# https://blog.paperspace.com/autoencoder-image-compression-keras/"
   ]
  },
  {
   "cell_type": "code",
   "execution_count": null,
   "metadata": {
    "colab": {
     "base_uri": "https://localhost:8080/",
     "height": 1000
    },
    "id": "sL3pnZwsIzH1",
    "outputId": "7790971f-2f7c-429a-8773-b70af375f3d1"
   },
   "outputs": [],
   "source": [
    "import tensorflow.keras.layers\n",
    "import tensorflow.keras.models\n",
    "import tensorflow.keras.optimizers\n",
    "import tensorflow.keras.datasets\n",
    "import numpy\n",
    "import matplotlib.pyplot\n",
    "\n",
    "# Encoder\n",
    "x = tensorflow.keras.layers.Input(shape=(784), name=\"encoder_input\")\n",
    "\n",
    "encoder_dense_layer1 = tensorflow.keras.layers.Dense(units=300, name=\"encoder_dense_1\")(x)\n",
    "encoder_activ_layer1 = tensorflow.keras.layers.LeakyReLU(name=\"encoder_leakyrelu_1\")(encoder_dense_layer1)\n",
    "\n",
    "encoder_dense_layer2 = tensorflow.keras.layers.Dense(units=2, name=\"encoder_dense_2\")(encoder_activ_layer1)\n",
    "encoder_output = tensorflow.keras.layers.LeakyReLU(name=\"encoder_output\")(encoder_dense_layer2)\n",
    "\n",
    "encoder = tensorflow.keras.models.Model(x, encoder_output, name=\"encoder_model\")\n",
    "encoder.summary()\n",
    "\n",
    "# Decoder\n",
    "decoder_input = tensorflow.keras.layers.Input(shape=(2), name=\"decoder_input\")\n",
    "\n",
    "decoder_dense_layer1 = tensorflow.keras.layers.Dense(units=300, name=\"decoder_dense_1\")(decoder_input)\n",
    "decoder_activ_layer1 = tensorflow.keras.layers.LeakyReLU(name=\"decoder_leakyrelu_1\")(decoder_dense_layer1)\n",
    "\n",
    "decoder_dense_layer2 = tensorflow.keras.layers.Dense(units=784, name=\"decoder_dense_2\")(decoder_activ_layer1)\n",
    "decoder_output = tensorflow.keras.layers.LeakyReLU(name=\"decoder_output\")(decoder_dense_layer2)\n",
    "\n",
    "decoder = tensorflow.keras.models.Model(decoder_input, decoder_output, name=\"decoder_model\")\n",
    "decoder.summary()\n",
    "\n",
    "# Autoencoder\n",
    "ae_input = tensorflow.keras.layers.Input(shape=(784), name=\"AE_input\")\n",
    "ae_encoder_output = encoder(ae_input)\n",
    "ae_decoder_output = decoder(ae_encoder_output)\n",
    "\n",
    "ae = tensorflow.keras.models.Model(ae_input, ae_decoder_output, name=\"AE\")\n",
    "ae.summary()\n",
    "\n",
    "# RMSE\n",
    "def rmse(y_true, y_predict):\n",
    "    return tensorflow.keras.backend.mean(tensorflow.keras.backend.square(y_true-y_predict))\n",
    "\n",
    "# AE Compilation\n",
    "ae.compile(loss=\"mse\", optimizer=tensorflow.keras.optimizers.Adam(lr=0.0005))\n",
    "\n",
    "# Preparing MNIST Dataset\n",
    "(x_train_orig, y_train), (x_test_orig, y_test) = tensorflow.keras.datasets.mnist.load_data()\n",
    "x_train_orig = x_train_orig.astype(\"float32\") / 255.0\n",
    "x_test_orig = x_test_orig.astype(\"float32\") / 255.0\n",
    "\n",
    "x_train = numpy.reshape(x_train_orig, newshape=(x_train_orig.shape[0], numpy.prod(x_train_orig.shape[1:])))\n",
    "x_test = numpy.reshape(x_test_orig, newshape=(x_test_orig.shape[0], numpy.prod(x_test_orig.shape[1:])))\n",
    "\n",
    "# Training AE\n",
    "ae.fit(x_train, x_train, epochs=20, batch_size=256, shuffle=True, validation_data=(x_test, x_test))\n",
    "\n",
    "encoded_images = encoder.predict(x_train)\n",
    "decoded_images = decoder.predict(encoded_images)\n",
    "decoded_images_orig = numpy.reshape(decoded_images, newshape=(decoded_images.shape[0], 28, 28))\n",
    "\n",
    "num_images_to_show = 5\n",
    "for im_ind in range(num_images_to_show):\n",
    "    plot_ind = im_ind*2 + 1\n",
    "    rand_ind = numpy.random.randint(low=0, high=x_train.shape[0])\n",
    "    matplotlib.pyplot.subplot(num_images_to_show, 2, plot_ind)\n",
    "    matplotlib.pyplot.imshow(x_train_orig[rand_ind, :, :], cmap=\"gray\")\n",
    "    matplotlib.pyplot.subplot(num_images_to_show, 2, plot_ind+1)\n",
    "    matplotlib.pyplot.imshow(decoded_images_orig[rand_ind, :, :], cmap=\"gray\")\n",
    "\n",
    "matplotlib.pyplot.figure()\n",
    "matplotlib.pyplot.scatter(encoded_images[:, 0], encoded_images[:, 1], c=y_train)\n",
    "matplotlib.pyplot.colorbar()"
   ]
  },
  {
   "cell_type": "code",
   "execution_count": null,
   "metadata": {
    "id": "1BxlJi9II0gC"
   },
   "outputs": [],
   "source": []
  }
 ],
 "metadata": {
  "colab": {
   "name": "two_layers_AE.ipynb",
   "provenance": []
  },
  "kernelspec": {
   "display_name": "Python 3 (ipykernel)",
   "language": "python",
   "name": "python3"
  },
  "language_info": {
   "codemirror_mode": {
    "name": "ipython",
    "version": 3
   },
   "file_extension": ".py",
   "mimetype": "text/x-python",
   "name": "python",
   "nbconvert_exporter": "python",
   "pygments_lexer": "ipython3",
   "version": "3.10.7"
  }
 },
 "nbformat": 4,
 "nbformat_minor": 1
}
