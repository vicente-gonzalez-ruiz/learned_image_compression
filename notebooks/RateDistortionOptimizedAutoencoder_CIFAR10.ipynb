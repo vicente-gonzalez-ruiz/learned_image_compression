{
  "nbformat": 4,
  "nbformat_minor": 0,
  "metadata": {
    "colab": {
      "provenance": [],
      "gpuType": "T4",
      "include_colab_link": true
    },
    "kernelspec": {
      "name": "python3",
      "display_name": "Python 3"
    },
    "language_info": {
      "name": "python"
    },
    "accelerator": "GPU",
    "widgets": {
      "application/vnd.jupyter.widget-state+json": {
        "37d2f9e1dbf841c89d95fc32942d1b24": {
          "model_module": "@jupyter-widgets/controls",
          "model_name": "HBoxModel",
          "model_module_version": "1.5.0",
          "state": {
            "_dom_classes": [],
            "_model_module": "@jupyter-widgets/controls",
            "_model_module_version": "1.5.0",
            "_model_name": "HBoxModel",
            "_view_count": null,
            "_view_module": "@jupyter-widgets/controls",
            "_view_module_version": "1.5.0",
            "_view_name": "HBoxView",
            "box_style": "",
            "children": [
              "IPY_MODEL_3aa890726e9b4935800b1fff245a385c",
              "IPY_MODEL_5fafd07de6d646a5ab9ee75f86a39681",
              "IPY_MODEL_c4757aea2c1a4925b9070be33100acc6"
            ],
            "layout": "IPY_MODEL_0c0d35b68573418aa0c38dba69735010"
          }
        },
        "3aa890726e9b4935800b1fff245a385c": {
          "model_module": "@jupyter-widgets/controls",
          "model_name": "HTMLModel",
          "model_module_version": "1.5.0",
          "state": {
            "_dom_classes": [],
            "_model_module": "@jupyter-widgets/controls",
            "_model_module_version": "1.5.0",
            "_model_name": "HTMLModel",
            "_view_count": null,
            "_view_module": "@jupyter-widgets/controls",
            "_view_module_version": "1.5.0",
            "_view_name": "HTMLView",
            "description": "",
            "description_tooltip": null,
            "layout": "IPY_MODEL_47c51dedb0874acc933348cb4c30993d",
            "placeholder": "​",
            "style": "IPY_MODEL_e7b2df960eb94bbb92218bd513ddac13",
            "value": "Dl Completed...: 100%"
          }
        },
        "5fafd07de6d646a5ab9ee75f86a39681": {
          "model_module": "@jupyter-widgets/controls",
          "model_name": "FloatProgressModel",
          "model_module_version": "1.5.0",
          "state": {
            "_dom_classes": [],
            "_model_module": "@jupyter-widgets/controls",
            "_model_module_version": "1.5.0",
            "_model_name": "FloatProgressModel",
            "_view_count": null,
            "_view_module": "@jupyter-widgets/controls",
            "_view_module_version": "1.5.0",
            "_view_name": "ProgressView",
            "bar_style": "success",
            "description": "",
            "description_tooltip": null,
            "layout": "IPY_MODEL_d89df99cf134490491f54f82912355f6",
            "max": 1,
            "min": 0,
            "orientation": "horizontal",
            "style": "IPY_MODEL_39ca10d6c89545e19a0eb9d5d4d7f68a",
            "value": 1
          }
        },
        "c4757aea2c1a4925b9070be33100acc6": {
          "model_module": "@jupyter-widgets/controls",
          "model_name": "HTMLModel",
          "model_module_version": "1.5.0",
          "state": {
            "_dom_classes": [],
            "_model_module": "@jupyter-widgets/controls",
            "_model_module_version": "1.5.0",
            "_model_name": "HTMLModel",
            "_view_count": null,
            "_view_module": "@jupyter-widgets/controls",
            "_view_module_version": "1.5.0",
            "_view_name": "HTMLView",
            "description": "",
            "description_tooltip": null,
            "layout": "IPY_MODEL_cc35e9b7f3e940e88eb302852206f691",
            "placeholder": "​",
            "style": "IPY_MODEL_aa57fe1fc3424d37baa0d1c50e51b3d5",
            "value": " 1/1 [00:17&lt;00:00, 13.99s/ url]"
          }
        },
        "0c0d35b68573418aa0c38dba69735010": {
          "model_module": "@jupyter-widgets/base",
          "model_name": "LayoutModel",
          "model_module_version": "1.2.0",
          "state": {
            "_model_module": "@jupyter-widgets/base",
            "_model_module_version": "1.2.0",
            "_model_name": "LayoutModel",
            "_view_count": null,
            "_view_module": "@jupyter-widgets/base",
            "_view_module_version": "1.2.0",
            "_view_name": "LayoutView",
            "align_content": null,
            "align_items": null,
            "align_self": null,
            "border": null,
            "bottom": null,
            "display": null,
            "flex": null,
            "flex_flow": null,
            "grid_area": null,
            "grid_auto_columns": null,
            "grid_auto_flow": null,
            "grid_auto_rows": null,
            "grid_column": null,
            "grid_gap": null,
            "grid_row": null,
            "grid_template_areas": null,
            "grid_template_columns": null,
            "grid_template_rows": null,
            "height": null,
            "justify_content": null,
            "justify_items": null,
            "left": null,
            "margin": null,
            "max_height": null,
            "max_width": null,
            "min_height": null,
            "min_width": null,
            "object_fit": null,
            "object_position": null,
            "order": null,
            "overflow": null,
            "overflow_x": null,
            "overflow_y": null,
            "padding": null,
            "right": null,
            "top": null,
            "visibility": null,
            "width": null
          }
        },
        "47c51dedb0874acc933348cb4c30993d": {
          "model_module": "@jupyter-widgets/base",
          "model_name": "LayoutModel",
          "model_module_version": "1.2.0",
          "state": {
            "_model_module": "@jupyter-widgets/base",
            "_model_module_version": "1.2.0",
            "_model_name": "LayoutModel",
            "_view_count": null,
            "_view_module": "@jupyter-widgets/base",
            "_view_module_version": "1.2.0",
            "_view_name": "LayoutView",
            "align_content": null,
            "align_items": null,
            "align_self": null,
            "border": null,
            "bottom": null,
            "display": null,
            "flex": null,
            "flex_flow": null,
            "grid_area": null,
            "grid_auto_columns": null,
            "grid_auto_flow": null,
            "grid_auto_rows": null,
            "grid_column": null,
            "grid_gap": null,
            "grid_row": null,
            "grid_template_areas": null,
            "grid_template_columns": null,
            "grid_template_rows": null,
            "height": null,
            "justify_content": null,
            "justify_items": null,
            "left": null,
            "margin": null,
            "max_height": null,
            "max_width": null,
            "min_height": null,
            "min_width": null,
            "object_fit": null,
            "object_position": null,
            "order": null,
            "overflow": null,
            "overflow_x": null,
            "overflow_y": null,
            "padding": null,
            "right": null,
            "top": null,
            "visibility": null,
            "width": null
          }
        },
        "e7b2df960eb94bbb92218bd513ddac13": {
          "model_module": "@jupyter-widgets/controls",
          "model_name": "DescriptionStyleModel",
          "model_module_version": "1.5.0",
          "state": {
            "_model_module": "@jupyter-widgets/controls",
            "_model_module_version": "1.5.0",
            "_model_name": "DescriptionStyleModel",
            "_view_count": null,
            "_view_module": "@jupyter-widgets/base",
            "_view_module_version": "1.2.0",
            "_view_name": "StyleView",
            "description_width": ""
          }
        },
        "d89df99cf134490491f54f82912355f6": {
          "model_module": "@jupyter-widgets/base",
          "model_name": "LayoutModel",
          "model_module_version": "1.2.0",
          "state": {
            "_model_module": "@jupyter-widgets/base",
            "_model_module_version": "1.2.0",
            "_model_name": "LayoutModel",
            "_view_count": null,
            "_view_module": "@jupyter-widgets/base",
            "_view_module_version": "1.2.0",
            "_view_name": "LayoutView",
            "align_content": null,
            "align_items": null,
            "align_self": null,
            "border": null,
            "bottom": null,
            "display": null,
            "flex": null,
            "flex_flow": null,
            "grid_area": null,
            "grid_auto_columns": null,
            "grid_auto_flow": null,
            "grid_auto_rows": null,
            "grid_column": null,
            "grid_gap": null,
            "grid_row": null,
            "grid_template_areas": null,
            "grid_template_columns": null,
            "grid_template_rows": null,
            "height": null,
            "justify_content": null,
            "justify_items": null,
            "left": null,
            "margin": null,
            "max_height": null,
            "max_width": null,
            "min_height": null,
            "min_width": null,
            "object_fit": null,
            "object_position": null,
            "order": null,
            "overflow": null,
            "overflow_x": null,
            "overflow_y": null,
            "padding": null,
            "right": null,
            "top": null,
            "visibility": null,
            "width": "20px"
          }
        },
        "39ca10d6c89545e19a0eb9d5d4d7f68a": {
          "model_module": "@jupyter-widgets/controls",
          "model_name": "ProgressStyleModel",
          "model_module_version": "1.5.0",
          "state": {
            "_model_module": "@jupyter-widgets/controls",
            "_model_module_version": "1.5.0",
            "_model_name": "ProgressStyleModel",
            "_view_count": null,
            "_view_module": "@jupyter-widgets/base",
            "_view_module_version": "1.2.0",
            "_view_name": "StyleView",
            "bar_color": null,
            "description_width": ""
          }
        },
        "cc35e9b7f3e940e88eb302852206f691": {
          "model_module": "@jupyter-widgets/base",
          "model_name": "LayoutModel",
          "model_module_version": "1.2.0",
          "state": {
            "_model_module": "@jupyter-widgets/base",
            "_model_module_version": "1.2.0",
            "_model_name": "LayoutModel",
            "_view_count": null,
            "_view_module": "@jupyter-widgets/base",
            "_view_module_version": "1.2.0",
            "_view_name": "LayoutView",
            "align_content": null,
            "align_items": null,
            "align_self": null,
            "border": null,
            "bottom": null,
            "display": null,
            "flex": null,
            "flex_flow": null,
            "grid_area": null,
            "grid_auto_columns": null,
            "grid_auto_flow": null,
            "grid_auto_rows": null,
            "grid_column": null,
            "grid_gap": null,
            "grid_row": null,
            "grid_template_areas": null,
            "grid_template_columns": null,
            "grid_template_rows": null,
            "height": null,
            "justify_content": null,
            "justify_items": null,
            "left": null,
            "margin": null,
            "max_height": null,
            "max_width": null,
            "min_height": null,
            "min_width": null,
            "object_fit": null,
            "object_position": null,
            "order": null,
            "overflow": null,
            "overflow_x": null,
            "overflow_y": null,
            "padding": null,
            "right": null,
            "top": null,
            "visibility": null,
            "width": null
          }
        },
        "aa57fe1fc3424d37baa0d1c50e51b3d5": {
          "model_module": "@jupyter-widgets/controls",
          "model_name": "DescriptionStyleModel",
          "model_module_version": "1.5.0",
          "state": {
            "_model_module": "@jupyter-widgets/controls",
            "_model_module_version": "1.5.0",
            "_model_name": "DescriptionStyleModel",
            "_view_count": null,
            "_view_module": "@jupyter-widgets/base",
            "_view_module_version": "1.2.0",
            "_view_name": "StyleView",
            "description_width": ""
          }
        },
        "a3a3704454054e839a48c96c70552ba1": {
          "model_module": "@jupyter-widgets/controls",
          "model_name": "HBoxModel",
          "model_module_version": "1.5.0",
          "state": {
            "_dom_classes": [],
            "_model_module": "@jupyter-widgets/controls",
            "_model_module_version": "1.5.0",
            "_model_name": "HBoxModel",
            "_view_count": null,
            "_view_module": "@jupyter-widgets/controls",
            "_view_module_version": "1.5.0",
            "_view_name": "HBoxView",
            "box_style": "",
            "children": [
              "IPY_MODEL_6ce40f4895834c30a23f6c550065bf27",
              "IPY_MODEL_e828222fe95e4816b122480447b75ca9",
              "IPY_MODEL_708fe4fd2c404e33ad4110bbc386f7fc"
            ],
            "layout": "IPY_MODEL_1bf81854c368411e9a2219912eeeba58"
          }
        },
        "6ce40f4895834c30a23f6c550065bf27": {
          "model_module": "@jupyter-widgets/controls",
          "model_name": "HTMLModel",
          "model_module_version": "1.5.0",
          "state": {
            "_dom_classes": [],
            "_model_module": "@jupyter-widgets/controls",
            "_model_module_version": "1.5.0",
            "_model_name": "HTMLModel",
            "_view_count": null,
            "_view_module": "@jupyter-widgets/controls",
            "_view_module_version": "1.5.0",
            "_view_name": "HTMLView",
            "description": "",
            "description_tooltip": null,
            "layout": "IPY_MODEL_a7167e2f53a54585b23848ac729866f9",
            "placeholder": "​",
            "style": "IPY_MODEL_900b15c944fe456eb9af783104933232",
            "value": "Dl Size...: 100%"
          }
        },
        "e828222fe95e4816b122480447b75ca9": {
          "model_module": "@jupyter-widgets/controls",
          "model_name": "FloatProgressModel",
          "model_module_version": "1.5.0",
          "state": {
            "_dom_classes": [],
            "_model_module": "@jupyter-widgets/controls",
            "_model_module_version": "1.5.0",
            "_model_name": "FloatProgressModel",
            "_view_count": null,
            "_view_module": "@jupyter-widgets/controls",
            "_view_module_version": "1.5.0",
            "_view_name": "ProgressView",
            "bar_style": "success",
            "description": "",
            "description_tooltip": null,
            "layout": "IPY_MODEL_cdaeb438a6fc451cb0b2a20806237406",
            "max": 1,
            "min": 0,
            "orientation": "horizontal",
            "style": "IPY_MODEL_4bfd3f11e0854b90a7cf00f8bc1fdb54",
            "value": 1
          }
        },
        "708fe4fd2c404e33ad4110bbc386f7fc": {
          "model_module": "@jupyter-widgets/controls",
          "model_name": "HTMLModel",
          "model_module_version": "1.5.0",
          "state": {
            "_dom_classes": [],
            "_model_module": "@jupyter-widgets/controls",
            "_model_module_version": "1.5.0",
            "_model_name": "HTMLModel",
            "_view_count": null,
            "_view_module": "@jupyter-widgets/controls",
            "_view_module_version": "1.5.0",
            "_view_name": "HTMLView",
            "description": "",
            "description_tooltip": null,
            "layout": "IPY_MODEL_e9e07a661cfa4c7e93dd8d89324eaaa7",
            "placeholder": "​",
            "style": "IPY_MODEL_ac261453d3d74b70b374541fe05cacd7",
            "value": " 162/162 [00:17&lt;00:00, 14.15 MiB/s]"
          }
        },
        "1bf81854c368411e9a2219912eeeba58": {
          "model_module": "@jupyter-widgets/base",
          "model_name": "LayoutModel",
          "model_module_version": "1.2.0",
          "state": {
            "_model_module": "@jupyter-widgets/base",
            "_model_module_version": "1.2.0",
            "_model_name": "LayoutModel",
            "_view_count": null,
            "_view_module": "@jupyter-widgets/base",
            "_view_module_version": "1.2.0",
            "_view_name": "LayoutView",
            "align_content": null,
            "align_items": null,
            "align_self": null,
            "border": null,
            "bottom": null,
            "display": null,
            "flex": null,
            "flex_flow": null,
            "grid_area": null,
            "grid_auto_columns": null,
            "grid_auto_flow": null,
            "grid_auto_rows": null,
            "grid_column": null,
            "grid_gap": null,
            "grid_row": null,
            "grid_template_areas": null,
            "grid_template_columns": null,
            "grid_template_rows": null,
            "height": null,
            "justify_content": null,
            "justify_items": null,
            "left": null,
            "margin": null,
            "max_height": null,
            "max_width": null,
            "min_height": null,
            "min_width": null,
            "object_fit": null,
            "object_position": null,
            "order": null,
            "overflow": null,
            "overflow_x": null,
            "overflow_y": null,
            "padding": null,
            "right": null,
            "top": null,
            "visibility": null,
            "width": null
          }
        },
        "a7167e2f53a54585b23848ac729866f9": {
          "model_module": "@jupyter-widgets/base",
          "model_name": "LayoutModel",
          "model_module_version": "1.2.0",
          "state": {
            "_model_module": "@jupyter-widgets/base",
            "_model_module_version": "1.2.0",
            "_model_name": "LayoutModel",
            "_view_count": null,
            "_view_module": "@jupyter-widgets/base",
            "_view_module_version": "1.2.0",
            "_view_name": "LayoutView",
            "align_content": null,
            "align_items": null,
            "align_self": null,
            "border": null,
            "bottom": null,
            "display": null,
            "flex": null,
            "flex_flow": null,
            "grid_area": null,
            "grid_auto_columns": null,
            "grid_auto_flow": null,
            "grid_auto_rows": null,
            "grid_column": null,
            "grid_gap": null,
            "grid_row": null,
            "grid_template_areas": null,
            "grid_template_columns": null,
            "grid_template_rows": null,
            "height": null,
            "justify_content": null,
            "justify_items": null,
            "left": null,
            "margin": null,
            "max_height": null,
            "max_width": null,
            "min_height": null,
            "min_width": null,
            "object_fit": null,
            "object_position": null,
            "order": null,
            "overflow": null,
            "overflow_x": null,
            "overflow_y": null,
            "padding": null,
            "right": null,
            "top": null,
            "visibility": null,
            "width": null
          }
        },
        "900b15c944fe456eb9af783104933232": {
          "model_module": "@jupyter-widgets/controls",
          "model_name": "DescriptionStyleModel",
          "model_module_version": "1.5.0",
          "state": {
            "_model_module": "@jupyter-widgets/controls",
            "_model_module_version": "1.5.0",
            "_model_name": "DescriptionStyleModel",
            "_view_count": null,
            "_view_module": "@jupyter-widgets/base",
            "_view_module_version": "1.2.0",
            "_view_name": "StyleView",
            "description_width": ""
          }
        },
        "cdaeb438a6fc451cb0b2a20806237406": {
          "model_module": "@jupyter-widgets/base",
          "model_name": "LayoutModel",
          "model_module_version": "1.2.0",
          "state": {
            "_model_module": "@jupyter-widgets/base",
            "_model_module_version": "1.2.0",
            "_model_name": "LayoutModel",
            "_view_count": null,
            "_view_module": "@jupyter-widgets/base",
            "_view_module_version": "1.2.0",
            "_view_name": "LayoutView",
            "align_content": null,
            "align_items": null,
            "align_self": null,
            "border": null,
            "bottom": null,
            "display": null,
            "flex": null,
            "flex_flow": null,
            "grid_area": null,
            "grid_auto_columns": null,
            "grid_auto_flow": null,
            "grid_auto_rows": null,
            "grid_column": null,
            "grid_gap": null,
            "grid_row": null,
            "grid_template_areas": null,
            "grid_template_columns": null,
            "grid_template_rows": null,
            "height": null,
            "justify_content": null,
            "justify_items": null,
            "left": null,
            "margin": null,
            "max_height": null,
            "max_width": null,
            "min_height": null,
            "min_width": null,
            "object_fit": null,
            "object_position": null,
            "order": null,
            "overflow": null,
            "overflow_x": null,
            "overflow_y": null,
            "padding": null,
            "right": null,
            "top": null,
            "visibility": null,
            "width": "20px"
          }
        },
        "4bfd3f11e0854b90a7cf00f8bc1fdb54": {
          "model_module": "@jupyter-widgets/controls",
          "model_name": "ProgressStyleModel",
          "model_module_version": "1.5.0",
          "state": {
            "_model_module": "@jupyter-widgets/controls",
            "_model_module_version": "1.5.0",
            "_model_name": "ProgressStyleModel",
            "_view_count": null,
            "_view_module": "@jupyter-widgets/base",
            "_view_module_version": "1.2.0",
            "_view_name": "StyleView",
            "bar_color": null,
            "description_width": ""
          }
        },
        "e9e07a661cfa4c7e93dd8d89324eaaa7": {
          "model_module": "@jupyter-widgets/base",
          "model_name": "LayoutModel",
          "model_module_version": "1.2.0",
          "state": {
            "_model_module": "@jupyter-widgets/base",
            "_model_module_version": "1.2.0",
            "_model_name": "LayoutModel",
            "_view_count": null,
            "_view_module": "@jupyter-widgets/base",
            "_view_module_version": "1.2.0",
            "_view_name": "LayoutView",
            "align_content": null,
            "align_items": null,
            "align_self": null,
            "border": null,
            "bottom": null,
            "display": null,
            "flex": null,
            "flex_flow": null,
            "grid_area": null,
            "grid_auto_columns": null,
            "grid_auto_flow": null,
            "grid_auto_rows": null,
            "grid_column": null,
            "grid_gap": null,
            "grid_row": null,
            "grid_template_areas": null,
            "grid_template_columns": null,
            "grid_template_rows": null,
            "height": null,
            "justify_content": null,
            "justify_items": null,
            "left": null,
            "margin": null,
            "max_height": null,
            "max_width": null,
            "min_height": null,
            "min_width": null,
            "object_fit": null,
            "object_position": null,
            "order": null,
            "overflow": null,
            "overflow_x": null,
            "overflow_y": null,
            "padding": null,
            "right": null,
            "top": null,
            "visibility": null,
            "width": null
          }
        },
        "ac261453d3d74b70b374541fe05cacd7": {
          "model_module": "@jupyter-widgets/controls",
          "model_name": "DescriptionStyleModel",
          "model_module_version": "1.5.0",
          "state": {
            "_model_module": "@jupyter-widgets/controls",
            "_model_module_version": "1.5.0",
            "_model_name": "DescriptionStyleModel",
            "_view_count": null,
            "_view_module": "@jupyter-widgets/base",
            "_view_module_version": "1.2.0",
            "_view_name": "StyleView",
            "description_width": ""
          }
        },
        "88caa8dd07894a3b9cb9d69b921d0dc7": {
          "model_module": "@jupyter-widgets/controls",
          "model_name": "HBoxModel",
          "model_module_version": "1.5.0",
          "state": {
            "_dom_classes": [],
            "_model_module": "@jupyter-widgets/controls",
            "_model_module_version": "1.5.0",
            "_model_name": "HBoxModel",
            "_view_count": null,
            "_view_module": "@jupyter-widgets/controls",
            "_view_module_version": "1.5.0",
            "_view_name": "HBoxView",
            "box_style": "",
            "children": [
              "IPY_MODEL_6d58660db1a5412c9bc08c1768b719dc",
              "IPY_MODEL_7629d9eb105246d9ae0431b6476e775a",
              "IPY_MODEL_f6c40870cea94cf898df2f4c711a20e3"
            ],
            "layout": "IPY_MODEL_eeb7e266f0a8483dbc101f43c466aa4f"
          }
        },
        "6d58660db1a5412c9bc08c1768b719dc": {
          "model_module": "@jupyter-widgets/controls",
          "model_name": "HTMLModel",
          "model_module_version": "1.5.0",
          "state": {
            "_dom_classes": [],
            "_model_module": "@jupyter-widgets/controls",
            "_model_module_version": "1.5.0",
            "_model_name": "HTMLModel",
            "_view_count": null,
            "_view_module": "@jupyter-widgets/controls",
            "_view_module_version": "1.5.0",
            "_view_name": "HTMLView",
            "description": "",
            "description_tooltip": null,
            "layout": "IPY_MODEL_751d0eebdad443b3a8b8ec5aa5d3c15a",
            "placeholder": "​",
            "style": "IPY_MODEL_54861475f9b94e2b997c9b3825dc25c2",
            "value": "Extraction completed...: 100%"
          }
        },
        "7629d9eb105246d9ae0431b6476e775a": {
          "model_module": "@jupyter-widgets/controls",
          "model_name": "FloatProgressModel",
          "model_module_version": "1.5.0",
          "state": {
            "_dom_classes": [],
            "_model_module": "@jupyter-widgets/controls",
            "_model_module_version": "1.5.0",
            "_model_name": "FloatProgressModel",
            "_view_count": null,
            "_view_module": "@jupyter-widgets/controls",
            "_view_module_version": "1.5.0",
            "_view_name": "ProgressView",
            "bar_style": "success",
            "description": "",
            "description_tooltip": null,
            "layout": "IPY_MODEL_4756d0f3ef0543f984a7604605615ab1",
            "max": 1,
            "min": 0,
            "orientation": "horizontal",
            "style": "IPY_MODEL_410fb3d71ccd4c228d7f81060043199c",
            "value": 1
          }
        },
        "f6c40870cea94cf898df2f4c711a20e3": {
          "model_module": "@jupyter-widgets/controls",
          "model_name": "HTMLModel",
          "model_module_version": "1.5.0",
          "state": {
            "_dom_classes": [],
            "_model_module": "@jupyter-widgets/controls",
            "_model_module_version": "1.5.0",
            "_model_name": "HTMLModel",
            "_view_count": null,
            "_view_module": "@jupyter-widgets/controls",
            "_view_module_version": "1.5.0",
            "_view_name": "HTMLView",
            "description": "",
            "description_tooltip": null,
            "layout": "IPY_MODEL_63af707baaaa4e96879be4669eafcae0",
            "placeholder": "​",
            "style": "IPY_MODEL_70bee1d0f6944db88872e978a7fe5f62",
            "value": " 8/8 [00:17&lt;00:00, 17.89s/ file]"
          }
        },
        "eeb7e266f0a8483dbc101f43c466aa4f": {
          "model_module": "@jupyter-widgets/base",
          "model_name": "LayoutModel",
          "model_module_version": "1.2.0",
          "state": {
            "_model_module": "@jupyter-widgets/base",
            "_model_module_version": "1.2.0",
            "_model_name": "LayoutModel",
            "_view_count": null,
            "_view_module": "@jupyter-widgets/base",
            "_view_module_version": "1.2.0",
            "_view_name": "LayoutView",
            "align_content": null,
            "align_items": null,
            "align_self": null,
            "border": null,
            "bottom": null,
            "display": null,
            "flex": null,
            "flex_flow": null,
            "grid_area": null,
            "grid_auto_columns": null,
            "grid_auto_flow": null,
            "grid_auto_rows": null,
            "grid_column": null,
            "grid_gap": null,
            "grid_row": null,
            "grid_template_areas": null,
            "grid_template_columns": null,
            "grid_template_rows": null,
            "height": null,
            "justify_content": null,
            "justify_items": null,
            "left": null,
            "margin": null,
            "max_height": null,
            "max_width": null,
            "min_height": null,
            "min_width": null,
            "object_fit": null,
            "object_position": null,
            "order": null,
            "overflow": null,
            "overflow_x": null,
            "overflow_y": null,
            "padding": null,
            "right": null,
            "top": null,
            "visibility": null,
            "width": null
          }
        },
        "751d0eebdad443b3a8b8ec5aa5d3c15a": {
          "model_module": "@jupyter-widgets/base",
          "model_name": "LayoutModel",
          "model_module_version": "1.2.0",
          "state": {
            "_model_module": "@jupyter-widgets/base",
            "_model_module_version": "1.2.0",
            "_model_name": "LayoutModel",
            "_view_count": null,
            "_view_module": "@jupyter-widgets/base",
            "_view_module_version": "1.2.0",
            "_view_name": "LayoutView",
            "align_content": null,
            "align_items": null,
            "align_self": null,
            "border": null,
            "bottom": null,
            "display": null,
            "flex": null,
            "flex_flow": null,
            "grid_area": null,
            "grid_auto_columns": null,
            "grid_auto_flow": null,
            "grid_auto_rows": null,
            "grid_column": null,
            "grid_gap": null,
            "grid_row": null,
            "grid_template_areas": null,
            "grid_template_columns": null,
            "grid_template_rows": null,
            "height": null,
            "justify_content": null,
            "justify_items": null,
            "left": null,
            "margin": null,
            "max_height": null,
            "max_width": null,
            "min_height": null,
            "min_width": null,
            "object_fit": null,
            "object_position": null,
            "order": null,
            "overflow": null,
            "overflow_x": null,
            "overflow_y": null,
            "padding": null,
            "right": null,
            "top": null,
            "visibility": null,
            "width": null
          }
        },
        "54861475f9b94e2b997c9b3825dc25c2": {
          "model_module": "@jupyter-widgets/controls",
          "model_name": "DescriptionStyleModel",
          "model_module_version": "1.5.0",
          "state": {
            "_model_module": "@jupyter-widgets/controls",
            "_model_module_version": "1.5.0",
            "_model_name": "DescriptionStyleModel",
            "_view_count": null,
            "_view_module": "@jupyter-widgets/base",
            "_view_module_version": "1.2.0",
            "_view_name": "StyleView",
            "description_width": ""
          }
        },
        "4756d0f3ef0543f984a7604605615ab1": {
          "model_module": "@jupyter-widgets/base",
          "model_name": "LayoutModel",
          "model_module_version": "1.2.0",
          "state": {
            "_model_module": "@jupyter-widgets/base",
            "_model_module_version": "1.2.0",
            "_model_name": "LayoutModel",
            "_view_count": null,
            "_view_module": "@jupyter-widgets/base",
            "_view_module_version": "1.2.0",
            "_view_name": "LayoutView",
            "align_content": null,
            "align_items": null,
            "align_self": null,
            "border": null,
            "bottom": null,
            "display": null,
            "flex": null,
            "flex_flow": null,
            "grid_area": null,
            "grid_auto_columns": null,
            "grid_auto_flow": null,
            "grid_auto_rows": null,
            "grid_column": null,
            "grid_gap": null,
            "grid_row": null,
            "grid_template_areas": null,
            "grid_template_columns": null,
            "grid_template_rows": null,
            "height": null,
            "justify_content": null,
            "justify_items": null,
            "left": null,
            "margin": null,
            "max_height": null,
            "max_width": null,
            "min_height": null,
            "min_width": null,
            "object_fit": null,
            "object_position": null,
            "order": null,
            "overflow": null,
            "overflow_x": null,
            "overflow_y": null,
            "padding": null,
            "right": null,
            "top": null,
            "visibility": null,
            "width": "20px"
          }
        },
        "410fb3d71ccd4c228d7f81060043199c": {
          "model_module": "@jupyter-widgets/controls",
          "model_name": "ProgressStyleModel",
          "model_module_version": "1.5.0",
          "state": {
            "_model_module": "@jupyter-widgets/controls",
            "_model_module_version": "1.5.0",
            "_model_name": "ProgressStyleModel",
            "_view_count": null,
            "_view_module": "@jupyter-widgets/base",
            "_view_module_version": "1.2.0",
            "_view_name": "StyleView",
            "bar_color": null,
            "description_width": ""
          }
        },
        "63af707baaaa4e96879be4669eafcae0": {
          "model_module": "@jupyter-widgets/base",
          "model_name": "LayoutModel",
          "model_module_version": "1.2.0",
          "state": {
            "_model_module": "@jupyter-widgets/base",
            "_model_module_version": "1.2.0",
            "_model_name": "LayoutModel",
            "_view_count": null,
            "_view_module": "@jupyter-widgets/base",
            "_view_module_version": "1.2.0",
            "_view_name": "LayoutView",
            "align_content": null,
            "align_items": null,
            "align_self": null,
            "border": null,
            "bottom": null,
            "display": null,
            "flex": null,
            "flex_flow": null,
            "grid_area": null,
            "grid_auto_columns": null,
            "grid_auto_flow": null,
            "grid_auto_rows": null,
            "grid_column": null,
            "grid_gap": null,
            "grid_row": null,
            "grid_template_areas": null,
            "grid_template_columns": null,
            "grid_template_rows": null,
            "height": null,
            "justify_content": null,
            "justify_items": null,
            "left": null,
            "margin": null,
            "max_height": null,
            "max_width": null,
            "min_height": null,
            "min_width": null,
            "object_fit": null,
            "object_position": null,
            "order": null,
            "overflow": null,
            "overflow_x": null,
            "overflow_y": null,
            "padding": null,
            "right": null,
            "top": null,
            "visibility": null,
            "width": null
          }
        },
        "70bee1d0f6944db88872e978a7fe5f62": {
          "model_module": "@jupyter-widgets/controls",
          "model_name": "DescriptionStyleModel",
          "model_module_version": "1.5.0",
          "state": {
            "_model_module": "@jupyter-widgets/controls",
            "_model_module_version": "1.5.0",
            "_model_name": "DescriptionStyleModel",
            "_view_count": null,
            "_view_module": "@jupyter-widgets/base",
            "_view_module_version": "1.2.0",
            "_view_name": "StyleView",
            "description_width": ""
          }
        },
        "d8c235423162492c896bd8717ab2d4bd": {
          "model_module": "@jupyter-widgets/controls",
          "model_name": "HBoxModel",
          "model_module_version": "1.5.0",
          "state": {
            "_dom_classes": [],
            "_model_module": "@jupyter-widgets/controls",
            "_model_module_version": "1.5.0",
            "_model_name": "HBoxModel",
            "_view_count": null,
            "_view_module": "@jupyter-widgets/controls",
            "_view_module_version": "1.5.0",
            "_view_name": "HBoxView",
            "box_style": "",
            "children": [
              "IPY_MODEL_f23845ae8d6542018337f2f0967bcc1b",
              "IPY_MODEL_73be6f604844498a865a614cfb41557e",
              "IPY_MODEL_7d450e83e2f5447b8ca8d1cb81970533"
            ],
            "layout": "IPY_MODEL_f37502a02ee749019f8905a4c106ba96"
          }
        },
        "f23845ae8d6542018337f2f0967bcc1b": {
          "model_module": "@jupyter-widgets/controls",
          "model_name": "HTMLModel",
          "model_module_version": "1.5.0",
          "state": {
            "_dom_classes": [],
            "_model_module": "@jupyter-widgets/controls",
            "_model_module_version": "1.5.0",
            "_model_name": "HTMLModel",
            "_view_count": null,
            "_view_module": "@jupyter-widgets/controls",
            "_view_module_version": "1.5.0",
            "_view_name": "HTMLView",
            "description": "",
            "description_tooltip": null,
            "layout": "IPY_MODEL_9f0b718f4f3f47e5a9140264ebf73f23",
            "placeholder": "​",
            "style": "IPY_MODEL_3d9bea1573bb46bca68b03c4b8290c98",
            "value": "Generating splits...: 100%"
          }
        },
        "73be6f604844498a865a614cfb41557e": {
          "model_module": "@jupyter-widgets/controls",
          "model_name": "FloatProgressModel",
          "model_module_version": "1.5.0",
          "state": {
            "_dom_classes": [],
            "_model_module": "@jupyter-widgets/controls",
            "_model_module_version": "1.5.0",
            "_model_name": "FloatProgressModel",
            "_view_count": null,
            "_view_module": "@jupyter-widgets/controls",
            "_view_module_version": "1.5.0",
            "_view_name": "ProgressView",
            "bar_style": "",
            "description": "",
            "description_tooltip": null,
            "layout": "IPY_MODEL_5151e14eb5674bcaa9164b405db0a2a2",
            "max": 2,
            "min": 0,
            "orientation": "horizontal",
            "style": "IPY_MODEL_a263bef35b0e412a985a53c282dad111",
            "value": 2
          }
        },
        "7d450e83e2f5447b8ca8d1cb81970533": {
          "model_module": "@jupyter-widgets/controls",
          "model_name": "HTMLModel",
          "model_module_version": "1.5.0",
          "state": {
            "_dom_classes": [],
            "_model_module": "@jupyter-widgets/controls",
            "_model_module_version": "1.5.0",
            "_model_name": "HTMLModel",
            "_view_count": null,
            "_view_module": "@jupyter-widgets/controls",
            "_view_module_version": "1.5.0",
            "_view_name": "HTMLView",
            "description": "",
            "description_tooltip": null,
            "layout": "IPY_MODEL_d26f05f823df44fcb5f63a5e2ab89e5b",
            "placeholder": "​",
            "style": "IPY_MODEL_a7c580a447804acc874e0a130341050d",
            "value": " 2/2 [00:58&lt;00:00, 25.66s/ splits]"
          }
        },
        "f37502a02ee749019f8905a4c106ba96": {
          "model_module": "@jupyter-widgets/base",
          "model_name": "LayoutModel",
          "model_module_version": "1.2.0",
          "state": {
            "_model_module": "@jupyter-widgets/base",
            "_model_module_version": "1.2.0",
            "_model_name": "LayoutModel",
            "_view_count": null,
            "_view_module": "@jupyter-widgets/base",
            "_view_module_version": "1.2.0",
            "_view_name": "LayoutView",
            "align_content": null,
            "align_items": null,
            "align_self": null,
            "border": null,
            "bottom": null,
            "display": null,
            "flex": null,
            "flex_flow": null,
            "grid_area": null,
            "grid_auto_columns": null,
            "grid_auto_flow": null,
            "grid_auto_rows": null,
            "grid_column": null,
            "grid_gap": null,
            "grid_row": null,
            "grid_template_areas": null,
            "grid_template_columns": null,
            "grid_template_rows": null,
            "height": null,
            "justify_content": null,
            "justify_items": null,
            "left": null,
            "margin": null,
            "max_height": null,
            "max_width": null,
            "min_height": null,
            "min_width": null,
            "object_fit": null,
            "object_position": null,
            "order": null,
            "overflow": null,
            "overflow_x": null,
            "overflow_y": null,
            "padding": null,
            "right": null,
            "top": null,
            "visibility": "hidden",
            "width": null
          }
        },
        "9f0b718f4f3f47e5a9140264ebf73f23": {
          "model_module": "@jupyter-widgets/base",
          "model_name": "LayoutModel",
          "model_module_version": "1.2.0",
          "state": {
            "_model_module": "@jupyter-widgets/base",
            "_model_module_version": "1.2.0",
            "_model_name": "LayoutModel",
            "_view_count": null,
            "_view_module": "@jupyter-widgets/base",
            "_view_module_version": "1.2.0",
            "_view_name": "LayoutView",
            "align_content": null,
            "align_items": null,
            "align_self": null,
            "border": null,
            "bottom": null,
            "display": null,
            "flex": null,
            "flex_flow": null,
            "grid_area": null,
            "grid_auto_columns": null,
            "grid_auto_flow": null,
            "grid_auto_rows": null,
            "grid_column": null,
            "grid_gap": null,
            "grid_row": null,
            "grid_template_areas": null,
            "grid_template_columns": null,
            "grid_template_rows": null,
            "height": null,
            "justify_content": null,
            "justify_items": null,
            "left": null,
            "margin": null,
            "max_height": null,
            "max_width": null,
            "min_height": null,
            "min_width": null,
            "object_fit": null,
            "object_position": null,
            "order": null,
            "overflow": null,
            "overflow_x": null,
            "overflow_y": null,
            "padding": null,
            "right": null,
            "top": null,
            "visibility": null,
            "width": null
          }
        },
        "3d9bea1573bb46bca68b03c4b8290c98": {
          "model_module": "@jupyter-widgets/controls",
          "model_name": "DescriptionStyleModel",
          "model_module_version": "1.5.0",
          "state": {
            "_model_module": "@jupyter-widgets/controls",
            "_model_module_version": "1.5.0",
            "_model_name": "DescriptionStyleModel",
            "_view_count": null,
            "_view_module": "@jupyter-widgets/base",
            "_view_module_version": "1.2.0",
            "_view_name": "StyleView",
            "description_width": ""
          }
        },
        "5151e14eb5674bcaa9164b405db0a2a2": {
          "model_module": "@jupyter-widgets/base",
          "model_name": "LayoutModel",
          "model_module_version": "1.2.0",
          "state": {
            "_model_module": "@jupyter-widgets/base",
            "_model_module_version": "1.2.0",
            "_model_name": "LayoutModel",
            "_view_count": null,
            "_view_module": "@jupyter-widgets/base",
            "_view_module_version": "1.2.0",
            "_view_name": "LayoutView",
            "align_content": null,
            "align_items": null,
            "align_self": null,
            "border": null,
            "bottom": null,
            "display": null,
            "flex": null,
            "flex_flow": null,
            "grid_area": null,
            "grid_auto_columns": null,
            "grid_auto_flow": null,
            "grid_auto_rows": null,
            "grid_column": null,
            "grid_gap": null,
            "grid_row": null,
            "grid_template_areas": null,
            "grid_template_columns": null,
            "grid_template_rows": null,
            "height": null,
            "justify_content": null,
            "justify_items": null,
            "left": null,
            "margin": null,
            "max_height": null,
            "max_width": null,
            "min_height": null,
            "min_width": null,
            "object_fit": null,
            "object_position": null,
            "order": null,
            "overflow": null,
            "overflow_x": null,
            "overflow_y": null,
            "padding": null,
            "right": null,
            "top": null,
            "visibility": null,
            "width": null
          }
        },
        "a263bef35b0e412a985a53c282dad111": {
          "model_module": "@jupyter-widgets/controls",
          "model_name": "ProgressStyleModel",
          "model_module_version": "1.5.0",
          "state": {
            "_model_module": "@jupyter-widgets/controls",
            "_model_module_version": "1.5.0",
            "_model_name": "ProgressStyleModel",
            "_view_count": null,
            "_view_module": "@jupyter-widgets/base",
            "_view_module_version": "1.2.0",
            "_view_name": "StyleView",
            "bar_color": null,
            "description_width": ""
          }
        },
        "d26f05f823df44fcb5f63a5e2ab89e5b": {
          "model_module": "@jupyter-widgets/base",
          "model_name": "LayoutModel",
          "model_module_version": "1.2.0",
          "state": {
            "_model_module": "@jupyter-widgets/base",
            "_model_module_version": "1.2.0",
            "_model_name": "LayoutModel",
            "_view_count": null,
            "_view_module": "@jupyter-widgets/base",
            "_view_module_version": "1.2.0",
            "_view_name": "LayoutView",
            "align_content": null,
            "align_items": null,
            "align_self": null,
            "border": null,
            "bottom": null,
            "display": null,
            "flex": null,
            "flex_flow": null,
            "grid_area": null,
            "grid_auto_columns": null,
            "grid_auto_flow": null,
            "grid_auto_rows": null,
            "grid_column": null,
            "grid_gap": null,
            "grid_row": null,
            "grid_template_areas": null,
            "grid_template_columns": null,
            "grid_template_rows": null,
            "height": null,
            "justify_content": null,
            "justify_items": null,
            "left": null,
            "margin": null,
            "max_height": null,
            "max_width": null,
            "min_height": null,
            "min_width": null,
            "object_fit": null,
            "object_position": null,
            "order": null,
            "overflow": null,
            "overflow_x": null,
            "overflow_y": null,
            "padding": null,
            "right": null,
            "top": null,
            "visibility": null,
            "width": null
          }
        },
        "a7c580a447804acc874e0a130341050d": {
          "model_module": "@jupyter-widgets/controls",
          "model_name": "DescriptionStyleModel",
          "model_module_version": "1.5.0",
          "state": {
            "_model_module": "@jupyter-widgets/controls",
            "_model_module_version": "1.5.0",
            "_model_name": "DescriptionStyleModel",
            "_view_count": null,
            "_view_module": "@jupyter-widgets/base",
            "_view_module_version": "1.2.0",
            "_view_name": "StyleView",
            "description_width": ""
          }
        },
        "1c587fa54105493d89467a1234ac49ec": {
          "model_module": "@jupyter-widgets/controls",
          "model_name": "HBoxModel",
          "model_module_version": "1.5.0",
          "state": {
            "_dom_classes": [],
            "_model_module": "@jupyter-widgets/controls",
            "_model_module_version": "1.5.0",
            "_model_name": "HBoxModel",
            "_view_count": null,
            "_view_module": "@jupyter-widgets/controls",
            "_view_module_version": "1.5.0",
            "_view_name": "HBoxView",
            "box_style": "",
            "children": [
              "IPY_MODEL_480f73a42b7740b6a0fd4ce65c49dde4",
              "IPY_MODEL_4090296713744bcb8a44e0cdabad89fa",
              "IPY_MODEL_18a5986ebd2647ef88a7b5a150f3d6d7"
            ],
            "layout": "IPY_MODEL_5182d812d0e143cd9e49aaa15c796ca5"
          }
        },
        "480f73a42b7740b6a0fd4ce65c49dde4": {
          "model_module": "@jupyter-widgets/controls",
          "model_name": "HTMLModel",
          "model_module_version": "1.5.0",
          "state": {
            "_dom_classes": [],
            "_model_module": "@jupyter-widgets/controls",
            "_model_module_version": "1.5.0",
            "_model_name": "HTMLModel",
            "_view_count": null,
            "_view_module": "@jupyter-widgets/controls",
            "_view_module_version": "1.5.0",
            "_view_name": "HTMLView",
            "description": "",
            "description_tooltip": null,
            "layout": "IPY_MODEL_6a5403c73e5d43509d155a1fa5ec84bc",
            "placeholder": "​",
            "style": "IPY_MODEL_a28c3dd8b9134c499221a0f9a78ddb5d",
            "value": "Generating train examples...:  99%"
          }
        },
        "4090296713744bcb8a44e0cdabad89fa": {
          "model_module": "@jupyter-widgets/controls",
          "model_name": "FloatProgressModel",
          "model_module_version": "1.5.0",
          "state": {
            "_dom_classes": [],
            "_model_module": "@jupyter-widgets/controls",
            "_model_module_version": "1.5.0",
            "_model_name": "FloatProgressModel",
            "_view_count": null,
            "_view_module": "@jupyter-widgets/controls",
            "_view_module_version": "1.5.0",
            "_view_name": "ProgressView",
            "bar_style": "",
            "description": "",
            "description_tooltip": null,
            "layout": "IPY_MODEL_99d1e50bffb64b12ad571d07ba27eea1",
            "max": 50000,
            "min": 0,
            "orientation": "horizontal",
            "style": "IPY_MODEL_56212140c76340c69119e1e6eab7637d",
            "value": 50000
          }
        },
        "18a5986ebd2647ef88a7b5a150f3d6d7": {
          "model_module": "@jupyter-widgets/controls",
          "model_name": "HTMLModel",
          "model_module_version": "1.5.0",
          "state": {
            "_dom_classes": [],
            "_model_module": "@jupyter-widgets/controls",
            "_model_module_version": "1.5.0",
            "_model_name": "HTMLModel",
            "_view_count": null,
            "_view_module": "@jupyter-widgets/controls",
            "_view_module_version": "1.5.0",
            "_view_name": "HTMLView",
            "description": "",
            "description_tooltip": null,
            "layout": "IPY_MODEL_441af6d23a814235985f81831194937f",
            "placeholder": "​",
            "style": "IPY_MODEL_85ea08c366d84dceb2cb446f117267c8",
            "value": " 49411/50000 [00:48&lt;00:00, 1231.39 examples/s]"
          }
        },
        "5182d812d0e143cd9e49aaa15c796ca5": {
          "model_module": "@jupyter-widgets/base",
          "model_name": "LayoutModel",
          "model_module_version": "1.2.0",
          "state": {
            "_model_module": "@jupyter-widgets/base",
            "_model_module_version": "1.2.0",
            "_model_name": "LayoutModel",
            "_view_count": null,
            "_view_module": "@jupyter-widgets/base",
            "_view_module_version": "1.2.0",
            "_view_name": "LayoutView",
            "align_content": null,
            "align_items": null,
            "align_self": null,
            "border": null,
            "bottom": null,
            "display": null,
            "flex": null,
            "flex_flow": null,
            "grid_area": null,
            "grid_auto_columns": null,
            "grid_auto_flow": null,
            "grid_auto_rows": null,
            "grid_column": null,
            "grid_gap": null,
            "grid_row": null,
            "grid_template_areas": null,
            "grid_template_columns": null,
            "grid_template_rows": null,
            "height": null,
            "justify_content": null,
            "justify_items": null,
            "left": null,
            "margin": null,
            "max_height": null,
            "max_width": null,
            "min_height": null,
            "min_width": null,
            "object_fit": null,
            "object_position": null,
            "order": null,
            "overflow": null,
            "overflow_x": null,
            "overflow_y": null,
            "padding": null,
            "right": null,
            "top": null,
            "visibility": "hidden",
            "width": null
          }
        },
        "6a5403c73e5d43509d155a1fa5ec84bc": {
          "model_module": "@jupyter-widgets/base",
          "model_name": "LayoutModel",
          "model_module_version": "1.2.0",
          "state": {
            "_model_module": "@jupyter-widgets/base",
            "_model_module_version": "1.2.0",
            "_model_name": "LayoutModel",
            "_view_count": null,
            "_view_module": "@jupyter-widgets/base",
            "_view_module_version": "1.2.0",
            "_view_name": "LayoutView",
            "align_content": null,
            "align_items": null,
            "align_self": null,
            "border": null,
            "bottom": null,
            "display": null,
            "flex": null,
            "flex_flow": null,
            "grid_area": null,
            "grid_auto_columns": null,
            "grid_auto_flow": null,
            "grid_auto_rows": null,
            "grid_column": null,
            "grid_gap": null,
            "grid_row": null,
            "grid_template_areas": null,
            "grid_template_columns": null,
            "grid_template_rows": null,
            "height": null,
            "justify_content": null,
            "justify_items": null,
            "left": null,
            "margin": null,
            "max_height": null,
            "max_width": null,
            "min_height": null,
            "min_width": null,
            "object_fit": null,
            "object_position": null,
            "order": null,
            "overflow": null,
            "overflow_x": null,
            "overflow_y": null,
            "padding": null,
            "right": null,
            "top": null,
            "visibility": null,
            "width": null
          }
        },
        "a28c3dd8b9134c499221a0f9a78ddb5d": {
          "model_module": "@jupyter-widgets/controls",
          "model_name": "DescriptionStyleModel",
          "model_module_version": "1.5.0",
          "state": {
            "_model_module": "@jupyter-widgets/controls",
            "_model_module_version": "1.5.0",
            "_model_name": "DescriptionStyleModel",
            "_view_count": null,
            "_view_module": "@jupyter-widgets/base",
            "_view_module_version": "1.2.0",
            "_view_name": "StyleView",
            "description_width": ""
          }
        },
        "99d1e50bffb64b12ad571d07ba27eea1": {
          "model_module": "@jupyter-widgets/base",
          "model_name": "LayoutModel",
          "model_module_version": "1.2.0",
          "state": {
            "_model_module": "@jupyter-widgets/base",
            "_model_module_version": "1.2.0",
            "_model_name": "LayoutModel",
            "_view_count": null,
            "_view_module": "@jupyter-widgets/base",
            "_view_module_version": "1.2.0",
            "_view_name": "LayoutView",
            "align_content": null,
            "align_items": null,
            "align_self": null,
            "border": null,
            "bottom": null,
            "display": null,
            "flex": null,
            "flex_flow": null,
            "grid_area": null,
            "grid_auto_columns": null,
            "grid_auto_flow": null,
            "grid_auto_rows": null,
            "grid_column": null,
            "grid_gap": null,
            "grid_row": null,
            "grid_template_areas": null,
            "grid_template_columns": null,
            "grid_template_rows": null,
            "height": null,
            "justify_content": null,
            "justify_items": null,
            "left": null,
            "margin": null,
            "max_height": null,
            "max_width": null,
            "min_height": null,
            "min_width": null,
            "object_fit": null,
            "object_position": null,
            "order": null,
            "overflow": null,
            "overflow_x": null,
            "overflow_y": null,
            "padding": null,
            "right": null,
            "top": null,
            "visibility": null,
            "width": null
          }
        },
        "56212140c76340c69119e1e6eab7637d": {
          "model_module": "@jupyter-widgets/controls",
          "model_name": "ProgressStyleModel",
          "model_module_version": "1.5.0",
          "state": {
            "_model_module": "@jupyter-widgets/controls",
            "_model_module_version": "1.5.0",
            "_model_name": "ProgressStyleModel",
            "_view_count": null,
            "_view_module": "@jupyter-widgets/base",
            "_view_module_version": "1.2.0",
            "_view_name": "StyleView",
            "bar_color": null,
            "description_width": ""
          }
        },
        "441af6d23a814235985f81831194937f": {
          "model_module": "@jupyter-widgets/base",
          "model_name": "LayoutModel",
          "model_module_version": "1.2.0",
          "state": {
            "_model_module": "@jupyter-widgets/base",
            "_model_module_version": "1.2.0",
            "_model_name": "LayoutModel",
            "_view_count": null,
            "_view_module": "@jupyter-widgets/base",
            "_view_module_version": "1.2.0",
            "_view_name": "LayoutView",
            "align_content": null,
            "align_items": null,
            "align_self": null,
            "border": null,
            "bottom": null,
            "display": null,
            "flex": null,
            "flex_flow": null,
            "grid_area": null,
            "grid_auto_columns": null,
            "grid_auto_flow": null,
            "grid_auto_rows": null,
            "grid_column": null,
            "grid_gap": null,
            "grid_row": null,
            "grid_template_areas": null,
            "grid_template_columns": null,
            "grid_template_rows": null,
            "height": null,
            "justify_content": null,
            "justify_items": null,
            "left": null,
            "margin": null,
            "max_height": null,
            "max_width": null,
            "min_height": null,
            "min_width": null,
            "object_fit": null,
            "object_position": null,
            "order": null,
            "overflow": null,
            "overflow_x": null,
            "overflow_y": null,
            "padding": null,
            "right": null,
            "top": null,
            "visibility": null,
            "width": null
          }
        },
        "85ea08c366d84dceb2cb446f117267c8": {
          "model_module": "@jupyter-widgets/controls",
          "model_name": "DescriptionStyleModel",
          "model_module_version": "1.5.0",
          "state": {
            "_model_module": "@jupyter-widgets/controls",
            "_model_module_version": "1.5.0",
            "_model_name": "DescriptionStyleModel",
            "_view_count": null,
            "_view_module": "@jupyter-widgets/base",
            "_view_module_version": "1.2.0",
            "_view_name": "StyleView",
            "description_width": ""
          }
        },
        "a76a7def60d64bd296fec37d830e9b29": {
          "model_module": "@jupyter-widgets/controls",
          "model_name": "HBoxModel",
          "model_module_version": "1.5.0",
          "state": {
            "_dom_classes": [],
            "_model_module": "@jupyter-widgets/controls",
            "_model_module_version": "1.5.0",
            "_model_name": "HBoxModel",
            "_view_count": null,
            "_view_module": "@jupyter-widgets/controls",
            "_view_module_version": "1.5.0",
            "_view_name": "HBoxView",
            "box_style": "",
            "children": [
              "IPY_MODEL_e60bdb146e9945ce8375ce01a2116b25",
              "IPY_MODEL_9d9774b4544c4600b09eb85679e1f2c6",
              "IPY_MODEL_f29bc6115b014ec9bca08e463e75b711"
            ],
            "layout": "IPY_MODEL_adcd79d90e2b420297ecdf908ee3f130"
          }
        },
        "e60bdb146e9945ce8375ce01a2116b25": {
          "model_module": "@jupyter-widgets/controls",
          "model_name": "HTMLModel",
          "model_module_version": "1.5.0",
          "state": {
            "_dom_classes": [],
            "_model_module": "@jupyter-widgets/controls",
            "_model_module_version": "1.5.0",
            "_model_name": "HTMLModel",
            "_view_count": null,
            "_view_module": "@jupyter-widgets/controls",
            "_view_module_version": "1.5.0",
            "_view_name": "HTMLView",
            "description": "",
            "description_tooltip": null,
            "layout": "IPY_MODEL_5e4d3ada242946d1bf88f12f555cb61c",
            "placeholder": "​",
            "style": "IPY_MODEL_ab48171758ff451aaceb9b4f84d4d376",
            "value": "Shuffling /root/tensorflow_datasets/cifar10/3.0.2.incomplete527WVX/cifar10-train.tfrecord*...:  61%"
          }
        },
        "9d9774b4544c4600b09eb85679e1f2c6": {
          "model_module": "@jupyter-widgets/controls",
          "model_name": "FloatProgressModel",
          "model_module_version": "1.5.0",
          "state": {
            "_dom_classes": [],
            "_model_module": "@jupyter-widgets/controls",
            "_model_module_version": "1.5.0",
            "_model_name": "FloatProgressModel",
            "_view_count": null,
            "_view_module": "@jupyter-widgets/controls",
            "_view_module_version": "1.5.0",
            "_view_name": "ProgressView",
            "bar_style": "",
            "description": "",
            "description_tooltip": null,
            "layout": "IPY_MODEL_2ad5aeabf78f4af28fcf06ce167e087d",
            "max": 50000,
            "min": 0,
            "orientation": "horizontal",
            "style": "IPY_MODEL_9f4b91180c2a4e00817235a604a7bc82",
            "value": 50000
          }
        },
        "f29bc6115b014ec9bca08e463e75b711": {
          "model_module": "@jupyter-widgets/controls",
          "model_name": "HTMLModel",
          "model_module_version": "1.5.0",
          "state": {
            "_dom_classes": [],
            "_model_module": "@jupyter-widgets/controls",
            "_model_module_version": "1.5.0",
            "_model_name": "HTMLModel",
            "_view_count": null,
            "_view_module": "@jupyter-widgets/controls",
            "_view_module_version": "1.5.0",
            "_view_name": "HTMLView",
            "description": "",
            "description_tooltip": null,
            "layout": "IPY_MODEL_d6352600d06d4f0dab67990dbaa99fe7",
            "placeholder": "​",
            "style": "IPY_MODEL_7a359e2cc9f346a4a2b657b9d1ddd89f",
            "value": " 30584/50000 [00:00&lt;00:00, 164497.28 examples/s]"
          }
        },
        "adcd79d90e2b420297ecdf908ee3f130": {
          "model_module": "@jupyter-widgets/base",
          "model_name": "LayoutModel",
          "model_module_version": "1.2.0",
          "state": {
            "_model_module": "@jupyter-widgets/base",
            "_model_module_version": "1.2.0",
            "_model_name": "LayoutModel",
            "_view_count": null,
            "_view_module": "@jupyter-widgets/base",
            "_view_module_version": "1.2.0",
            "_view_name": "LayoutView",
            "align_content": null,
            "align_items": null,
            "align_self": null,
            "border": null,
            "bottom": null,
            "display": null,
            "flex": null,
            "flex_flow": null,
            "grid_area": null,
            "grid_auto_columns": null,
            "grid_auto_flow": null,
            "grid_auto_rows": null,
            "grid_column": null,
            "grid_gap": null,
            "grid_row": null,
            "grid_template_areas": null,
            "grid_template_columns": null,
            "grid_template_rows": null,
            "height": null,
            "justify_content": null,
            "justify_items": null,
            "left": null,
            "margin": null,
            "max_height": null,
            "max_width": null,
            "min_height": null,
            "min_width": null,
            "object_fit": null,
            "object_position": null,
            "order": null,
            "overflow": null,
            "overflow_x": null,
            "overflow_y": null,
            "padding": null,
            "right": null,
            "top": null,
            "visibility": "hidden",
            "width": null
          }
        },
        "5e4d3ada242946d1bf88f12f555cb61c": {
          "model_module": "@jupyter-widgets/base",
          "model_name": "LayoutModel",
          "model_module_version": "1.2.0",
          "state": {
            "_model_module": "@jupyter-widgets/base",
            "_model_module_version": "1.2.0",
            "_model_name": "LayoutModel",
            "_view_count": null,
            "_view_module": "@jupyter-widgets/base",
            "_view_module_version": "1.2.0",
            "_view_name": "LayoutView",
            "align_content": null,
            "align_items": null,
            "align_self": null,
            "border": null,
            "bottom": null,
            "display": null,
            "flex": null,
            "flex_flow": null,
            "grid_area": null,
            "grid_auto_columns": null,
            "grid_auto_flow": null,
            "grid_auto_rows": null,
            "grid_column": null,
            "grid_gap": null,
            "grid_row": null,
            "grid_template_areas": null,
            "grid_template_columns": null,
            "grid_template_rows": null,
            "height": null,
            "justify_content": null,
            "justify_items": null,
            "left": null,
            "margin": null,
            "max_height": null,
            "max_width": null,
            "min_height": null,
            "min_width": null,
            "object_fit": null,
            "object_position": null,
            "order": null,
            "overflow": null,
            "overflow_x": null,
            "overflow_y": null,
            "padding": null,
            "right": null,
            "top": null,
            "visibility": null,
            "width": null
          }
        },
        "ab48171758ff451aaceb9b4f84d4d376": {
          "model_module": "@jupyter-widgets/controls",
          "model_name": "DescriptionStyleModel",
          "model_module_version": "1.5.0",
          "state": {
            "_model_module": "@jupyter-widgets/controls",
            "_model_module_version": "1.5.0",
            "_model_name": "DescriptionStyleModel",
            "_view_count": null,
            "_view_module": "@jupyter-widgets/base",
            "_view_module_version": "1.2.0",
            "_view_name": "StyleView",
            "description_width": ""
          }
        },
        "2ad5aeabf78f4af28fcf06ce167e087d": {
          "model_module": "@jupyter-widgets/base",
          "model_name": "LayoutModel",
          "model_module_version": "1.2.0",
          "state": {
            "_model_module": "@jupyter-widgets/base",
            "_model_module_version": "1.2.0",
            "_model_name": "LayoutModel",
            "_view_count": null,
            "_view_module": "@jupyter-widgets/base",
            "_view_module_version": "1.2.0",
            "_view_name": "LayoutView",
            "align_content": null,
            "align_items": null,
            "align_self": null,
            "border": null,
            "bottom": null,
            "display": null,
            "flex": null,
            "flex_flow": null,
            "grid_area": null,
            "grid_auto_columns": null,
            "grid_auto_flow": null,
            "grid_auto_rows": null,
            "grid_column": null,
            "grid_gap": null,
            "grid_row": null,
            "grid_template_areas": null,
            "grid_template_columns": null,
            "grid_template_rows": null,
            "height": null,
            "justify_content": null,
            "justify_items": null,
            "left": null,
            "margin": null,
            "max_height": null,
            "max_width": null,
            "min_height": null,
            "min_width": null,
            "object_fit": null,
            "object_position": null,
            "order": null,
            "overflow": null,
            "overflow_x": null,
            "overflow_y": null,
            "padding": null,
            "right": null,
            "top": null,
            "visibility": null,
            "width": null
          }
        },
        "9f4b91180c2a4e00817235a604a7bc82": {
          "model_module": "@jupyter-widgets/controls",
          "model_name": "ProgressStyleModel",
          "model_module_version": "1.5.0",
          "state": {
            "_model_module": "@jupyter-widgets/controls",
            "_model_module_version": "1.5.0",
            "_model_name": "ProgressStyleModel",
            "_view_count": null,
            "_view_module": "@jupyter-widgets/base",
            "_view_module_version": "1.2.0",
            "_view_name": "StyleView",
            "bar_color": null,
            "description_width": ""
          }
        },
        "d6352600d06d4f0dab67990dbaa99fe7": {
          "model_module": "@jupyter-widgets/base",
          "model_name": "LayoutModel",
          "model_module_version": "1.2.0",
          "state": {
            "_model_module": "@jupyter-widgets/base",
            "_model_module_version": "1.2.0",
            "_model_name": "LayoutModel",
            "_view_count": null,
            "_view_module": "@jupyter-widgets/base",
            "_view_module_version": "1.2.0",
            "_view_name": "LayoutView",
            "align_content": null,
            "align_items": null,
            "align_self": null,
            "border": null,
            "bottom": null,
            "display": null,
            "flex": null,
            "flex_flow": null,
            "grid_area": null,
            "grid_auto_columns": null,
            "grid_auto_flow": null,
            "grid_auto_rows": null,
            "grid_column": null,
            "grid_gap": null,
            "grid_row": null,
            "grid_template_areas": null,
            "grid_template_columns": null,
            "grid_template_rows": null,
            "height": null,
            "justify_content": null,
            "justify_items": null,
            "left": null,
            "margin": null,
            "max_height": null,
            "max_width": null,
            "min_height": null,
            "min_width": null,
            "object_fit": null,
            "object_position": null,
            "order": null,
            "overflow": null,
            "overflow_x": null,
            "overflow_y": null,
            "padding": null,
            "right": null,
            "top": null,
            "visibility": null,
            "width": null
          }
        },
        "7a359e2cc9f346a4a2b657b9d1ddd89f": {
          "model_module": "@jupyter-widgets/controls",
          "model_name": "DescriptionStyleModel",
          "model_module_version": "1.5.0",
          "state": {
            "_model_module": "@jupyter-widgets/controls",
            "_model_module_version": "1.5.0",
            "_model_name": "DescriptionStyleModel",
            "_view_count": null,
            "_view_module": "@jupyter-widgets/base",
            "_view_module_version": "1.2.0",
            "_view_name": "StyleView",
            "description_width": ""
          }
        },
        "e843d174c81d4e62801ba57869167a12": {
          "model_module": "@jupyter-widgets/controls",
          "model_name": "HBoxModel",
          "model_module_version": "1.5.0",
          "state": {
            "_dom_classes": [],
            "_model_module": "@jupyter-widgets/controls",
            "_model_module_version": "1.5.0",
            "_model_name": "HBoxModel",
            "_view_count": null,
            "_view_module": "@jupyter-widgets/controls",
            "_view_module_version": "1.5.0",
            "_view_name": "HBoxView",
            "box_style": "",
            "children": [
              "IPY_MODEL_f7c2ed622dbd451ea17be9b60d4808c6",
              "IPY_MODEL_9f0e65c2b5114b20bba8d8f03c5d1a1f",
              "IPY_MODEL_97654352c0944555b0ac7692baca4f29"
            ],
            "layout": "IPY_MODEL_efb72ea2f3d946339b0f69fd2908c6e5"
          }
        },
        "f7c2ed622dbd451ea17be9b60d4808c6": {
          "model_module": "@jupyter-widgets/controls",
          "model_name": "HTMLModel",
          "model_module_version": "1.5.0",
          "state": {
            "_dom_classes": [],
            "_model_module": "@jupyter-widgets/controls",
            "_model_module_version": "1.5.0",
            "_model_name": "HTMLModel",
            "_view_count": null,
            "_view_module": "@jupyter-widgets/controls",
            "_view_module_version": "1.5.0",
            "_view_name": "HTMLView",
            "description": "",
            "description_tooltip": null,
            "layout": "IPY_MODEL_f1ca855ffd20422ebd6ce75388864662",
            "placeholder": "​",
            "style": "IPY_MODEL_8a715d67061a44c7afdcbba165da9391",
            "value": "Generating test examples...:  96%"
          }
        },
        "9f0e65c2b5114b20bba8d8f03c5d1a1f": {
          "model_module": "@jupyter-widgets/controls",
          "model_name": "FloatProgressModel",
          "model_module_version": "1.5.0",
          "state": {
            "_dom_classes": [],
            "_model_module": "@jupyter-widgets/controls",
            "_model_module_version": "1.5.0",
            "_model_name": "FloatProgressModel",
            "_view_count": null,
            "_view_module": "@jupyter-widgets/controls",
            "_view_module_version": "1.5.0",
            "_view_name": "ProgressView",
            "bar_style": "",
            "description": "",
            "description_tooltip": null,
            "layout": "IPY_MODEL_8b73fc19faa64a46bb00580f52ecb88c",
            "max": 10000,
            "min": 0,
            "orientation": "horizontal",
            "style": "IPY_MODEL_a5d0ae2cfa664d51b6ddd17b53b63649",
            "value": 10000
          }
        },
        "97654352c0944555b0ac7692baca4f29": {
          "model_module": "@jupyter-widgets/controls",
          "model_name": "HTMLModel",
          "model_module_version": "1.5.0",
          "state": {
            "_dom_classes": [],
            "_model_module": "@jupyter-widgets/controls",
            "_model_module_version": "1.5.0",
            "_model_name": "HTMLModel",
            "_view_count": null,
            "_view_module": "@jupyter-widgets/controls",
            "_view_module_version": "1.5.0",
            "_view_name": "HTMLView",
            "description": "",
            "description_tooltip": null,
            "layout": "IPY_MODEL_5716bf15e4b54da6a1d5c646f248017b",
            "placeholder": "​",
            "style": "IPY_MODEL_0f06a52a438e48ffa43730d5523d4ae1",
            "value": " 9624/10000 [00:08&lt;00:00, 1148.85 examples/s]"
          }
        },
        "efb72ea2f3d946339b0f69fd2908c6e5": {
          "model_module": "@jupyter-widgets/base",
          "model_name": "LayoutModel",
          "model_module_version": "1.2.0",
          "state": {
            "_model_module": "@jupyter-widgets/base",
            "_model_module_version": "1.2.0",
            "_model_name": "LayoutModel",
            "_view_count": null,
            "_view_module": "@jupyter-widgets/base",
            "_view_module_version": "1.2.0",
            "_view_name": "LayoutView",
            "align_content": null,
            "align_items": null,
            "align_self": null,
            "border": null,
            "bottom": null,
            "display": null,
            "flex": null,
            "flex_flow": null,
            "grid_area": null,
            "grid_auto_columns": null,
            "grid_auto_flow": null,
            "grid_auto_rows": null,
            "grid_column": null,
            "grid_gap": null,
            "grid_row": null,
            "grid_template_areas": null,
            "grid_template_columns": null,
            "grid_template_rows": null,
            "height": null,
            "justify_content": null,
            "justify_items": null,
            "left": null,
            "margin": null,
            "max_height": null,
            "max_width": null,
            "min_height": null,
            "min_width": null,
            "object_fit": null,
            "object_position": null,
            "order": null,
            "overflow": null,
            "overflow_x": null,
            "overflow_y": null,
            "padding": null,
            "right": null,
            "top": null,
            "visibility": "hidden",
            "width": null
          }
        },
        "f1ca855ffd20422ebd6ce75388864662": {
          "model_module": "@jupyter-widgets/base",
          "model_name": "LayoutModel",
          "model_module_version": "1.2.0",
          "state": {
            "_model_module": "@jupyter-widgets/base",
            "_model_module_version": "1.2.0",
            "_model_name": "LayoutModel",
            "_view_count": null,
            "_view_module": "@jupyter-widgets/base",
            "_view_module_version": "1.2.0",
            "_view_name": "LayoutView",
            "align_content": null,
            "align_items": null,
            "align_self": null,
            "border": null,
            "bottom": null,
            "display": null,
            "flex": null,
            "flex_flow": null,
            "grid_area": null,
            "grid_auto_columns": null,
            "grid_auto_flow": null,
            "grid_auto_rows": null,
            "grid_column": null,
            "grid_gap": null,
            "grid_row": null,
            "grid_template_areas": null,
            "grid_template_columns": null,
            "grid_template_rows": null,
            "height": null,
            "justify_content": null,
            "justify_items": null,
            "left": null,
            "margin": null,
            "max_height": null,
            "max_width": null,
            "min_height": null,
            "min_width": null,
            "object_fit": null,
            "object_position": null,
            "order": null,
            "overflow": null,
            "overflow_x": null,
            "overflow_y": null,
            "padding": null,
            "right": null,
            "top": null,
            "visibility": null,
            "width": null
          }
        },
        "8a715d67061a44c7afdcbba165da9391": {
          "model_module": "@jupyter-widgets/controls",
          "model_name": "DescriptionStyleModel",
          "model_module_version": "1.5.0",
          "state": {
            "_model_module": "@jupyter-widgets/controls",
            "_model_module_version": "1.5.0",
            "_model_name": "DescriptionStyleModel",
            "_view_count": null,
            "_view_module": "@jupyter-widgets/base",
            "_view_module_version": "1.2.0",
            "_view_name": "StyleView",
            "description_width": ""
          }
        },
        "8b73fc19faa64a46bb00580f52ecb88c": {
          "model_module": "@jupyter-widgets/base",
          "model_name": "LayoutModel",
          "model_module_version": "1.2.0",
          "state": {
            "_model_module": "@jupyter-widgets/base",
            "_model_module_version": "1.2.0",
            "_model_name": "LayoutModel",
            "_view_count": null,
            "_view_module": "@jupyter-widgets/base",
            "_view_module_version": "1.2.0",
            "_view_name": "LayoutView",
            "align_content": null,
            "align_items": null,
            "align_self": null,
            "border": null,
            "bottom": null,
            "display": null,
            "flex": null,
            "flex_flow": null,
            "grid_area": null,
            "grid_auto_columns": null,
            "grid_auto_flow": null,
            "grid_auto_rows": null,
            "grid_column": null,
            "grid_gap": null,
            "grid_row": null,
            "grid_template_areas": null,
            "grid_template_columns": null,
            "grid_template_rows": null,
            "height": null,
            "justify_content": null,
            "justify_items": null,
            "left": null,
            "margin": null,
            "max_height": null,
            "max_width": null,
            "min_height": null,
            "min_width": null,
            "object_fit": null,
            "object_position": null,
            "order": null,
            "overflow": null,
            "overflow_x": null,
            "overflow_y": null,
            "padding": null,
            "right": null,
            "top": null,
            "visibility": null,
            "width": null
          }
        },
        "a5d0ae2cfa664d51b6ddd17b53b63649": {
          "model_module": "@jupyter-widgets/controls",
          "model_name": "ProgressStyleModel",
          "model_module_version": "1.5.0",
          "state": {
            "_model_module": "@jupyter-widgets/controls",
            "_model_module_version": "1.5.0",
            "_model_name": "ProgressStyleModel",
            "_view_count": null,
            "_view_module": "@jupyter-widgets/base",
            "_view_module_version": "1.2.0",
            "_view_name": "StyleView",
            "bar_color": null,
            "description_width": ""
          }
        },
        "5716bf15e4b54da6a1d5c646f248017b": {
          "model_module": "@jupyter-widgets/base",
          "model_name": "LayoutModel",
          "model_module_version": "1.2.0",
          "state": {
            "_model_module": "@jupyter-widgets/base",
            "_model_module_version": "1.2.0",
            "_model_name": "LayoutModel",
            "_view_count": null,
            "_view_module": "@jupyter-widgets/base",
            "_view_module_version": "1.2.0",
            "_view_name": "LayoutView",
            "align_content": null,
            "align_items": null,
            "align_self": null,
            "border": null,
            "bottom": null,
            "display": null,
            "flex": null,
            "flex_flow": null,
            "grid_area": null,
            "grid_auto_columns": null,
            "grid_auto_flow": null,
            "grid_auto_rows": null,
            "grid_column": null,
            "grid_gap": null,
            "grid_row": null,
            "grid_template_areas": null,
            "grid_template_columns": null,
            "grid_template_rows": null,
            "height": null,
            "justify_content": null,
            "justify_items": null,
            "left": null,
            "margin": null,
            "max_height": null,
            "max_width": null,
            "min_height": null,
            "min_width": null,
            "object_fit": null,
            "object_position": null,
            "order": null,
            "overflow": null,
            "overflow_x": null,
            "overflow_y": null,
            "padding": null,
            "right": null,
            "top": null,
            "visibility": null,
            "width": null
          }
        },
        "0f06a52a438e48ffa43730d5523d4ae1": {
          "model_module": "@jupyter-widgets/controls",
          "model_name": "DescriptionStyleModel",
          "model_module_version": "1.5.0",
          "state": {
            "_model_module": "@jupyter-widgets/controls",
            "_model_module_version": "1.5.0",
            "_model_name": "DescriptionStyleModel",
            "_view_count": null,
            "_view_module": "@jupyter-widgets/base",
            "_view_module_version": "1.2.0",
            "_view_name": "StyleView",
            "description_width": ""
          }
        },
        "a510f52d9f9441e6941527c31f97f747": {
          "model_module": "@jupyter-widgets/controls",
          "model_name": "HBoxModel",
          "model_module_version": "1.5.0",
          "state": {
            "_dom_classes": [],
            "_model_module": "@jupyter-widgets/controls",
            "_model_module_version": "1.5.0",
            "_model_name": "HBoxModel",
            "_view_count": null,
            "_view_module": "@jupyter-widgets/controls",
            "_view_module_version": "1.5.0",
            "_view_name": "HBoxView",
            "box_style": "",
            "children": [
              "IPY_MODEL_f04e114df8a04bd88909f0e38963e62e",
              "IPY_MODEL_8bd9e1fd013d44af8cbaa947ae7b6fbd",
              "IPY_MODEL_71c247207c7e43f5b7d019f97c8fbed1"
            ],
            "layout": "IPY_MODEL_5397b853d23b4f63bfe662a97951a2fc"
          }
        },
        "f04e114df8a04bd88909f0e38963e62e": {
          "model_module": "@jupyter-widgets/controls",
          "model_name": "HTMLModel",
          "model_module_version": "1.5.0",
          "state": {
            "_dom_classes": [],
            "_model_module": "@jupyter-widgets/controls",
            "_model_module_version": "1.5.0",
            "_model_name": "HTMLModel",
            "_view_count": null,
            "_view_module": "@jupyter-widgets/controls",
            "_view_module_version": "1.5.0",
            "_view_name": "HTMLView",
            "description": "",
            "description_tooltip": null,
            "layout": "IPY_MODEL_7f08de4d545a4ddf9b935d06058362d2",
            "placeholder": "​",
            "style": "IPY_MODEL_c86cad1ca71f44f2bc74ea8432678caf",
            "value": "Shuffling /root/tensorflow_datasets/cifar10/3.0.2.incomplete527WVX/cifar10-test.tfrecord*...:   0%"
          }
        },
        "8bd9e1fd013d44af8cbaa947ae7b6fbd": {
          "model_module": "@jupyter-widgets/controls",
          "model_name": "FloatProgressModel",
          "model_module_version": "1.5.0",
          "state": {
            "_dom_classes": [],
            "_model_module": "@jupyter-widgets/controls",
            "_model_module_version": "1.5.0",
            "_model_name": "FloatProgressModel",
            "_view_count": null,
            "_view_module": "@jupyter-widgets/controls",
            "_view_module_version": "1.5.0",
            "_view_name": "ProgressView",
            "bar_style": "",
            "description": "",
            "description_tooltip": null,
            "layout": "IPY_MODEL_9c7c5d7d5368429bad36080cdf7f34a2",
            "max": 10000,
            "min": 0,
            "orientation": "horizontal",
            "style": "IPY_MODEL_08f5ec0cf54c435d83042f7f6194c2e4",
            "value": 10000
          }
        },
        "71c247207c7e43f5b7d019f97c8fbed1": {
          "model_module": "@jupyter-widgets/controls",
          "model_name": "HTMLModel",
          "model_module_version": "1.5.0",
          "state": {
            "_dom_classes": [],
            "_model_module": "@jupyter-widgets/controls",
            "_model_module_version": "1.5.0",
            "_model_name": "HTMLModel",
            "_view_count": null,
            "_view_module": "@jupyter-widgets/controls",
            "_view_module_version": "1.5.0",
            "_view_name": "HTMLView",
            "description": "",
            "description_tooltip": null,
            "layout": "IPY_MODEL_4c6cdb83aea946ee898d5f1abe216eea",
            "placeholder": "​",
            "style": "IPY_MODEL_fbd56f1da5e4462ca49dc1371a26a179",
            "value": " 0/10000 [00:00&lt;?, ? examples/s]"
          }
        },
        "5397b853d23b4f63bfe662a97951a2fc": {
          "model_module": "@jupyter-widgets/base",
          "model_name": "LayoutModel",
          "model_module_version": "1.2.0",
          "state": {
            "_model_module": "@jupyter-widgets/base",
            "_model_module_version": "1.2.0",
            "_model_name": "LayoutModel",
            "_view_count": null,
            "_view_module": "@jupyter-widgets/base",
            "_view_module_version": "1.2.0",
            "_view_name": "LayoutView",
            "align_content": null,
            "align_items": null,
            "align_self": null,
            "border": null,
            "bottom": null,
            "display": null,
            "flex": null,
            "flex_flow": null,
            "grid_area": null,
            "grid_auto_columns": null,
            "grid_auto_flow": null,
            "grid_auto_rows": null,
            "grid_column": null,
            "grid_gap": null,
            "grid_row": null,
            "grid_template_areas": null,
            "grid_template_columns": null,
            "grid_template_rows": null,
            "height": null,
            "justify_content": null,
            "justify_items": null,
            "left": null,
            "margin": null,
            "max_height": null,
            "max_width": null,
            "min_height": null,
            "min_width": null,
            "object_fit": null,
            "object_position": null,
            "order": null,
            "overflow": null,
            "overflow_x": null,
            "overflow_y": null,
            "padding": null,
            "right": null,
            "top": null,
            "visibility": "hidden",
            "width": null
          }
        },
        "7f08de4d545a4ddf9b935d06058362d2": {
          "model_module": "@jupyter-widgets/base",
          "model_name": "LayoutModel",
          "model_module_version": "1.2.0",
          "state": {
            "_model_module": "@jupyter-widgets/base",
            "_model_module_version": "1.2.0",
            "_model_name": "LayoutModel",
            "_view_count": null,
            "_view_module": "@jupyter-widgets/base",
            "_view_module_version": "1.2.0",
            "_view_name": "LayoutView",
            "align_content": null,
            "align_items": null,
            "align_self": null,
            "border": null,
            "bottom": null,
            "display": null,
            "flex": null,
            "flex_flow": null,
            "grid_area": null,
            "grid_auto_columns": null,
            "grid_auto_flow": null,
            "grid_auto_rows": null,
            "grid_column": null,
            "grid_gap": null,
            "grid_row": null,
            "grid_template_areas": null,
            "grid_template_columns": null,
            "grid_template_rows": null,
            "height": null,
            "justify_content": null,
            "justify_items": null,
            "left": null,
            "margin": null,
            "max_height": null,
            "max_width": null,
            "min_height": null,
            "min_width": null,
            "object_fit": null,
            "object_position": null,
            "order": null,
            "overflow": null,
            "overflow_x": null,
            "overflow_y": null,
            "padding": null,
            "right": null,
            "top": null,
            "visibility": null,
            "width": null
          }
        },
        "c86cad1ca71f44f2bc74ea8432678caf": {
          "model_module": "@jupyter-widgets/controls",
          "model_name": "DescriptionStyleModel",
          "model_module_version": "1.5.0",
          "state": {
            "_model_module": "@jupyter-widgets/controls",
            "_model_module_version": "1.5.0",
            "_model_name": "DescriptionStyleModel",
            "_view_count": null,
            "_view_module": "@jupyter-widgets/base",
            "_view_module_version": "1.2.0",
            "_view_name": "StyleView",
            "description_width": ""
          }
        },
        "9c7c5d7d5368429bad36080cdf7f34a2": {
          "model_module": "@jupyter-widgets/base",
          "model_name": "LayoutModel",
          "model_module_version": "1.2.0",
          "state": {
            "_model_module": "@jupyter-widgets/base",
            "_model_module_version": "1.2.0",
            "_model_name": "LayoutModel",
            "_view_count": null,
            "_view_module": "@jupyter-widgets/base",
            "_view_module_version": "1.2.0",
            "_view_name": "LayoutView",
            "align_content": null,
            "align_items": null,
            "align_self": null,
            "border": null,
            "bottom": null,
            "display": null,
            "flex": null,
            "flex_flow": null,
            "grid_area": null,
            "grid_auto_columns": null,
            "grid_auto_flow": null,
            "grid_auto_rows": null,
            "grid_column": null,
            "grid_gap": null,
            "grid_row": null,
            "grid_template_areas": null,
            "grid_template_columns": null,
            "grid_template_rows": null,
            "height": null,
            "justify_content": null,
            "justify_items": null,
            "left": null,
            "margin": null,
            "max_height": null,
            "max_width": null,
            "min_height": null,
            "min_width": null,
            "object_fit": null,
            "object_position": null,
            "order": null,
            "overflow": null,
            "overflow_x": null,
            "overflow_y": null,
            "padding": null,
            "right": null,
            "top": null,
            "visibility": null,
            "width": null
          }
        },
        "08f5ec0cf54c435d83042f7f6194c2e4": {
          "model_module": "@jupyter-widgets/controls",
          "model_name": "ProgressStyleModel",
          "model_module_version": "1.5.0",
          "state": {
            "_model_module": "@jupyter-widgets/controls",
            "_model_module_version": "1.5.0",
            "_model_name": "ProgressStyleModel",
            "_view_count": null,
            "_view_module": "@jupyter-widgets/base",
            "_view_module_version": "1.2.0",
            "_view_name": "StyleView",
            "bar_color": null,
            "description_width": ""
          }
        },
        "4c6cdb83aea946ee898d5f1abe216eea": {
          "model_module": "@jupyter-widgets/base",
          "model_name": "LayoutModel",
          "model_module_version": "1.2.0",
          "state": {
            "_model_module": "@jupyter-widgets/base",
            "_model_module_version": "1.2.0",
            "_model_name": "LayoutModel",
            "_view_count": null,
            "_view_module": "@jupyter-widgets/base",
            "_view_module_version": "1.2.0",
            "_view_name": "LayoutView",
            "align_content": null,
            "align_items": null,
            "align_self": null,
            "border": null,
            "bottom": null,
            "display": null,
            "flex": null,
            "flex_flow": null,
            "grid_area": null,
            "grid_auto_columns": null,
            "grid_auto_flow": null,
            "grid_auto_rows": null,
            "grid_column": null,
            "grid_gap": null,
            "grid_row": null,
            "grid_template_areas": null,
            "grid_template_columns": null,
            "grid_template_rows": null,
            "height": null,
            "justify_content": null,
            "justify_items": null,
            "left": null,
            "margin": null,
            "max_height": null,
            "max_width": null,
            "min_height": null,
            "min_width": null,
            "object_fit": null,
            "object_position": null,
            "order": null,
            "overflow": null,
            "overflow_x": null,
            "overflow_y": null,
            "padding": null,
            "right": null,
            "top": null,
            "visibility": null,
            "width": null
          }
        },
        "fbd56f1da5e4462ca49dc1371a26a179": {
          "model_module": "@jupyter-widgets/controls",
          "model_name": "DescriptionStyleModel",
          "model_module_version": "1.5.0",
          "state": {
            "_model_module": "@jupyter-widgets/controls",
            "_model_module_version": "1.5.0",
            "_model_name": "DescriptionStyleModel",
            "_view_count": null,
            "_view_module": "@jupyter-widgets/base",
            "_view_module_version": "1.2.0",
            "_view_name": "StyleView",
            "description_width": ""
          }
        }
      }
    }
  },
  "cells": [
    {
      "cell_type": "markdown",
      "metadata": {
        "id": "view-in-github",
        "colab_type": "text"
      },
      "source": [
        "<a href=\"https://colab.research.google.com/github/vicente-gonzalez-ruiz/learned_image_compression/blob/main/notebooks/RateDistortionOptimizedAutoencoder_CIFAR10.ipynb\" target=\"_parent\"><img src=\"https://colab.research.google.com/assets/colab-badge.svg\" alt=\"Open In Colab\"/></a>"
      ]
    },
    {
      "cell_type": "markdown",
      "source": [
        "# Rate/Distortion Optimized Autoencoder\n",
        "Based on [Learned data compression](https://www.tensorflow.org/tutorials/generative/data_compression)."
      ],
      "metadata": {
        "id": "_GE44ma8SD3u"
      }
    },
    {
      "cell_type": "code",
      "source": [
        "# We minimize: J = R + LAMBDA*D\n",
        "# Notice that, if LAMBDA is high, we basically minimize D at the expense of increasing R as much as necessary), and viceversa."
      ],
      "metadata": {
        "id": "QT87X-R3HzXF"
      },
      "execution_count": 1,
      "outputs": []
    },
    {
      "cell_type": "code",
      "execution_count": 2,
      "metadata": {
        "colab": {
          "base_uri": "https://localhost:8080/"
        },
        "id": "NpPkP6zhHC3p",
        "outputId": "bae50c35-38fb-4000-f4fd-ec9309832d52"
      },
      "outputs": [
        {
          "output_type": "stream",
          "name": "stdout",
          "text": [
            "Collecting tensorflow-compression<2.15\n",
            "  Downloading tensorflow_compression-2.14.0-cp310-cp310-manylinux_2_17_x86_64.manylinux2014_x86_64.whl (257 kB)\n",
            "     ━━━━━━━━━━━━━━━━━━━━━━━━━━━━━━━━━━━━━━━━ 257.7/257.7 kB 4.3 MB/s eta 0:00:00\n",
            "Requirement already satisfied: scipy~=1.4 in /usr/local/lib/python3.10/dist-packages (from tensorflow-compression<2.15) (1.11.4)\n",
            "Requirement already satisfied: tensorflow~=2.14.0 in /usr/local/lib/python3.10/dist-packages (from tensorflow-compression<2.15) (2.14.0)\n",
            "Requirement already satisfied: tensorflow-probability~=0.15 in /usr/local/lib/python3.10/dist-packages (from tensorflow-compression<2.15) (0.22.0)\n",
            "Requirement already satisfied: numpy<1.28.0,>=1.21.6 in /usr/local/lib/python3.10/dist-packages (from scipy~=1.4->tensorflow-compression<2.15) (1.23.5)\n",
            "Requirement already satisfied: absl-py>=1.0.0 in /usr/local/lib/python3.10/dist-packages (from tensorflow~=2.14.0->tensorflow-compression<2.15) (1.4.0)\n",
            "Requirement already satisfied: astunparse>=1.6.0 in /usr/local/lib/python3.10/dist-packages (from tensorflow~=2.14.0->tensorflow-compression<2.15) (1.6.3)\n",
            "Requirement already satisfied: flatbuffers>=23.5.26 in /usr/local/lib/python3.10/dist-packages (from tensorflow~=2.14.0->tensorflow-compression<2.15) (23.5.26)\n",
            "Requirement already satisfied: gast!=0.5.0,!=0.5.1,!=0.5.2,>=0.2.1 in /usr/local/lib/python3.10/dist-packages (from tensorflow~=2.14.0->tensorflow-compression<2.15) (0.5.4)\n",
            "Requirement already satisfied: google-pasta>=0.1.1 in /usr/local/lib/python3.10/dist-packages (from tensorflow~=2.14.0->tensorflow-compression<2.15) (0.2.0)\n",
            "Requirement already satisfied: h5py>=2.9.0 in /usr/local/lib/python3.10/dist-packages (from tensorflow~=2.14.0->tensorflow-compression<2.15) (3.9.0)\n",
            "Requirement already satisfied: libclang>=13.0.0 in /usr/local/lib/python3.10/dist-packages (from tensorflow~=2.14.0->tensorflow-compression<2.15) (16.0.6)\n",
            "Requirement already satisfied: ml-dtypes==0.2.0 in /usr/local/lib/python3.10/dist-packages (from tensorflow~=2.14.0->tensorflow-compression<2.15) (0.2.0)\n",
            "Requirement already satisfied: opt-einsum>=2.3.2 in /usr/local/lib/python3.10/dist-packages (from tensorflow~=2.14.0->tensorflow-compression<2.15) (3.3.0)\n",
            "Requirement already satisfied: packaging in /usr/local/lib/python3.10/dist-packages (from tensorflow~=2.14.0->tensorflow-compression<2.15) (23.2)\n",
            "Requirement already satisfied: protobuf!=4.21.0,!=4.21.1,!=4.21.2,!=4.21.3,!=4.21.4,!=4.21.5,<5.0.0dev,>=3.20.3 in /usr/local/lib/python3.10/dist-packages (from tensorflow~=2.14.0->tensorflow-compression<2.15) (3.20.3)\n",
            "Requirement already satisfied: setuptools in /usr/local/lib/python3.10/dist-packages (from tensorflow~=2.14.0->tensorflow-compression<2.15) (67.7.2)\n",
            "Requirement already satisfied: six>=1.12.0 in /usr/local/lib/python3.10/dist-packages (from tensorflow~=2.14.0->tensorflow-compression<2.15) (1.16.0)\n",
            "Requirement already satisfied: termcolor>=1.1.0 in /usr/local/lib/python3.10/dist-packages (from tensorflow~=2.14.0->tensorflow-compression<2.15) (2.4.0)\n",
            "Requirement already satisfied: typing-extensions>=3.6.6 in /usr/local/lib/python3.10/dist-packages (from tensorflow~=2.14.0->tensorflow-compression<2.15) (4.5.0)\n",
            "Requirement already satisfied: wrapt<1.15,>=1.11.0 in /usr/local/lib/python3.10/dist-packages (from tensorflow~=2.14.0->tensorflow-compression<2.15) (1.14.1)\n",
            "Requirement already satisfied: tensorflow-io-gcs-filesystem>=0.23.1 in /usr/local/lib/python3.10/dist-packages (from tensorflow~=2.14.0->tensorflow-compression<2.15) (0.34.0)\n",
            "Requirement already satisfied: grpcio<2.0,>=1.24.3 in /usr/local/lib/python3.10/dist-packages (from tensorflow~=2.14.0->tensorflow-compression<2.15) (1.59.3)\n",
            "Requirement already satisfied: tensorboard<2.15,>=2.14 in /usr/local/lib/python3.10/dist-packages (from tensorflow~=2.14.0->tensorflow-compression<2.15) (2.14.1)\n",
            "Requirement already satisfied: tensorflow-estimator<2.15,>=2.14.0 in /usr/local/lib/python3.10/dist-packages (from tensorflow~=2.14.0->tensorflow-compression<2.15) (2.14.0)\n",
            "Requirement already satisfied: keras<2.15,>=2.14.0 in /usr/local/lib/python3.10/dist-packages (from tensorflow~=2.14.0->tensorflow-compression<2.15) (2.14.0)\n",
            "Requirement already satisfied: decorator in /usr/local/lib/python3.10/dist-packages (from tensorflow-probability~=0.15->tensorflow-compression<2.15) (4.4.2)\n",
            "Requirement already satisfied: cloudpickle>=1.3 in /usr/local/lib/python3.10/dist-packages (from tensorflow-probability~=0.15->tensorflow-compression<2.15) (2.2.1)\n",
            "Requirement already satisfied: dm-tree in /usr/local/lib/python3.10/dist-packages (from tensorflow-probability~=0.15->tensorflow-compression<2.15) (0.1.8)\n",
            "Requirement already satisfied: wheel<1.0,>=0.23.0 in /usr/local/lib/python3.10/dist-packages (from astunparse>=1.6.0->tensorflow~=2.14.0->tensorflow-compression<2.15) (0.42.0)\n",
            "Requirement already satisfied: google-auth<3,>=1.6.3 in /usr/local/lib/python3.10/dist-packages (from tensorboard<2.15,>=2.14->tensorflow~=2.14.0->tensorflow-compression<2.15) (2.17.3)\n",
            "Requirement already satisfied: google-auth-oauthlib<1.1,>=0.5 in /usr/local/lib/python3.10/dist-packages (from tensorboard<2.15,>=2.14->tensorflow~=2.14.0->tensorflow-compression<2.15) (1.0.0)\n",
            "Requirement already satisfied: markdown>=2.6.8 in /usr/local/lib/python3.10/dist-packages (from tensorboard<2.15,>=2.14->tensorflow~=2.14.0->tensorflow-compression<2.15) (3.5.1)\n",
            "Requirement already satisfied: requests<3,>=2.21.0 in /usr/local/lib/python3.10/dist-packages (from tensorboard<2.15,>=2.14->tensorflow~=2.14.0->tensorflow-compression<2.15) (2.31.0)\n",
            "Requirement already satisfied: tensorboard-data-server<0.8.0,>=0.7.0 in /usr/local/lib/python3.10/dist-packages (from tensorboard<2.15,>=2.14->tensorflow~=2.14.0->tensorflow-compression<2.15) (0.7.2)\n",
            "Requirement already satisfied: werkzeug>=1.0.1 in /usr/local/lib/python3.10/dist-packages (from tensorboard<2.15,>=2.14->tensorflow~=2.14.0->tensorflow-compression<2.15) (3.0.1)\n",
            "Requirement already satisfied: cachetools<6.0,>=2.0.0 in /usr/local/lib/python3.10/dist-packages (from google-auth<3,>=1.6.3->tensorboard<2.15,>=2.14->tensorflow~=2.14.0->tensorflow-compression<2.15) (5.3.2)\n",
            "Requirement already satisfied: pyasn1-modules>=0.2.1 in /usr/local/lib/python3.10/dist-packages (from google-auth<3,>=1.6.3->tensorboard<2.15,>=2.14->tensorflow~=2.14.0->tensorflow-compression<2.15) (0.3.0)\n",
            "Requirement already satisfied: rsa<5,>=3.1.4 in /usr/local/lib/python3.10/dist-packages (from google-auth<3,>=1.6.3->tensorboard<2.15,>=2.14->tensorflow~=2.14.0->tensorflow-compression<2.15) (4.9)\n",
            "Requirement already satisfied: requests-oauthlib>=0.7.0 in /usr/local/lib/python3.10/dist-packages (from google-auth-oauthlib<1.1,>=0.5->tensorboard<2.15,>=2.14->tensorflow~=2.14.0->tensorflow-compression<2.15) (1.3.1)\n",
            "Requirement already satisfied: charset-normalizer<4,>=2 in /usr/local/lib/python3.10/dist-packages (from requests<3,>=2.21.0->tensorboard<2.15,>=2.14->tensorflow~=2.14.0->tensorflow-compression<2.15) (3.3.2)\n",
            "Requirement already satisfied: idna<4,>=2.5 in /usr/local/lib/python3.10/dist-packages (from requests<3,>=2.21.0->tensorboard<2.15,>=2.14->tensorflow~=2.14.0->tensorflow-compression<2.15) (3.6)\n",
            "Requirement already satisfied: urllib3<3,>=1.21.1 in /usr/local/lib/python3.10/dist-packages (from requests<3,>=2.21.0->tensorboard<2.15,>=2.14->tensorflow~=2.14.0->tensorflow-compression<2.15) (2.0.7)\n",
            "Requirement already satisfied: certifi>=2017.4.17 in /usr/local/lib/python3.10/dist-packages (from requests<3,>=2.21.0->tensorboard<2.15,>=2.14->tensorflow~=2.14.0->tensorflow-compression<2.15) (2023.11.17)\n",
            "Requirement already satisfied: MarkupSafe>=2.1.1 in /usr/local/lib/python3.10/dist-packages (from werkzeug>=1.0.1->tensorboard<2.15,>=2.14->tensorflow~=2.14.0->tensorflow-compression<2.15) (2.1.3)\n",
            "Requirement already satisfied: pyasn1<0.6.0,>=0.4.6 in /usr/local/lib/python3.10/dist-packages (from pyasn1-modules>=0.2.1->google-auth<3,>=1.6.3->tensorboard<2.15,>=2.14->tensorflow~=2.14.0->tensorflow-compression<2.15) (0.5.1)\n",
            "Requirement already satisfied: oauthlib>=3.0.0 in /usr/local/lib/python3.10/dist-packages (from requests-oauthlib>=0.7.0->google-auth-oauthlib<1.1,>=0.5->tensorboard<2.15,>=2.14->tensorflow~=2.14.0->tensorflow-compression<2.15) (3.2.2)\n",
            "Installing collected packages: tensorflow-compression\n",
            "Successfully installed tensorflow-compression-2.14.0\n"
          ]
        }
      ],
      "source": [
        "%%bash\n",
        "# Installs the latest version of TFC compatible with the installed TF version.\n",
        "\n",
        "read MAJOR MINOR <<< \"$(pip show tensorflow | perl -p -0777 -e 's/.*Version: (\\d+)\\.(\\d+).*/\\1 \\2/sg')\"\n",
        "pip install \"tensorflow-compression<$MAJOR.$(($MINOR+1))\""
      ]
    },
    {
      "cell_type": "code",
      "source": [
        "import matplotlib.pyplot as plt\n",
        "import tensorflow as tf\n",
        "import tensorflow_compression as tfc\n",
        "import tensorflow_datasets as tfds\n",
        "from keras.callbacks import Callback\n",
        "import numpy as np\n",
        "import keras\n",
        "import os\n",
        "from IPython.display import display, clear_output"
      ],
      "metadata": {
        "id": "PBgqFHcfHRn5"
      },
      "execution_count": 3,
      "outputs": []
    },
    {
      "cell_type": "code",
      "source": [
        "training_dataset, validation_dataset = tfds.load(\n",
        "    \"cifar10\",\n",
        "    split=[\"train[:80%]\", \"train[80%:]\"],\n",
        "    shuffle_files=True,\n",
        "    as_supervised=True,\n",
        "    with_info=False,\n",
        ")\n",
        "print(len(training_dataset), len(validation_dataset))"
      ],
      "metadata": {
        "id": "Fwcy1mksxb8P",
        "colab": {
          "base_uri": "https://localhost:8080/",
          "height": 165,
          "referenced_widgets": [
            "37d2f9e1dbf841c89d95fc32942d1b24",
            "3aa890726e9b4935800b1fff245a385c",
            "5fafd07de6d646a5ab9ee75f86a39681",
            "c4757aea2c1a4925b9070be33100acc6",
            "0c0d35b68573418aa0c38dba69735010",
            "47c51dedb0874acc933348cb4c30993d",
            "e7b2df960eb94bbb92218bd513ddac13",
            "d89df99cf134490491f54f82912355f6",
            "39ca10d6c89545e19a0eb9d5d4d7f68a",
            "cc35e9b7f3e940e88eb302852206f691",
            "aa57fe1fc3424d37baa0d1c50e51b3d5",
            "a3a3704454054e839a48c96c70552ba1",
            "6ce40f4895834c30a23f6c550065bf27",
            "e828222fe95e4816b122480447b75ca9",
            "708fe4fd2c404e33ad4110bbc386f7fc",
            "1bf81854c368411e9a2219912eeeba58",
            "a7167e2f53a54585b23848ac729866f9",
            "900b15c944fe456eb9af783104933232",
            "cdaeb438a6fc451cb0b2a20806237406",
            "4bfd3f11e0854b90a7cf00f8bc1fdb54",
            "e9e07a661cfa4c7e93dd8d89324eaaa7",
            "ac261453d3d74b70b374541fe05cacd7",
            "88caa8dd07894a3b9cb9d69b921d0dc7",
            "6d58660db1a5412c9bc08c1768b719dc",
            "7629d9eb105246d9ae0431b6476e775a",
            "f6c40870cea94cf898df2f4c711a20e3",
            "eeb7e266f0a8483dbc101f43c466aa4f",
            "751d0eebdad443b3a8b8ec5aa5d3c15a",
            "54861475f9b94e2b997c9b3825dc25c2",
            "4756d0f3ef0543f984a7604605615ab1",
            "410fb3d71ccd4c228d7f81060043199c",
            "63af707baaaa4e96879be4669eafcae0",
            "70bee1d0f6944db88872e978a7fe5f62",
            "d8c235423162492c896bd8717ab2d4bd",
            "f23845ae8d6542018337f2f0967bcc1b",
            "73be6f604844498a865a614cfb41557e",
            "7d450e83e2f5447b8ca8d1cb81970533",
            "f37502a02ee749019f8905a4c106ba96",
            "9f0b718f4f3f47e5a9140264ebf73f23",
            "3d9bea1573bb46bca68b03c4b8290c98",
            "5151e14eb5674bcaa9164b405db0a2a2",
            "a263bef35b0e412a985a53c282dad111",
            "d26f05f823df44fcb5f63a5e2ab89e5b",
            "a7c580a447804acc874e0a130341050d",
            "1c587fa54105493d89467a1234ac49ec",
            "480f73a42b7740b6a0fd4ce65c49dde4",
            "4090296713744bcb8a44e0cdabad89fa",
            "18a5986ebd2647ef88a7b5a150f3d6d7",
            "5182d812d0e143cd9e49aaa15c796ca5",
            "6a5403c73e5d43509d155a1fa5ec84bc",
            "a28c3dd8b9134c499221a0f9a78ddb5d",
            "99d1e50bffb64b12ad571d07ba27eea1",
            "56212140c76340c69119e1e6eab7637d",
            "441af6d23a814235985f81831194937f",
            "85ea08c366d84dceb2cb446f117267c8",
            "a76a7def60d64bd296fec37d830e9b29",
            "e60bdb146e9945ce8375ce01a2116b25",
            "9d9774b4544c4600b09eb85679e1f2c6",
            "f29bc6115b014ec9bca08e463e75b711",
            "adcd79d90e2b420297ecdf908ee3f130",
            "5e4d3ada242946d1bf88f12f555cb61c",
            "ab48171758ff451aaceb9b4f84d4d376",
            "2ad5aeabf78f4af28fcf06ce167e087d",
            "9f4b91180c2a4e00817235a604a7bc82",
            "d6352600d06d4f0dab67990dbaa99fe7",
            "7a359e2cc9f346a4a2b657b9d1ddd89f",
            "e843d174c81d4e62801ba57869167a12",
            "f7c2ed622dbd451ea17be9b60d4808c6",
            "9f0e65c2b5114b20bba8d8f03c5d1a1f",
            "97654352c0944555b0ac7692baca4f29",
            "efb72ea2f3d946339b0f69fd2908c6e5",
            "f1ca855ffd20422ebd6ce75388864662",
            "8a715d67061a44c7afdcbba165da9391",
            "8b73fc19faa64a46bb00580f52ecb88c",
            "a5d0ae2cfa664d51b6ddd17b53b63649",
            "5716bf15e4b54da6a1d5c646f248017b",
            "0f06a52a438e48ffa43730d5523d4ae1",
            "a510f52d9f9441e6941527c31f97f747",
            "f04e114df8a04bd88909f0e38963e62e",
            "8bd9e1fd013d44af8cbaa947ae7b6fbd",
            "71c247207c7e43f5b7d019f97c8fbed1",
            "5397b853d23b4f63bfe662a97951a2fc",
            "7f08de4d545a4ddf9b935d06058362d2",
            "c86cad1ca71f44f2bc74ea8432678caf",
            "9c7c5d7d5368429bad36080cdf7f34a2",
            "08f5ec0cf54c435d83042f7f6194c2e4",
            "4c6cdb83aea946ee898d5f1abe216eea",
            "fbd56f1da5e4462ca49dc1371a26a179"
          ]
        },
        "outputId": "743d14a8-2968-454a-baec-d326c0a01d44"
      },
      "execution_count": 4,
      "outputs": [
        {
          "output_type": "stream",
          "name": "stdout",
          "text": [
            "Downloading and preparing dataset 162.17 MiB (download: 162.17 MiB, generated: 132.40 MiB, total: 294.58 MiB) to /root/tensorflow_datasets/cifar10/3.0.2...\n"
          ]
        },
        {
          "output_type": "display_data",
          "data": {
            "text/plain": [
              "Dl Completed...: 0 url [00:00, ? url/s]"
            ],
            "application/vnd.jupyter.widget-view+json": {
              "version_major": 2,
              "version_minor": 0,
              "model_id": "37d2f9e1dbf841c89d95fc32942d1b24"
            }
          },
          "metadata": {}
        },
        {
          "output_type": "display_data",
          "data": {
            "text/plain": [
              "Dl Size...: 0 MiB [00:00, ? MiB/s]"
            ],
            "application/vnd.jupyter.widget-view+json": {
              "version_major": 2,
              "version_minor": 0,
              "model_id": "a3a3704454054e839a48c96c70552ba1"
            }
          },
          "metadata": {}
        },
        {
          "output_type": "display_data",
          "data": {
            "text/plain": [
              "Extraction completed...: 0 file [00:00, ? file/s]"
            ],
            "application/vnd.jupyter.widget-view+json": {
              "version_major": 2,
              "version_minor": 0,
              "model_id": "88caa8dd07894a3b9cb9d69b921d0dc7"
            }
          },
          "metadata": {}
        },
        {
          "output_type": "display_data",
          "data": {
            "text/plain": [
              "Generating splits...:   0%|          | 0/2 [00:00<?, ? splits/s]"
            ],
            "application/vnd.jupyter.widget-view+json": {
              "version_major": 2,
              "version_minor": 0,
              "model_id": "d8c235423162492c896bd8717ab2d4bd"
            }
          },
          "metadata": {}
        },
        {
          "output_type": "display_data",
          "data": {
            "text/plain": [
              "Generating train examples...:   0%|          | 0/50000 [00:00<?, ? examples/s]"
            ],
            "application/vnd.jupyter.widget-view+json": {
              "version_major": 2,
              "version_minor": 0,
              "model_id": "1c587fa54105493d89467a1234ac49ec"
            }
          },
          "metadata": {}
        },
        {
          "output_type": "display_data",
          "data": {
            "text/plain": [
              "Shuffling /root/tensorflow_datasets/cifar10/3.0.2.incomplete527WVX/cifar10-train.tfrecord*...:   0%|          …"
            ],
            "application/vnd.jupyter.widget-view+json": {
              "version_major": 2,
              "version_minor": 0,
              "model_id": "a76a7def60d64bd296fec37d830e9b29"
            }
          },
          "metadata": {}
        },
        {
          "output_type": "display_data",
          "data": {
            "text/plain": [
              "Generating test examples...:   0%|          | 0/10000 [00:00<?, ? examples/s]"
            ],
            "application/vnd.jupyter.widget-view+json": {
              "version_major": 2,
              "version_minor": 0,
              "model_id": "e843d174c81d4e62801ba57869167a12"
            }
          },
          "metadata": {}
        },
        {
          "output_type": "display_data",
          "data": {
            "text/plain": [
              "Shuffling /root/tensorflow_datasets/cifar10/3.0.2.incomplete527WVX/cifar10-test.tfrecord*...:   0%|          |…"
            ],
            "application/vnd.jupyter.widget-view+json": {
              "version_major": 2,
              "version_minor": 0,
              "model_id": "a510f52d9f9441e6941527c31f97f747"
            }
          },
          "metadata": {}
        },
        {
          "output_type": "stream",
          "name": "stdout",
          "text": [
            "Dataset cifar10 downloaded and prepared to /root/tensorflow_datasets/cifar10/3.0.2. Subsequent calls will reuse this data.\n",
            "40000 10000\n"
          ]
        }
      ]
    },
    {
      "cell_type": "code",
      "source": [
        "for image, label in training_dataset.take(1):\n",
        "    # Display the image\n",
        "    plt.imshow(image)\n",
        "    plt.title(f\"Label: {label.numpy()}\")\n",
        "    plt.show()"
      ],
      "metadata": {
        "id": "3GUhiS2i_Xxh",
        "outputId": "cad63a43-f3c1-42c7-c361-1d9914e9a7e2",
        "colab": {
          "base_uri": "https://localhost:8080/",
          "height": 452
        }
      },
      "execution_count": 5,
      "outputs": [
        {
          "output_type": "display_data",
          "data": {
            "text/plain": [
              "<Figure size 640x480 with 1 Axes>"
            ],
            "image/png": "[encoded data removed]"
          },
          "metadata": {}
        }
      ]
    },
    {
      "cell_type": "code",
      "source": [
        "PRE_LATENT_SIZE = 2000\n",
        "LATENT_SIZE = 100\n",
        "EPOCHS = 100\n",
        "LAMBDA = 500 #10000\n",
        "\n",
        "# Original proposal.\n",
        "#\n",
        "# Analysis Transform architecture:\n",
        "#\n",
        "#            Ouput\n",
        "#  Number  Feature\n",
        "#      of      Map\n",
        "# Neurons    Shape   Name Info\n",
        "# ======= ======== ====== =============...\n",
        "#       0  32*32*3      - Input: (height * width * depth)\n",
        "#      20 16*16*20 conv_1 Conv2D(filters=20, kernel_size=5, strides=(2, 2), padding=\"yes\"), 3 input channels of size 32*32, 5*5*3*20 + 20 = 1520 parameters\n",
        "#      50   8*8*50 conv_2 Conv2D(filters=50, kernel_size=5, strides=(2, 2), padding=\"yes\"), 20 input channels of size 16*16, 5*5*20*50 + 50 = 25050 parameters\n",
        "#    2000     2000   fc_1 Dense(units=2000), 8*8*50*2000 + 2000 = 3200*2000 + 2000 = 6402000 parameters\n",
        "#     100      100   fc_2 Dense(units=100), 2000*100 + 100 = 200100 parameters\n",
        "\n",
        "def make_analysis_transform(latent_dims=LATENT_SIZE):\n",
        "  \"\"\"Creates the analysis (encoder) transform.\"\"\"\n",
        "  encoder = tf.keras.Sequential([\n",
        "      tf.keras.layers.Conv2D(\n",
        "          20, 5, use_bias=True, strides=2, padding=\"same\",\n",
        "          activation=\"leaky_relu\", name=\"conv_1\"),\n",
        "      tf.keras.layers.Conv2D(\n",
        "          50, 5, use_bias=True, strides=2, padding=\"same\",\n",
        "          activation=\"leaky_relu\", name=\"conv_2\"),\n",
        "      tf.keras.layers.Flatten(),\n",
        "      tf.keras.layers.Dense(\n",
        "          PRE_LATENT_SIZE, use_bias=True, activation=\"leaky_relu\", name=\"fc_1\"),\n",
        "      tf.keras.layers.Dense(\n",
        "          latent_dims, use_bias=True, activation=None, name=\"fc_2\"),\n",
        "  ], name=\"analysis_transform\")\n",
        "  return encoder\n",
        "\n",
        "# Synthesis Transform architecture:\n",
        "#\n",
        "#           Output\n",
        "#  Number  Feature\n",
        "#      of      Map\n",
        "# Neurons    Shape   Name Info\n",
        "# ======= ======== ====== =============...\n",
        "#       0      100      - Input: (100)\n",
        "#    2000     2000   fc_1 Dense(units=2000), 100*2000 + 2000 = 202000 parameters\n",
        "#    3200     3200   fc_2 Dense(units=3200), 2000*3200 + 3200 = 6403200 parameters, 8*8*50 = 3200\n",
        "#      20 16*16*20 conv_1 Conv2DTranspose(filters=20, kernel_size=5, strides=(2, 2), padding=\"yes\"), 50 input channels of size 8*8, 5*5*50*20 + 20 = 25020 parameters\n",
        "#       3  32*32*3 conv_2 Conv2DTranspose(filters=3, kernel_size=5, strides=(2, 2), padding=\"yes\"), 20 input channels of size 16*16, 5*5*20*3 + 3 = 1503 parameters\n",
        "\n",
        "def make_synthesis_transform():\n",
        "  \"\"\"Creates the synthesis (decoder) transform.\"\"\"\n",
        "  decoder = tf.keras.Sequential([\n",
        "      tf.keras.layers.Dense(\n",
        "          PRE_LATENT_SIZE, use_bias=True, activation=\"leaky_relu\", name=\"fc_1\"),\n",
        "      tf.keras.layers.Dense(\n",
        "          3200, use_bias=True, activation=\"leaky_relu\", name=\"fc_2\"),\n",
        "      tf.keras.layers.Reshape((8, 8, 50)),\n",
        "      tf.keras.layers.Conv2DTranspose(\n",
        "          20, 5, use_bias=True, strides=2, padding=\"same\",\n",
        "          activation=\"leaky_relu\", name=\"conv_1\"),\n",
        "      tf.keras.layers.Conv2DTranspose(\n",
        "          3, 5, use_bias=True, strides=2, padding=\"same\",\n",
        "          activation=\"leaky_relu\", name=\"conv_2\"),\n",
        "  ], name=\"synthesis_transform\")\n",
        "  return decoder\n",
        "\n",
        "# R=0.31640625 D=19.109853744506836, epoch 10, LAMBDA=500"
      ],
      "metadata": {
        "id": "hR1FuCxIapW-"
      },
      "execution_count": 6,
      "outputs": []
    },
    {
      "cell_type": "code",
      "source": [
        "PRE_LATENT_SIZE = 2000\n",
        "LATENT_SIZE = 100\n",
        "EPOCHS = 10\n",
        "\n",
        "# Same architecture, but using strides=1.\n",
        "#\n",
        "# Analysis Transform architecture:\n",
        "#\n",
        "#            Ouput\n",
        "#  Number  Feature\n",
        "#      of      Map\n",
        "# Neurons    Shape   Name Info\n",
        "# ======= ======== ====== =============...\n",
        "#       0  32*32*3      - Input: (height * width * depth)\n",
        "#      20 32*32*20 conv_1 Conv2D(filters=20, kernel_size=5, strides=(1, 1), padding=\"yes\"), 3 input channels of size 32*32, 5*5*3*20 + 20 = 1520 parameters\n",
        "#      50 32*32*50 conv_2 Conv2D(filters=50, kernel_size=5, strides=(1, 1), padding=\"yes\"), 20 input channels of size 32*32, 5*5*20*50 + 50 = 25050 parameters\n",
        "#    2000     2000   fc_1 Dense(units=2000), 32*32*50*2000 + 2000 = 51200*2000 + 2000 = 102402000 parameters\n",
        "#     100      100   fc_2 Dense(units=100), 2000*100 + 100 = 200100 parameters\n",
        "\n",
        "def make_analysis_transform(latent_dims=LATENT_SIZE):\n",
        "  \"\"\"Creates the analysis (encoder) transform.\"\"\"\n",
        "  encoder = tf.keras.Sequential([\n",
        "      tf.keras.layers.Conv2D(\n",
        "          20, 5, use_bias=True, strides=1, padding=\"same\",\n",
        "          activation=\"leaky_relu\", name=\"conv_1\"),\n",
        "      tf.keras.layers.Conv2D(\n",
        "          50, 5, use_bias=True, strides=1, padding=\"same\",\n",
        "          activation=\"leaky_relu\", name=\"conv_2\"),\n",
        "      tf.keras.layers.Flatten(),\n",
        "      tf.keras.layers.Dense(\n",
        "          PRE_LATENT_SIZE, use_bias=True, activation=\"leaky_relu\", name=\"fc_1\"),\n",
        "      tf.keras.layers.Dense(\n",
        "          latent_dims, use_bias=True, activation=None, name=\"fc_2\"),\n",
        "  ], name=\"analysis_transform\")\n",
        "  return encoder\n",
        "\n",
        "# Synthesis Transform architecture:\n",
        "#\n",
        "#           Output\n",
        "#  Number  Feature\n",
        "#      of      Map\n",
        "# Neurons    Shape   Name Info\n",
        "# ======= ======== ====== =============...\n",
        "#       0      100      - Input: (100)\n",
        "#    2000     2000   fc_1 Dense(units=2000), 100*2000 + 2000 = 202000 parameters\n",
        "#    3200     3200   fc_2 Dense(units=3200), 2000*51200 + 51200 = 102451200 parameters, 32*32*50 = 51200\n",
        "#      20 32*32*20 conv_1 Conv2DTranspose(filters=20, kernel_size=5, strides=(1, 1), padding=\"yes\"), 50 input channels of size 32*32, 5*5*50*20 + 20 = 25020 parameters\n",
        "#       3  32*32*3 conv_2 Conv2DTranspose(filters=3, kernel_size=5, strides=(1, 1), padding=\"yes\"), 20 input channels of size 32*32, 5*5*20*3 + 3 = 1503 parameters\n",
        "\n",
        "def make_synthesis_transform():\n",
        "  \"\"\"Creates the synthesis (decoder) transform.\"\"\"\n",
        "  decoder = tf.keras.Sequential([\n",
        "      tf.keras.layers.Dense(\n",
        "          PRE_LATENT_SIZE, use_bias=True, activation=\"leaky_relu\", name=\"fc_1\"),\n",
        "      tf.keras.layers.Dense(\n",
        "          51200, use_bias=True, activation=\"leaky_relu\", name=\"fc_2\"),\n",
        "      tf.keras.layers.Reshape((32, 32, 50)),\n",
        "      tf.keras.layers.Conv2DTranspose(\n",
        "          20, 5, use_bias=True, strides=1, padding=\"same\",\n",
        "          activation=\"leaky_relu\", name=\"conv_1\"),\n",
        "      tf.keras.layers.Conv2DTranspose(\n",
        "          3, 5, use_bias=True, strides=1, padding=\"same\",\n",
        "          activation=\"leaky_relu\", name=\"conv_2\"),\n",
        "  ], name=\"synthesis_transform\")\n",
        "  return decoder\n",
        "\n",
        "# R=0.3193359375 D=18.908967971801758, epoch 6, LAMBDA=500"
      ],
      "metadata": {
        "id": "sNCM4SHWjkQo"
      },
      "execution_count": 7,
      "outputs": []
    },
    {
      "cell_type": "code",
      "source": [
        "EPOCHS = 100\n",
        "LAMBDA = 500 #10000\n",
        "LATENT_SIZE = 8*8*50\n",
        "\n",
        "# Using only convolutional layers, strides=2.\n",
        "#\n",
        "# Analysis Transform architecture:\n",
        "#\n",
        "#            Ouput\n",
        "#  Number  Feature\n",
        "#      of      Map\n",
        "# Neurons    Shape   Name Info\n",
        "# ======= ======== ====== =============...\n",
        "#       0  32*32*3      - Input: (height * width * depth)\n",
        "#      20 16*16*20 conv_1 Conv2D(filters=20, kernel_size=5, strides=(2, 2), padding=\"yes\"), 3 input channels of size 32*32, 5*5*3*20 + 20 = 1520 parameters\n",
        "#      50   8*8*50 conv_2 Conv2D(filters=50, kernel_size=5, strides=(2, 2), padding=\"yes\"), 20 input channels of size 16*16, 5*5*20*50 + 50 = 25050 parameters\n",
        "\n",
        "def make_analysis_transform(latent_dims):\n",
        "  \"\"\"Creates the analysis (encoder) transform.\"\"\"\n",
        "  encoder = tf.keras.Sequential([\n",
        "      tf.keras.layers.Conv2D(\n",
        "          20, 5, use_bias=True, strides=2, padding=\"same\",\n",
        "          activation=\"leaky_relu\", name=\"conv_1\"),\n",
        "      tf.keras.layers.Conv2D(\n",
        "          50, 5, use_bias=True, strides=2, padding=\"same\",\n",
        "          activation=\"leaky_relu\", name=\"conv_2\"),\n",
        "      tf.keras.layers.Flatten(),\n",
        "  ], name=\"analysis_transform\")\n",
        "  return encoder\n",
        "\n",
        "# Synthesis Transform architecture:\n",
        "#\n",
        "#           Output\n",
        "#  Number  Feature\n",
        "#      of      Map\n",
        "# Neurons    Shape   Name Info\n",
        "# ======= ======== ====== =============...\n",
        "#       0   8*8*50      - Input: (3200)\n",
        "#      20 16*16*20 conv_1 Conv2DTranspose(filters=20, kernel_size=5, strides=(2, 2), padding=\"yes\"), 50 input channels of size 8*8, 5*5*50*20 + 20 = 25020 parameters\n",
        "#       3  32*32*3 conv_2 Conv2DTranspose(filters=3, kernel_size=5, strides=(2, 2), padding=\"yes\"), 20 input channels of size 16*16, 5*5*20*3 + 3 = 1503 parameters\n",
        "\n",
        "def make_synthesis_transform():\n",
        "  \"\"\"Creates the synthesis (decoder) transform.\"\"\"\n",
        "  decoder = tf.keras.Sequential([\n",
        "      tf.keras.layers.Reshape((8, 8, 50)),\n",
        "      tf.keras.layers.Conv2DTranspose(\n",
        "          20, 5, use_bias=True, strides=2, padding=\"same\",\n",
        "          activation=\"leaky_relu\", name=\"conv_1\"),\n",
        "      tf.keras.layers.Conv2DTranspose(\n",
        "          3, 5, use_bias=True, strides=2, padding=\"same\",\n",
        "          activation=\"leaky_relu\", name=\"conv_2\"),\n",
        "  ], name=\"synthesis_transform\")\n",
        "  return decoder\n",
        "\n",
        "# R=9.2236328125 D=6.935627460479736, epoch 25, LAMBDA=500"
      ],
      "metadata": {
        "id": "xTjUaqdejtJb"
      },
      "execution_count": 8,
      "outputs": []
    },
    {
      "cell_type": "code",
      "source": [
        "EPOCHS = 100\n",
        "LAMBDA = 500 #10000\n",
        "LATENT_SIZE = 32*32*50\n",
        "\n",
        "# Using only convolutional layers, strides=1.\n",
        "#\n",
        "# Analysis Transform architecture:\n",
        "#\n",
        "#            Ouput\n",
        "#  Number  Feature\n",
        "#      of      Map\n",
        "# Neurons    Shape   Name Info\n",
        "# ======= ======== ====== =============...\n",
        "#       0  32*32*3      - Input: (height * width * depth)\n",
        "#      20 32*32*20 conv_1 Conv2D(filters=20, kernel_size=5, strides=(1, 1), padding=\"yes\"), 3 input channels of size 32*32, 5*5*3*20 + 20 = 1520 parameters\n",
        "#      50 32*32*50 conv_2 Conv2D(filters=50, kernel_size=5, strides=(1, 1), padding=\"yes\"), 20 input channels of size 32*32, 5*5*20*50 + 50 = 25050 parameters\n",
        "\n",
        "def make_analysis_transform(latent_dims=100):\n",
        "  \"\"\"Creates the analysis (encoder) transform.\"\"\"\n",
        "  encoder = tf.keras.Sequential([\n",
        "      tf.keras.layers.Conv2D(\n",
        "          20, 5, use_bias=True, strides=1, padding=\"same\",\n",
        "          activation=\"leaky_relu\", name=\"conv_1\"),\n",
        "      tf.keras.layers.Conv2D(\n",
        "          50, 5, use_bias=True, strides=1, padding=\"same\",\n",
        "          activation=\"leaky_relu\", name=\"conv_2\"),\n",
        "      tf.keras.layers.Flatten(),\n",
        "  ], name=\"analysis_transform\")\n",
        "  return encoder\n",
        "\n",
        "# Synthesis Transform architecture:\n",
        "#\n",
        "#           Output\n",
        "#  Number  Feature\n",
        "#      of      Map\n",
        "# Neurons    Shape   Name Info\n",
        "# ======= ======== ====== =============...\n",
        "#       0 32*32*50      - Input: (3200)\n",
        "#      20 32*32*20 conv_1 Conv2DTranspose(filters=20, kernel_size=5, strides=(2, 2), padding=\"yes\"), 50 input channels of size 8*8, 5*5*50*20 + 20 = 25020 parameters\n",
        "#       3  32*32*3 conv_2 Conv2DTranspose(filters=3, kernel_size=5, strides=(2, 2), padding=\"yes\"), 20 input channels of size 16*16, 5*5*20*3 + 3 = 1503 parameters\n",
        "\n",
        "def make_synthesis_transform():\n",
        "  \"\"\"Creates the synthesis (decoder) transform.\"\"\"\n",
        "  decoder = tf.keras.Sequential([\n",
        "      tf.keras.layers.Reshape((32, 32, 50)),\n",
        "      tf.keras.layers.Conv2DTranspose(\n",
        "          20, 5, use_bias=True, strides=1, padding=\"same\",\n",
        "          activation=\"leaky_relu\", name=\"conv_1\"),\n",
        "      tf.keras.layers.Conv2DTranspose(\n",
        "          3, 5, use_bias=True, strides=1, padding=\"same\",\n",
        "          activation=\"leaky_relu\", name=\"conv_2\"),\n",
        "  ], name=\"synthesis_transform\")\n",
        "  return decoder\n",
        "\n",
        "# Min val_loss: 18.3088, epoch 100, LAMBDA=500"
      ],
      "metadata": {
        "id": "2OifL8qZHU9L"
      },
      "execution_count": 9,
      "outputs": []
    },
    {
      "cell_type": "code",
      "source": [
        "EPOCHS = 100\n",
        "LAMBDA = 500 #10000\n",
        "PRE_LATENT_SIZE = 4096\n",
        "LATENT_SIZE = 256\n",
        "\n",
        "# Original proposal.\n",
        "#\n",
        "# Analysis Transform architecture:\n",
        "#\n",
        "#             Ouput\n",
        "#  Number   Feature\n",
        "#      of       Map\n",
        "# Neurons     Shape   Name Info\n",
        "# ======= ========= ====== =============...\n",
        "#       0   32*32*3      - Input: (height * width * depth)\n",
        "#     256 16*16*256 conv_1 Conv2D(filters=256, kernel_size=5, strides=(2, 2), padding=\"yes\"), 3 input channels of size 32*32, 5*5*3*256 + 256 = 19456 parameters\n",
        "#     256   8*8*256 conv_2 Conv2D(filters=256, kernel_size=5, strides=(2, 2), padding=\"yes\"), 256 input channels of size 16*16, 5*5*256*256 + 256 = 1638656 parameters\n",
        "#    4096      4096   fc_1 Dense(units=4096), 8*8*256*4096 + 4096 = 16384*4096 + 4096 = 67112960 parameters\n",
        "#     256       256   fc_2 Dense(units=256), 4096*256 + 256 = 1048832 parameters\n",
        "\n",
        "def make_analysis_transform(latent_dims=LATENT_SIZE):\n",
        "  \"\"\"Creates the analysis (encoder) transform.\"\"\"\n",
        "  encoder = tf.keras.Sequential([\n",
        "      tf.keras.layers.Conv2D(\n",
        "          256, 5, use_bias=True, strides=2, padding=\"same\",\n",
        "          activation=\"leaky_relu\", name=\"conv_1\"),\n",
        "      tf.keras.layers.Conv2D(\n",
        "          256, 5, use_bias=True, strides=2, padding=\"same\",\n",
        "          activation=\"leaky_relu\", name=\"conv_2\"),\n",
        "      tf.keras.layers.Flatten(),\n",
        "      tf.keras.layers.Dense(\n",
        "          PRE_LATENT_SIZE, use_bias=True, activation=\"leaky_relu\", name=\"fc_1\"),\n",
        "      tf.keras.layers.Dense(\n",
        "          latent_dims, use_bias=True, activation=None, name=\"fc_2\"),\n",
        "  ], name=\"analysis_transform\")\n",
        "  return encoder\n",
        "\n",
        "# Synthesis Transform architecture:\n",
        "#\n",
        "#           Output\n",
        "#  Number  Feature\n",
        "#      of      Map\n",
        "# Neurons    Shape   Name Info\n",
        "# ======= ======== ====== =============...\n",
        "#       0      256      - Input: (256)\n",
        "#    4096     4096   fc_1 Dense(units=4096), 256*4096 + 4096 = 1052672 parameters\n",
        "# 8*8*256    16384   fc_2 Dense(units=8*8*256), 2000*3200 + 3200 = 6403200 parameters, 8*8*50 = 3200 <------------------\n",
        "#      20 16*16*20 conv_1 Conv2DTranspose(filters=20, kernel_size=5, strides=(2, 2), padding=\"yes\"), 50 input channels of size 8*8, 5*5*50*20 + 20 = 25020 parameters\n",
        "#       3  32*32*3 conv_2 Conv2DTranspose(filters=3, kernel_size=5, strides=(2, 2), padding=\"yes\"), 20 input channels of size 16*16, 5*5*20*3 + 3 = 1503 parameters\n",
        "\n",
        "'''\n",
        "___________________________\n",
        "Model: \"synthesis_transform\"\n",
        "_________________________________________________________________\n",
        " Layer (type)                Output Shape              Param #\n",
        "=================================================================\n",
        " fc_1 (Dense)                (None, 4096)              1052672\n",
        "\n",
        " fc_2 (Dense)                (None, 16384)             67125248\n",
        "\n",
        " reshape (Reshape)           (None, 8, 8, 256)         0\n",
        "\n",
        " conv_1 (Conv2DTranspose)    (None, 16, 16, 256)       1638656\n",
        "\n",
        " conv_2 (Conv2DTranspose)    (None, 32, 32, 3)         19203\n",
        "\n",
        "=================================================================\n",
        "Total params: 69835779 (266.40 MB)\n",
        "Trainable params: 69835779 (266.40 MB)\n",
        "Non-trainable params: 0 (0.00 Byte)\n",
        "'''\n",
        "def make_synthesis_transform():\n",
        "  \"\"\"Creates the synthesis (decoder) transform.\"\"\"\n",
        "  decoder = tf.keras.Sequential([\n",
        "      tf.keras.layers.Dense(\n",
        "          PRE_LATENT_SIZE, use_bias=True, activation=\"leaky_relu\", name=\"fc_1\"),\n",
        "      tf.keras.layers.Dense(\n",
        "          256*8*8, use_bias=True, activation=\"leaky_relu\", name=\"fc_2\"),\n",
        "      tf.keras.layers.Reshape((8, 8, 256)),\n",
        "      tf.keras.layers.Conv2DTranspose(\n",
        "          256, 5, use_bias=True, strides=2, padding=\"same\",\n",
        "          activation=\"leaky_relu\", name=\"conv_1\"),\n",
        "      tf.keras.layers.Conv2DTranspose(\n",
        "          3, 5, use_bias=True, strides=2, padding=\"same\",\n",
        "          activation=\"leaky_relu\", name=\"conv_2\"),\n",
        "  ], name=\"synthesis_transform\")\n",
        "  return decoder\n",
        "\n",
        "# R=0.80078125 D=17.01704216003418, epoch 17, LAMBDA=500"
      ],
      "metadata": {
        "id": "KIsfvD_MjlKr"
      },
      "execution_count": 10,
      "outputs": []
    },
    {
      "cell_type": "code",
      "source": [
        "'''PRE_LATENT_SIZE = 2000\n",
        "LATENT_SIZE = 100\n",
        "\n",
        "def make_analysis_transform(latent_dims=LATENT_SIZE):\n",
        "  \"\"\"Creates the analysis (encoder) transform.\"\"\"\n",
        "  encoder = tf.keras.Sequential([\n",
        "      tf.keras.layers.Conv2D(\n",
        "          64, 5, use_bias=True, strides=2, padding=\"same\",\n",
        "          activation=\"leaky_relu\", name=\"conv_1\"),\n",
        "      tf.keras.layers.Conv2D(\n",
        "          128, 5, use_bias=True, strides=2, padding=\"same\",\n",
        "          activation=\"leaky_relu\", name=\"conv_2\"),\n",
        "      tf.keras.layers.Flatten(),\n",
        "      tf.keras.layers.Dense(\n",
        "          PRE_LATENT_SIZE, use_bias=True, activation=\"leaky_relu\", name=\"fc_1\"),\n",
        "      tf.keras.layers.Dense(\n",
        "          latent_dims, use_bias=True, activation=None, name=\"fc_2\"),\n",
        "  ], name=\"analysis_transform\")\n",
        "  return encoder\n",
        "\n",
        "def make_synthesis_transform():\n",
        "  \"\"\"Creates the synthesis (decoder) transform.\"\"\"\n",
        "  decoder = tf.keras.Sequential([\n",
        "      tf.keras.layers.Dense(\n",
        "          PRE_LATENT_SIZE, use_bias=True, activation=\"leaky_relu\", name=\"fc_1\"),\n",
        "      tf.keras.layers.Dense(\n",
        "          128*8*8, use_bias=True, activation=\"leaky_relu\", name=\"fc_2\"),\n",
        "      tf.keras.layers.Reshape((8, 8, 128)),\n",
        "      tf.keras.layers.Conv2DTranspose(\n",
        "          64, 5, use_bias=True, strides=2, padding=\"same\",\n",
        "          activation=\"leaky_relu\", name=\"conv_1\"),\n",
        "      tf.keras.layers.Conv2DTranspose(\n",
        "          3, 5, use_bias=True, strides=2, padding=\"same\",\n",
        "          activation=\"leaky_relu\", name=\"conv_2\"),\n",
        "  ], name=\"synthesis_transform\")\n",
        "  return decoder'''"
      ],
      "metadata": {
        "id": "0XbaxX7hjtSp",
        "colab": {
          "base_uri": "https://localhost:8080/",
          "height": 105
        },
        "outputId": "5726f211-7fa2-4f59-dad8-4d0cd2623e2a"
      },
      "execution_count": 11,
      "outputs": [
        {
          "output_type": "execute_result",
          "data": {
            "text/plain": [
              "'PRE_LATENT_SIZE = 2000\\nLATENT_SIZE = 100\\n\\ndef make_analysis_transform(latent_dims=LATENT_SIZE):\\n  \"\"\"Creates the analysis (encoder) transform.\"\"\"\\n  encoder = tf.keras.Sequential([\\n      tf.keras.layers.Conv2D(\\n          64, 5, use_bias=True, strides=2, padding=\"same\",\\n          activation=\"leaky_relu\", name=\"conv_1\"),\\n      tf.keras.layers.Conv2D(\\n          128, 5, use_bias=True, strides=2, padding=\"same\",\\n          activation=\"leaky_relu\", name=\"conv_2\"),\\n      tf.keras.layers.Flatten(),\\n      tf.keras.layers.Dense(\\n          PRE_LATENT_SIZE, use_bias=True, activation=\"leaky_relu\", name=\"fc_1\"),\\n      tf.keras.layers.Dense(\\n          latent_dims, use_bias=True, activation=None, name=\"fc_2\"),\\n  ], name=\"analysis_transform\")\\n  return encoder\\n\\ndef make_synthesis_transform():\\n  \"\"\"Creates the synthesis (decoder) transform.\"\"\"\\n  decoder = tf.keras.Sequential([\\n      tf.keras.layers.Dense(\\n          PRE_LATENT_SIZE, use_bias=True, activation=\"leaky_relu\", name=\"fc_1\"),\\n      tf.keras.layers.Dense(\\n          128*8*8, use_bias=True, activation=\"leaky_relu\", name=\"fc_2\"),\\n      tf.keras.layers.Reshape((8, 8, 128)),\\n      tf.keras.layers.Conv2DTranspose(\\n          64, 5, use_bias=True, strides=2, padding=\"same\",\\n          activation=\"leaky_relu\", name=\"conv_1\"),\\n      tf.keras.layers.Conv2DTranspose(\\n          3, 5, use_bias=True, strides=2, padding=\"same\",\\n          activation=\"leaky_relu\", name=\"conv_2\"),\\n  ], name=\"synthesis_transform\")\\n  return decoder'"
            ],
            "application/vnd.google.colaboratory.intrinsic+json": {
              "type": "string"
            }
          },
          "metadata": {},
          "execution_count": 11
        }
      ]
    },
    {
      "cell_type": "code",
      "source": [
        "'''PRE_LATENT_SIZE = 4096\n",
        "LATENT_SIZE = 256\n",
        "\n",
        "def make_analysis_transform(latent_dims=LATENT_SIZE):\n",
        "  \"\"\"Creates the analysis (encoder) transform.\"\"\"\n",
        "  encoder = tf.keras.Sequential([\n",
        "      tf.keras.layers.Conv2D(\n",
        "          128, 5, use_bias=True, strides=2, padding=\"same\",\n",
        "          activation=\"leaky_relu\", name=\"conv_1\"),\n",
        "      tf.keras.layers.Conv2D(\n",
        "          256, 5, use_bias=True, strides=2, padding=\"same\",\n",
        "          activation=\"leaky_relu\", name=\"conv_2\"),\n",
        "      tf.keras.layers.Conv2D(\n",
        "          512, 5, use_bias=True, strides=2, padding=\"same\",\n",
        "          activation=\"leaky_relu\", name=\"conv_3\"),\n",
        "      tf.keras.layers.Flatten(),\n",
        "      tf.keras.layers.Dense(\n",
        "          PRE_LATENT_SIZE, use_bias=True, activation=\"leaky_relu\", name=\"fc_1\"),\n",
        "      tf.keras.layers.Dense(\n",
        "          latent_dims, use_bias=True, activation=None, name=\"fc_2\"),\n",
        "  ], name=\"analysis_transform\")\n",
        "  return encoder\n",
        "\n",
        "def make_synthesis_transform():\n",
        "  \"\"\"Creates the synthesis (decoder) transform.\"\"\"\n",
        "  decoder = tf.keras.Sequential([\n",
        "      tf.keras.layers.Dense(\n",
        "          PRE_LATENT_SIZE, use_bias=True, activation=\"leaky_relu\", name=\"fc_1\"),\n",
        "      tf.keras.layers.Dense(\n",
        "          512*4*4, use_bias=True, activation=\"leaky_relu\", name=\"fc_2\"),\n",
        "      tf.keras.layers.Reshape((4, 4, 512)),\n",
        "      tf.keras.layers.Conv2DTranspose(\n",
        "          256, 5, use_bias=True, strides=2, padding=\"same\",\n",
        "          activation=\"leaky_relu\", name=\"conv_1\"),\n",
        "      tf.keras.layers.Conv2DTranspose(\n",
        "          128, 5, use_bias=True, strides=2, padding=\"same\",\n",
        "          activation=\"leaky_relu\", name=\"conv_2\"),\n",
        "      tf.keras.layers.Conv2DTranspose(\n",
        "          3, 5, use_bias=True, strides=2, padding=\"same\",\n",
        "          activation=\"leaky_relu\", name=\"conv_3\"),\n",
        "  ], name=\"synthesis_transform\")\n",
        "  return decoder'''"
      ],
      "metadata": {
        "id": "f_05-T_Dn_ye",
        "colab": {
          "base_uri": "https://localhost:8080/",
          "height": 105
        },
        "outputId": "da0df156-e157-4424-db1e-e3364507026a"
      },
      "execution_count": 12,
      "outputs": [
        {
          "output_type": "execute_result",
          "data": {
            "text/plain": [
              "'PRE_LATENT_SIZE = 4096\\nLATENT_SIZE = 256\\n\\ndef make_analysis_transform(latent_dims=LATENT_SIZE):\\n  \"\"\"Creates the analysis (encoder) transform.\"\"\"\\n  encoder = tf.keras.Sequential([\\n      tf.keras.layers.Conv2D(\\n          128, 5, use_bias=True, strides=2, padding=\"same\",\\n          activation=\"leaky_relu\", name=\"conv_1\"),\\n      tf.keras.layers.Conv2D(\\n          256, 5, use_bias=True, strides=2, padding=\"same\",\\n          activation=\"leaky_relu\", name=\"conv_2\"),\\n      tf.keras.layers.Conv2D(\\n          512, 5, use_bias=True, strides=2, padding=\"same\",\\n          activation=\"leaky_relu\", name=\"conv_3\"),\\n      tf.keras.layers.Flatten(),\\n      tf.keras.layers.Dense(\\n          PRE_LATENT_SIZE, use_bias=True, activation=\"leaky_relu\", name=\"fc_1\"),\\n      tf.keras.layers.Dense(\\n          latent_dims, use_bias=True, activation=None, name=\"fc_2\"),\\n  ], name=\"analysis_transform\")\\n  return encoder\\n\\ndef make_synthesis_transform():\\n  \"\"\"Creates the synthesis (decoder) transform.\"\"\"\\n  decoder = tf.keras.Sequential([\\n      tf.keras.layers.Dense(\\n          PRE_LATENT_SIZE, use_bias=True, activation=\"leaky_relu\", name=\"fc_1\"),\\n      tf.keras.layers.Dense(\\n          512*4*4, use_bias=True, activation=\"leaky_relu\", name=\"fc_2\"),\\n      tf.keras.layers.Reshape((4, 4, 512)),\\n      tf.keras.layers.Conv2DTranspose(\\n          256, 5, use_bias=True, strides=2, padding=\"same\",\\n          activation=\"leaky_relu\", name=\"conv_1\"),\\n      tf.keras.layers.Conv2DTranspose(\\n          128, 5, use_bias=True, strides=2, padding=\"same\",\\n          activation=\"leaky_relu\", name=\"conv_2\"),\\n      tf.keras.layers.Conv2DTranspose(\\n          3, 5, use_bias=True, strides=2, padding=\"same\",\\n          activation=\"leaky_relu\", name=\"conv_3\"),\\n  ], name=\"synthesis_transform\")\\n  return decoder'"
            ],
            "application/vnd.google.colaboratory.intrinsic+json": {
              "type": "string"
            }
          },
          "metadata": {},
          "execution_count": 12
        }
      ]
    },
    {
      "cell_type": "code",
      "source": [
        "'''PRE_LATENT_SIZE = 4096\n",
        "LATENT_SIZE = 256\n",
        "\n",
        "def make_analysis_transform(latent_dims=LATENT_SIZE):\n",
        "  \"\"\"Creates the analysis (encoder) transform.\"\"\"\n",
        "  encoder = tf.keras.Sequential([\n",
        "      tf.keras.layers.Conv2D(\n",
        "          128, 5, use_bias=True, strides=2, padding=\"same\",\n",
        "          activation=\"leaky_relu\", name=\"conv_1\"),\n",
        "      tf.keras.layers.Conv2D(\n",
        "          256, 5, use_bias=True, strides=2, padding=\"same\",\n",
        "          activation=\"leaky_relu\", name=\"conv_2\"),\n",
        "      tf.keras.layers.Flatten(),\n",
        "      tf.keras.layers.Dense(\n",
        "          PRE_LATENT_SIZE, use_bias=True, activation=\"leaky_relu\", name=\"fc_1\"),\n",
        "      tf.keras.layers.Dense(\n",
        "          latent_dims, use_bias=True, activation=None, name=\"fc_2\"),\n",
        "  ], name=\"analysis_transform\")\n",
        "  return encoder\n",
        "\n",
        "def make_synthesis_transform():\n",
        "  \"\"\"Creates the synthesis (decoder) transform.\"\"\"\n",
        "  decoder = tf.keras.Sequential([\n",
        "      tf.keras.layers.Dense(\n",
        "          PRE_LATENT_SIZE, use_bias=True, activation=\"leaky_relu\", name=\"fc_1\"),\n",
        "      tf.keras.layers.Dense(\n",
        "          256*8*8, use_bias=True, activation=\"leaky_relu\", name=\"fc_2\"),\n",
        "      tf.keras.layers.Reshape((8, 8, 256)),\n",
        "      tf.keras.layers.Conv2DTranspose(\n",
        "          128, 5, use_bias=True, strides=2, padding=\"same\",\n",
        "          activation=\"leaky_relu\", name=\"conv_1\"),\n",
        "      tf.keras.layers.Conv2DTranspose(\n",
        "          3, 5, use_bias=True, strides=2, padding=\"same\",\n",
        "          activation=\"leaky_relu\", name=\"conv_2\"),\n",
        "  ], name=\"synthesis_transform\")\n",
        "  return decoder'''"
      ],
      "metadata": {
        "id": "2LzvGsaLlj4_",
        "colab": {
          "base_uri": "https://localhost:8080/",
          "height": 105
        },
        "outputId": "7387e884-fe19-45f1-f156-3cb2f76bf45c"
      },
      "execution_count": 13,
      "outputs": [
        {
          "output_type": "execute_result",
          "data": {
            "text/plain": [
              "'PRE_LATENT_SIZE = 4096\\nLATENT_SIZE = 256\\n\\ndef make_analysis_transform(latent_dims=LATENT_SIZE):\\n  \"\"\"Creates the analysis (encoder) transform.\"\"\"\\n  encoder = tf.keras.Sequential([\\n      tf.keras.layers.Conv2D(\\n          128, 5, use_bias=True, strides=2, padding=\"same\",\\n          activation=\"leaky_relu\", name=\"conv_1\"),\\n      tf.keras.layers.Conv2D(\\n          256, 5, use_bias=True, strides=2, padding=\"same\",\\n          activation=\"leaky_relu\", name=\"conv_2\"),\\n      tf.keras.layers.Flatten(),\\n      tf.keras.layers.Dense(\\n          PRE_LATENT_SIZE, use_bias=True, activation=\"leaky_relu\", name=\"fc_1\"),\\n      tf.keras.layers.Dense(\\n          latent_dims, use_bias=True, activation=None, name=\"fc_2\"),\\n  ], name=\"analysis_transform\")\\n  return encoder\\n\\ndef make_synthesis_transform():\\n  \"\"\"Creates the synthesis (decoder) transform.\"\"\"\\n  decoder = tf.keras.Sequential([\\n      tf.keras.layers.Dense(\\n          PRE_LATENT_SIZE, use_bias=True, activation=\"leaky_relu\", name=\"fc_1\"),\\n      tf.keras.layers.Dense(\\n          256*8*8, use_bias=True, activation=\"leaky_relu\", name=\"fc_2\"),\\n      tf.keras.layers.Reshape((8, 8, 256)),\\n      tf.keras.layers.Conv2DTranspose(\\n          128, 5, use_bias=True, strides=2, padding=\"same\",\\n          activation=\"leaky_relu\", name=\"conv_1\"),\\n      tf.keras.layers.Conv2DTranspose(\\n          3, 5, use_bias=True, strides=2, padding=\"same\",\\n          activation=\"leaky_relu\", name=\"conv_2\"),\\n  ], name=\"synthesis_transform\")\\n  return decoder'"
            ],
            "application/vnd.google.colaboratory.intrinsic+json": {
              "type": "string"
            }
          },
          "metadata": {},
          "execution_count": 13
        }
      ]
    },
    {
      "cell_type": "code",
      "source": [
        "class CompressionTrainer(tf.keras.Model):\n",
        "  \"\"\"Model that trains a compressor/decompressor.\"\"\"\n",
        "\n",
        "  def __init__(self, latent_dims=LATENT_SIZE):\n",
        "    super().__init__()\n",
        "    self.analysis_transform = make_analysis_transform(latent_dims)\n",
        "    self.synthesis_transform = make_synthesis_transform()\n",
        "    self.prior_log_scales = tf.Variable(tf.zeros((latent_dims,)))\n",
        "\n",
        "  @property\n",
        "  def prior(self):\n",
        "    return tfc.NoisyLogistic(loc=0., scale=tf.exp(self.prior_log_scales))\n",
        "\n",
        "  def call(self, x, training):\n",
        "    \"\"\"Computes rate and distortion losses.\"\"\"\n",
        "    # Ensure inputs are floats in the range (0, 1).\n",
        "    x = tf.cast(x, self.compute_dtype) / 255.\n",
        "    x = tf.reshape(x, (-1, 32, 32, 3))\n",
        "\n",
        "    # Compute latent space representation y, perturb it and model its entropy,\n",
        "    # then compute the reconstructed pixel-level representation x_hat.\n",
        "    y = self.analysis_transform(x)\n",
        "    entropy_model = tfc.ContinuousBatchedEntropyModel(\n",
        "        self.prior, coding_rank=1, compression=False)\n",
        "    y_tilde, rate = entropy_model(y, training=training)\n",
        "    x_tilde = self.synthesis_transform(y_tilde)\n",
        "\n",
        "    # Average number of bits per image.\n",
        "    rate = tf.reduce_mean(rate)\n",
        "\n",
        "    # Divide rate by the number of neurons in the latent space. This normalizes the rate in bits/neuron.\n",
        "    rate /= tf.cast(tf.shape(y)[1], dtype=tf.float32)\n",
        "\n",
        "    # Mean absolute difference across pixels.\n",
        "    #distortion = tf.reduce_mean(abs(x - x_tilde))\n",
        "    distortion = tf.sqrt(tf.reduce_mean((x - x_tilde)*(x - x_tilde))) # RMSE\n",
        "    #distortion = tf.reduce_mean((x - x_tilde)*(x - x_tilde))\n",
        "    #tf.print(rate, distortion)\n",
        "\n",
        "    return dict(rate=rate, distortion=distortion)"
      ],
      "metadata": {
        "id": "n-zH_Nq0Hajt"
      },
      "execution_count": 14,
      "outputs": []
    },
    {
      "cell_type": "code",
      "source": [
        "def pass_through_loss(_, x):\n",
        "  # Since rate and distortion are unsupervised, the loss doesn't need a target.\n",
        "  return x\n",
        "\n",
        "def make_compression_trainer(lmbda, latent_dims=LATENT_SIZE):\n",
        "  trainer = CompressionTrainer(latent_dims)\n",
        "  #custom_metric = MeanMetricWrapper()\n",
        "  trainer.compile(\n",
        "    optimizer=tf.keras.optimizers.Adam(learning_rate=1e-3),\n",
        "    # Just pass through rate and distortion as losses/metrics.\n",
        "    loss=dict(rate=pass_through_loss, distortion=pass_through_loss),\n",
        "    metrics=dict(rate=pass_through_loss, distortion=pass_through_loss),\n",
        "    loss_weights=dict(rate=1., distortion=lmbda),\n",
        "  )\n",
        "  return trainer"
      ],
      "metadata": {
        "id": "mly1xT6kHkkV"
      },
      "execution_count": 15,
      "outputs": []
    },
    {
      "cell_type": "code",
      "source": [
        "class MyCallback(Callback):\n",
        "    def __init__(self, file_prefix='model_parameters'):\n",
        "        super(MyCallback, self).__init__()\n",
        "        self.file_prefix = file_prefix\n",
        "        self.losses = []\n",
        "\n",
        "    def on_train_begin(self, logs=None):\n",
        "        prev_trained_model = os.path.exists(\"autoencoder_weights.h5\")\n",
        "        if prev_trained_model:\n",
        "            print(f\"Using weights previously generated\")\n",
        "            #self.model = tf.keras.models.load_model(\"model\", custom_objects={'MeanMetricWrapper': MeanMetricWrapper, 'pass_through_loss': pass_through_loss})\n",
        "            #self.model = keras.models.load_model(\"model\", custom_objects=dict(rate=pass_through_loss, distortion=pass_through_loss))\n",
        "            x_batch_ = validation_dataset.batch(1).skip(3).take(1)\n",
        "            # Extract the element from the batch to get a tensor\n",
        "            x_ = next(iter(x_batch_))\n",
        "            x_image, _ = x_\n",
        "            #print(x_)\n",
        "            _ = self.model(x_image)\n",
        "            '''\n",
        "            self.model = make_compression_trainer(LAMBDA)\n",
        "            self.model.analysis_transform.summary()\n",
        "            self.model.synthesis_transform.summary()\n",
        "            self.model.prior_log_scales.summary()\n",
        "            # Build the model by calling it with dummy input data\n",
        "            #dummy_input = tf.zeros((1, input_shape))  # Replace input_shape with the actual input shape\n",
        "            '''\n",
        "            #self.model.analysis_transform.summary()\n",
        "            #self.model.synthesis_transform.summary()\n",
        "            self.model.load_weights(\"autoencoder_weights.h5\")\n",
        "        else:\n",
        "            print(\"No saved weights found. Training from scratch.\")\n",
        "\n",
        "    def on_epoch_end(self, epoch, logs=None):\n",
        "        '''\n",
        "        # Get the model's weights\n",
        "        model_weights = self.model.get_weights()\n",
        "\n",
        "        # Save the weights to a file\n",
        "        file_name = f\"{self.file_prefix}_epoch_{epoch + 1}.npy\"\n",
        "        np.save(file_name, model_weights)\n",
        "        print(f\"Saved model parameters at the end of epoch {epoch + 1} to {file_name}\")\n",
        "        '''\n",
        "        #keras.models.save_model(self.model, \"model\", custom_objects=dict(rate=pass_through_loss, distortion=pass_through_loss))\n",
        "        #print(\"Model saved.\")\n",
        "        self.model.save_weights(\"autoencoder_weights.h5\")\n",
        "        print(\"\\nSaved weights.\")\n",
        "\n",
        "        x_batch = validation_dataset.batch(1).skip(3).take(1)\n",
        "        # Extract the element from the batch to get a tensor\n",
        "        x = next(iter(x_batch))\n",
        "        x_image, _ = x\n",
        "        x_image = x_image.numpy().squeeze().astype(np.uint8)\n",
        "        y = self.model.analysis_transform(x)\n",
        "        entropy_model = tfc.ContinuousBatchedEntropyModel(self.model.prior, coding_rank=1, compression=True)\n",
        "        y_tilde, rate = entropy_model(y, training=False)\n",
        "        y_tilde_codestream = entropy_model.compress(y)\n",
        "        x_tilde = self.model.synthesis_transform(y_tilde)[0]\n",
        "        #rate /= LATENT_SIZE\n",
        "        #rate /= (32*32)\n",
        "        #rate = tf.size(y_tilde)/(32*32)\n",
        "        #print(\"len=\", len(y_tilde_codestream.numpy()[0]))\n",
        "        bit_rate_in_bits_per_pixel = len(y_tilde_codestream.numpy()[0]) / (32*32)\n",
        "        distortion = tf.sqrt(tf.reduce_mean((x_image - x_tilde)*(x_image - x_tilde))) # RMSE\n",
        "        print(f\"R={bit_rate_in_bits_per_pixel} D={distortion} D+R={bit_rate_in_bits_per_pixel + distortion} LATENT_SIZE={LATENT_SIZE}\")\n",
        "\n",
        "        #clear_output(wait=True)\n",
        "        plt.subplot(1, 3, 1)\n",
        "        plt.imshow(x_image)\n",
        "        plt.subplot(1, 3, 2)\n",
        "        plt.imshow(x_tilde.numpy().astype(np.uint8))\n",
        "        if logs is not None and 'val_loss' in logs:\n",
        "            self.losses.append(logs['val_loss'])\n",
        "            plt.subplot(1, 3, 3)\n",
        "            plt.plot(range(1, len(self.losses) + 1), self.losses, marker='o', linestyle='-', color='b')\n",
        "            plt.title('Validation Loss Over Epochs')\n",
        "            plt.xlabel('Epoch')\n",
        "            plt.ylabel('Loss (J)')\n",
        "\n",
        "        '''\n",
        "        fig, axes = plt.subplots(1, 3, sharex=True, sharey=True, figsize=(6, 2))\n",
        "        axes = axes.ravel()\n",
        "        x_batch = validation_dataset.batch(1).skip(3).take(1)\n",
        "        # Extract the element from the batch to get a tensor\n",
        "        x = next(iter(x_batch))\n",
        "        x_image, _ = x\n",
        "        axes[0].imshow(x_image.numpy().squeeze().astype(np.uint8))\n",
        "        y = self.model.analysis_transform(x)\n",
        "        entropy_model = tfc.ContinuousBatchedEntropyModel(self.model.prior, coding_rank=1, compression=False)\n",
        "        y_tilde, rate = entropy_model(y, training=False)\n",
        "        x_tilde = self.model.synthesis_transform(y_tilde)[0]\n",
        "        axes[1].imshow(x_tilde.numpy().astype(np.uint8))\n",
        "        if logs is not None and 'loss' in logs:\n",
        "            self.losses.append(logs['loss'])\n",
        "            clear_output(wait=True)\n",
        "            axes[2].plot(range(1, len(self.losses) + 1), self.losses, marker='o', linestyle='-', color='b')\n",
        "            #axes[2].title('Training Loss Over Epochs')\n",
        "            axes[2].xlabel('Epoch')\n",
        "            axes[2].ylabel('Loss')\n",
        "        '''\n",
        "\n",
        "        plt.tight_layout()\n",
        "        plt.show()\n",
        "\n",
        "        #y_tilde, rate = self.model.entropy_model(y, training=training)\n",
        "        '''\n",
        "        #x_tilde = self.synthesis_transform(y_tilde)\n",
        "\n",
        "        # Average number of bits per image.\n",
        "        rate = tf.reduce_mean(rate)\n",
        "\n",
        "        # Divide rate by the number of neurons in the latent space. This normalizes the rate in bits/neuron.\n",
        "        rate /= tf.cast(tf.shape(y)[1], dtype=tf.float32)\n",
        "\n",
        "        # Mean absolute difference across pixels.\n",
        "        #distortion = tf.reduce_mean(abs(x - x_tilde))\n",
        "        distortion = tf.sqrt(tf.reduce_mean((x - x_tilde)*(x - x_tilde))) # RMSE\n",
        "        '''"
      ],
      "metadata": {
        "id": "BMSMlTVLpGjw"
      },
      "execution_count": 16,
      "outputs": []
    },
    {
      "cell_type": "code",
      "source": [
        "def add_rd_targets(image, label):\n",
        "  # Training is unsupervised, so labels aren't necessary here. However, we\n",
        "  # need to add \"dummy\" targets for rate and distortion.\n",
        "  return image, dict(rate=0., distortion=0.)\n",
        "\n",
        "def __train_model(lmbda=LAMBDA, epochs=EPOCHS):\n",
        "  callbacks_list = [MyCallback()]\n",
        "  trainer = make_compression_trainer(lmbda)\n",
        "  for i in range(EPOCHS):\n",
        "    trainer.fit(\n",
        "        training_dataset.map(add_rd_targets).batch(128).prefetch(8),\n",
        "        epochs=1,\n",
        "        validation_data=validation_dataset.map(add_rd_targets).batch(128).cache(),\n",
        "        validation_freq=1,\n",
        "        verbose=1,\n",
        "        callbacks=callbacks_list\n",
        "    )\n",
        "  return trainer"
      ],
      "metadata": {
        "id": "XHzi3inHHmnj"
      },
      "execution_count": 17,
      "outputs": []
    },
    {
      "cell_type": "code",
      "source": [
        "callbacks_list = [MyCallback()]\n",
        "trainer = make_compression_trainer(lmbda=LAMBDA)\n",
        "print(\"Epoch:\", 0)\n",
        "trainer.fit(\n",
        "  training_dataset.map(add_rd_targets).batch(128).prefetch(8),\n",
        "  epochs=1,\n",
        "  validation_data=validation_dataset.map(add_rd_targets).batch(128).cache(),\n",
        "  validation_freq=1,\n",
        "    verbose=1,\n",
        "  callbacks=callbacks_list\n",
        ")\n",
        "trainer.analysis_transform.summary()\n",
        "trainer.synthesis_transform.summary()\n",
        "for i in range(1, EPOCHS):\n",
        "  print(\"Epoch:\", i)\n",
        "  trainer.fit(\n",
        "    training_dataset.map(add_rd_targets).batch(128).prefetch(8),\n",
        "    epochs=1,\n",
        "    validation_data=validation_dataset.map(add_rd_targets).batch(128).cache(),\n",
        "    validation_freq=1,\n",
        "    verbose=1,\n",
        "    callbacks=callbacks_list\n",
        "  )\n",
        "#trainer = train_model(lmbda=LAMBDA)"
      ],
      "metadata": {
        "id": "NHcKJsvHEu8b",
        "outputId": "6711a3d7-8f24-42f1-aa9a-f95d423ee858",
        "colab": {
          "base_uri": "https://localhost:8080/",
          "height": 1000
        }
      },
      "execution_count": 18,
      "outputs": [
        {
          "output_type": "stream",
          "name": "stdout",
          "text": [
            "Epoch: 0\n",
            "No saved weights found. Training from scratch.\n",
            "  6/313 [..............................] - ETA: 35s - loss: 694.9268 - distortion_loss: 1.3835 - rate_loss: 3.1887 - distortion_pass_through_loss: 1.3835 - rate_pass_through_loss: 3.1887"
          ]
        },
        {
          "output_type": "stream",
          "name": "stderr",
          "text": [
            "WARNING:tensorflow:Callback method `on_train_batch_end` is slow compared to the batch time (batch time: 0.0324s vs `on_train_batch_end` time: 0.0670s). Check your callbacks.\n"
          ]
        },
        {
          "output_type": "stream",
          "name": "stdout",
          "text": [
            "313/313 [==============================] - ETA: 0s - loss: 141.7183 - distortion_loss: 0.2781 - rate_loss: 2.6663 - distortion_pass_through_loss: 0.2779 - rate_pass_through_loss: 2.6657"
          ]
        },
        {
          "output_type": "stream",
          "name": "stderr",
          "text": [
            "WARNING:absl:Computing quantization offsets using offset heuristic within a tf.function. Ideally, the offset heuristic should only be used to determine offsets once after training. Depending on the prior, estimating the offset might be computationally expensive.\n"
          ]
        },
        {
          "output_type": "stream",
          "name": "stdout",
          "text": [
            "\n",
            "Saved weights.\n",
            "R=0.71875 D=34.049686431884766 D+R=34.768436431884766 LATENT_SIZE=256\n"
          ]
        },
        {
          "output_type": "display_data",
          "data": {
            "text/plain": [
              "<Figure size 640x480 with 3 Axes>"
            ],
            "image/png": "[encoded data removed]"
          },
          "metadata": {}
        },
        {
          "output_type": "stream",
          "name": "stdout",
          "text": [
            "\b\b\b\b\b\b\b\b\b\b\b\b\b\b\b\b\b\b\b\b\b\b\b\b\b\b\b\b\b\b\b\b\b\b\b\b\b\b\b\b\b\b\b\b\b\b\b\b\b\b\b\b\b\b\b\b\b\b\b\b\b\b\b\b\b\b\b\b\b\b\b\b\b\b\b\b\b\b\b\b\b\b\b\b\b\b\b\b\b\b\b\b\b\b\b\b\b\b\b\b\b\b\b\b\b\b\b\b\b\b\b\b\b\b\b\b\b\b\b\b\b\b\b\b\b\b\b\b\b\b\b\b\b\b\b\b\b\b\b\b\b\b\b\b\b\b\b\b\b\b\b\b\b\b\b\b\b\b\b\b\b\b\b\b\b\b\b\b\b\b\b\b\b\b\b\b\b\b\b\b\b\b\b\b\b\r313/313 [==============================] - 65s 156ms/step - loss: 141.7183 - distortion_loss: 0.2781 - rate_loss: 2.6663 - distortion_pass_through_loss: 0.2779 - rate_pass_through_loss: 2.6657 - val_loss: 82.5208 - val_distortion_loss: 0.1606 - val_rate_loss: 2.2457 - val_distortion_pass_through_loss: 0.1606 - val_rate_pass_through_loss: 2.2460\n",
            "Model: \"analysis_transform\"\n",
            "_________________________________________________________________\n",
            " Layer (type)                Output Shape              Param #   \n",
            "=================================================================\n",
            " conv_1 (Conv2D)             (None, 16, 16, 256)       19456     \n",
            "                                                                 \n",
            " conv_2 (Conv2D)             (None, 8, 8, 256)         1638656   \n",
            "                                                                 \n",
            " flatten (Flatten)           (None, 16384)             0         \n",
            "                                                                 \n",
            " fc_1 (Dense)                (None, 4096)              67112960  \n",
            "                                                                 \n",
            " fc_2 (Dense)                (None, 256)               1048832   \n",
            "                                                                 \n",
            "=================================================================\n",
            "Total params: 69819904 (266.34 MB)\n",
            "Trainable params: 69819904 (266.34 MB)\n",
            "Non-trainable params: 0 (0.00 Byte)\n",
            "_________________________________________________________________\n",
            "Model: \"synthesis_transform\"\n",
            "_________________________________________________________________\n",
            " Layer (type)                Output Shape              Param #   \n",
            "=================================================================\n",
            " fc_1 (Dense)                (None, 4096)              1052672   \n",
            "                                                                 \n",
            " fc_2 (Dense)                (None, 16384)             67125248  \n",
            "                                                                 \n",
            " reshape (Reshape)           (None, 8, 8, 256)         0         \n",
            "                                                                 \n",
            " conv_1 (Conv2DTranspose)    (None, 16, 16, 256)       1638656   \n",
            "                                                                 \n",
            " conv_2 (Conv2DTranspose)    (None, 32, 32, 3)         19203     \n",
            "                                                                 \n",
            "=================================================================\n",
            "Total params: 69835779 (266.40 MB)\n",
            "Trainable params: 69835779 (266.40 MB)\n",
            "Non-trainable params: 0 (0.00 Byte)\n",
            "_________________________________________________________________\n",
            "Epoch: 1\n",
            "Using weights previously generated\n",
            "  6/313 [..............................] - ETA: 38s - loss: 81.7509 - distortion_loss: 0.1590 - rate_loss: 2.2418 - distortion_pass_through_loss: 0.1590 - rate_pass_through_loss: 2.2418"
          ]
        },
        {
          "output_type": "stream",
          "name": "stderr",
          "text": [
            "WARNING:tensorflow:Callback method `on_train_batch_end` is slow compared to the batch time (batch time: 0.0406s vs `on_train_batch_end` time: 0.0871s). Check your callbacks.\n"
          ]
        },
        {
          "output_type": "stream",
          "name": "stdout",
          "text": [
            "313/313 [==============================] - ETA: 0s - loss: 73.9428 - distortion_loss: 0.1435 - rate_loss: 2.1821 - distortion_pass_through_loss: 0.1435 - rate_pass_through_loss: 2.1821\n",
            "Saved weights.\n",
            "R=0.734375 D=25.710693359375 D+R=26.445068359375 LATENT_SIZE=256\n"
          ]
        },
        {
          "output_type": "display_data",
          "data": {
            "text/plain": [
              "<Figure size 640x480 with 3 Axes>"
            ],
            "image/png": "[encoded data removed]"
          },
          "metadata": {}
        },
        {
          "output_type": "stream",
          "name": "stdout",
          "text": [
            "\b\b\b\b\b\b\b\b\b\b\b\b\b\b\b\b\b\b\b\b\b\b\b\b\b\b\b\b\b\b\b\b\b\b\b\b\b\b\b\b\b\b\b\b\b\b\b\b\b\b\b\b\b\b\b\b\b\b\b\b\b\b\b\b\b\b\b\b\b\b\b\b\b\b\b\b\b\b\b\b\b\b\b\b\b\b\b\b\b\b\b\b\b\b\b\b\b\b\b\b\b\b\b\b\b\b\b\b\b\b\b\b\b\b\b\b\b\b\b\b\b\b\b\b\b\b\b\b\b\b\b\b\b\b\b\b\b\b\b\b\b\b\b\b\b\b\b\b\b\b\b\b\b\b\b\b\b\b\b\b\b\b\b\b\b\b\b\b\b\b\b\b\b\b\b\b\b\b\b\b\b\b\b\b\r313/313 [==============================] - 47s 150ms/step - loss: 73.9428 - distortion_loss: 0.1435 - rate_loss: 2.1821 - distortion_pass_through_loss: 0.1435 - rate_pass_through_loss: 2.1821 - val_loss: 67.5193 - val_distortion_loss: 0.1307 - val_rate_loss: 2.1473 - val_distortion_pass_through_loss: 0.1308 - val_rate_pass_through_loss: 2.1475\n",
            "Epoch: 2\n",
            "Using weights previously generated\n",
            "  6/313 [..............................] - ETA: 37s - loss: 67.2298 - distortion_loss: 0.1302 - rate_loss: 2.1466 - distortion_pass_through_loss: 0.1302 - rate_pass_through_loss: 2.1466"
          ]
        },
        {
          "output_type": "stream",
          "name": "stderr",
          "text": [
            "WARNING:tensorflow:Callback method `on_train_batch_end` is slow compared to the batch time (batch time: 0.0373s vs `on_train_batch_end` time: 0.0847s). Check your callbacks.\n"
          ]
        },
        {
          "output_type": "stream",
          "name": "stdout",
          "text": [
            "313/313 [==============================] - ETA: 0s - loss: 63.4859 - distortion_loss: 0.1227 - rate_loss: 2.1560 - distortion_pass_through_loss: 0.1227 - rate_pass_through_loss: 2.1561\n",
            "Saved weights.\n",
            "R=0.759765625 D=23.691226959228516 D+R=24.450992584228516 LATENT_SIZE=256\n"
          ]
        },
        {
          "output_type": "display_data",
          "data": {
            "text/plain": [
              "<Figure size 640x480 with 3 Axes>"
            ],
            "image/png": "[encoded data removed]"
          },
          "metadata": {}
        },
        {
          "output_type": "stream",
          "name": "stdout",
          "text": [
            "\b\b\b\b\b\b\b\b\b\b\b\b\b\b\b\b\b\b\b\b\b\b\b\b\b\b\b\b\b\b\b\b\b\b\b\b\b\b\b\b\b\b\b\b\b\b\b\b\b\b\b\b\b\b\b\b\b\b\b\b\b\b\b\b\b\b\b\b\b\b\b\b\b\b\b\b\b\b\b\b\b\b\b\b\b\b\b\b\b\b\b\b\b\b\b\b\b\b\b\b\b\b\b\b\b\b\b\b\b\b\b\b\b\b\b\b\b\b\b\b\b\b\b\b\b\b\b\b\b\b\b\b\b\b\b\b\b\b\b\b\b\b\b\b\b\b\b\b\b\b\b\b\b\b\b\b\b\b\b\b\b\b\b\b\b\b\b\b\b\b\b\b\b\b\b\b\b\b\b\b\b\b\b\b\r313/313 [==============================] - 50s 158ms/step - loss: 63.4859 - distortion_loss: 0.1227 - rate_loss: 2.1560 - distortion_pass_through_loss: 0.1227 - rate_pass_through_loss: 2.1561 - val_loss: 59.4488 - val_distortion_loss: 0.1145 - val_rate_loss: 2.1744 - val_distortion_pass_through_loss: 0.1146 - val_rate_pass_through_loss: 2.1750\n",
            "Epoch: 3\n",
            "Using weights previously generated\n",
            "  6/313 [..............................] - ETA: 38s - loss: 59.9212 - distortion_loss: 0.1155 - rate_loss: 2.1778 - distortion_pass_through_loss: 0.1155 - rate_pass_through_loss: 2.1778"
          ]
        },
        {
          "output_type": "stream",
          "name": "stderr",
          "text": [
            "WARNING:tensorflow:Callback method `on_train_batch_end` is slow compared to the batch time (batch time: 0.0392s vs `on_train_batch_end` time: 0.0875s). Check your callbacks.\n"
          ]
        },
        {
          "output_type": "stream",
          "name": "stdout",
          "text": [
            "313/313 [==============================] - ETA: 0s - loss: 57.8280 - distortion_loss: 0.1113 - rate_loss: 2.1923 - distortion_pass_through_loss: 0.1113 - rate_pass_through_loss: 2.1925\n",
            "Saved weights.\n",
            "R=0.77734375 D=22.19181251525879 D+R=22.96915626525879 LATENT_SIZE=256\n"
          ]
        },
        {
          "output_type": "display_data",
          "data": {
            "text/plain": [
              "<Figure size 640x480 with 3 Axes>"
            ],
            "image/png": "[encoded data removed]"
          },
          "metadata": {}
        },
        {
          "output_type": "stream",
          "name": "stdout",
          "text": [
            "\b\b\b\b\b\b\b\b\b\b\b\b\b\b\b\b\b\b\b\b\b\b\b\b\b\b\b\b\b\b\b\b\b\b\b\b\b\b\b\b\b\b\b\b\b\b\b\b\b\b\b\b\b\b\b\b\b\b\b\b\b\b\b\b\b\b\b\b\b\b\b\b\b\b\b\b\b\b\b\b\b\b\b\b\b\b\b\b\b\b\b\b\b\b\b\b\b\b\b\b\b\b\b\b\b\b\b\b\b\b\b\b\b\b\b\b\b\b\b\b\b\b\b\b\b\b\b\b\b\b\b\b\b\b\b\b\b\b\b\b\b\b\b\b\b\b\b\b\b\b\b\b\b\b\b\b\b\b\b\b\b\b\b\b\b\b\b\b\b\b\b\b\b\b\b\b\b\b\b\b\b\b\b\b\r313/313 [==============================] - 50s 158ms/step - loss: 57.8280 - distortion_loss: 0.1113 - rate_loss: 2.1923 - distortion_pass_through_loss: 0.1113 - rate_pass_through_loss: 2.1925 - val_loss: 54.7979 - val_distortion_loss: 0.1051 - val_rate_loss: 2.2455 - val_distortion_pass_through_loss: 0.1051 - val_rate_pass_through_loss: 2.2466\n",
            "Epoch: 4\n",
            "Using weights previously generated\n",
            "  6/313 [..............................] - ETA: 38s - loss: 54.4235 - distortion_loss: 0.1044 - rate_loss: 2.2413 - distortion_pass_through_loss: 0.1044 - rate_pass_through_loss: 2.2413"
          ]
        },
        {
          "output_type": "stream",
          "name": "stderr",
          "text": [
            "WARNING:tensorflow:Callback method `on_train_batch_end` is slow compared to the batch time (batch time: 0.0383s vs `on_train_batch_end` time: 0.0878s). Check your callbacks.\n"
          ]
        },
        {
          "output_type": "stream",
          "name": "stdout",
          "text": [
            "313/313 [==============================] - ETA: 0s - loss: 52.5056 - distortion_loss: 0.1005 - rate_loss: 2.2795 - distortion_pass_through_loss: 0.1005 - rate_pass_through_loss: 2.2798\n",
            "Saved weights.\n",
            "R=0.7802734375 D=21.79474639892578 D+R=22.57501983642578 LATENT_SIZE=256\n"
          ]
        },
        {
          "output_type": "display_data",
          "data": {
            "text/plain": [
              "<Figure size 640x480 with 3 Axes>"
            ],
            "image/png": "[encoded data removed]"
          },
          "metadata": {}
        },
        {
          "output_type": "stream",
          "name": "stdout",
          "text": [
            "\b\b\b\b\b\b\b\b\b\b\b\b\b\b\b\b\b\b\b\b\b\b\b\b\b\b\b\b\b\b\b\b\b\b\b\b\b\b\b\b\b\b\b\b\b\b\b\b\b\b\b\b\b\b\b\b\b\b\b\b\b\b\b\b\b\b\b\b\b\b\b\b\b\b\b\b\b\b\b\b\b\b\b\b\b\b\b\b\b\b\b\b\b\b\b\b\b\b\b\b\b\b\b\b\b\b\b\b\b\b\b\b\b\b\b\b\b\b\b\b\b\b\b\b\b\b\b\b\b\b\b\b\b\b\b\b\b\b\b\b\b\b\b\b\b\b\b\b\b\b\b\b\b\b\b\b\b\b\b\b\b\b\b\b\b\b\b\b\b\b\b\b\b\b\b\b\b\b\b\b\b\b\b\b\r313/313 [==============================] - 50s 161ms/step - loss: 52.5056 - distortion_loss: 0.1005 - rate_loss: 2.2795 - distortion_pass_through_loss: 0.1005 - rate_pass_through_loss: 2.2798 - val_loss: 51.6523 - val_distortion_loss: 0.0987 - val_rate_loss: 2.3220 - val_distortion_pass_through_loss: 0.0987 - val_rate_pass_through_loss: 2.3228\n",
            "Epoch: 5\n",
            "Using weights previously generated\n",
            "  6/313 [..............................] - ETA: 39s - loss: 50.7566 - distortion_loss: 0.0969 - rate_loss: 2.3202 - distortion_pass_through_loss: 0.0969 - rate_pass_through_loss: 2.3202"
          ]
        },
        {
          "output_type": "stream",
          "name": "stderr",
          "text": [
            "WARNING:tensorflow:Callback method `on_train_batch_end` is slow compared to the batch time (batch time: 0.0421s vs `on_train_batch_end` time: 0.0901s). Check your callbacks.\n"
          ]
        },
        {
          "output_type": "stream",
          "name": "stdout",
          "text": [
            "313/313 [==============================] - ETA: 0s - loss: 49.2088 - distortion_loss: 0.0937 - rate_loss: 2.3625 - distortion_pass_through_loss: 0.0937 - rate_pass_through_loss: 2.3627\n",
            "Saved weights.\n",
            "R=0.7783203125 D=20.218212127685547 D+R=20.996532440185547 LATENT_SIZE=256\n"
          ]
        },
        {
          "output_type": "display_data",
          "data": {
            "text/plain": [
              "<Figure size 640x480 with 3 Axes>"
            ],
            "image/png": "[encoded data removed]"
          },
          "metadata": {}
        },
        {
          "output_type": "stream",
          "name": "stdout",
          "text": [
            "\b\b\b\b\b\b\b\b\b\b\b\b\b\b\b\b\b\b\b\b\b\b\b\b\b\b\b\b\b\b\b\b\b\b\b\b\b\b\b\b\b\b\b\b\b\b\b\b\b\b\b\b\b\b\b\b\b\b\b\b\b\b\b\b\b\b\b\b\b\b\b\b\b\b\b\b\b\b\b\b\b\b\b\b\b\b\b\b\b\b\b\b\b\b\b\b\b\b\b\b\b\b\b\b\b\b\b\b\b\b\b\b\b\b\b\b\b\b\b\b\b\b\b\b\b\b\b\b\b\b\b\b\b\b\b\b\b\b\b\b\b\b\b\b\b\b\b\b\b\b\b\b\b\b\b\b\b\b\b\b\b\b\b\b\b\b\b\b\b\b\b\b\b\b\b\b\b\b\b\b\b\b\b\b\r313/313 [==============================] - 53s 169ms/step - loss: 49.2088 - distortion_loss: 0.0937 - rate_loss: 2.3625 - distortion_pass_through_loss: 0.0937 - rate_pass_through_loss: 2.3627 - val_loss: 49.7117 - val_distortion_loss: 0.0947 - val_rate_loss: 2.3718 - val_distortion_pass_through_loss: 0.0947 - val_rate_pass_through_loss: 2.3727\n",
            "Epoch: 6\n",
            "Using weights previously generated\n",
            "  6/313 [..............................] - ETA: 38s - loss: 48.2013 - distortion_loss: 0.0917 - rate_loss: 2.3672 - distortion_pass_through_loss: 0.0917 - rate_pass_through_loss: 2.3672"
          ]
        },
        {
          "output_type": "stream",
          "name": "stderr",
          "text": [
            "WARNING:tensorflow:Callback method `on_train_batch_end` is slow compared to the batch time (batch time: 0.0433s vs `on_train_batch_end` time: 0.0858s). Check your callbacks.\n"
          ]
        },
        {
          "output_type": "stream",
          "name": "stdout",
          "text": [
            "313/313 [==============================] - ETA: 0s - loss: 46.5192 - distortion_loss: 0.0881 - rate_loss: 2.4476 - distortion_pass_through_loss: 0.0882 - rate_pass_through_loss: 2.4478\n",
            "Saved weights.\n",
            "R=0.7763671875 D=19.492284774780273 D+R=20.268651962280273 LATENT_SIZE=256\n"
          ]
        },
        {
          "output_type": "display_data",
          "data": {
            "text/plain": [
              "<Figure size 640x480 with 3 Axes>"
            ],
            "image/png": "[encoded data removed]"
          },
          "metadata": {}
        },
        {
          "output_type": "stream",
          "name": "stdout",
          "text": [
            "\b\b\b\b\b\b\b\b\b\b\b\b\b\b\b\b\b\b\b\b\b\b\b\b\b\b\b\b\b\b\b\b\b\b\b\b\b\b\b\b\b\b\b\b\b\b\b\b\b\b\b\b\b\b\b\b\b\b\b\b\b\b\b\b\b\b\b\b\b\b\b\b\b\b\b\b\b\b\b\b\b\b\b\b\b\b\b\b\b\b\b\b\b\b\b\b\b\b\b\b\b\b\b\b\b\b\b\b\b\b\b\b\b\b\b\b\b\b\b\b\b\b\b\b\b\b\b\b\b\b\b\b\b\b\b\b\b\b\b\b\b\b\b\b\b\b\b\b\b\b\b\b\b\b\b\b\b\b\b\b\b\b\b\b\b\b\b\b\b\b\b\b\b\b\b\b\b\b\b\b\b\b\b\b\r313/313 [==============================] - 52s 166ms/step - loss: 46.5192 - distortion_loss: 0.0881 - rate_loss: 2.4476 - distortion_pass_through_loss: 0.0882 - rate_pass_through_loss: 2.4478 - val_loss: 46.0423 - val_distortion_loss: 0.0872 - val_rate_loss: 2.4553 - val_distortion_pass_through_loss: 0.0872 - val_rate_pass_through_loss: 2.4560\n",
            "Epoch: 7\n",
            "Using weights previously generated\n",
            "  6/313 [..............................] - ETA: 40s - loss: 47.2091 - distortion_loss: 0.0895 - rate_loss: 2.4440 - distortion_pass_through_loss: 0.0895 - rate_pass_through_loss: 2.4440"
          ]
        },
        {
          "output_type": "stream",
          "name": "stderr",
          "text": [
            "WARNING:tensorflow:Callback method `on_train_batch_end` is slow compared to the batch time (batch time: 0.0465s vs `on_train_batch_end` time: 0.0876s). Check your callbacks.\n"
          ]
        },
        {
          "output_type": "stream",
          "name": "stdout",
          "text": [
            "313/313 [==============================] - ETA: 0s - loss: 44.3746 - distortion_loss: 0.0837 - rate_loss: 2.5296 - distortion_pass_through_loss: 0.0837 - rate_pass_through_loss: 2.5297\n",
            "Saved weights.\n",
            "R=0.783203125 D=18.849702835083008 D+R=19.632905960083008 LATENT_SIZE=256\n"
          ]
        },
        {
          "output_type": "display_data",
          "data": {
            "text/plain": [
              "<Figure size 640x480 with 3 Axes>"
            ],
            "image/png": "[encoded data removed]"
          },
          "metadata": {}
        },
        {
          "output_type": "stream",
          "name": "stdout",
          "text": [
            "\b\b\b\b\b\b\b\b\b\b\b\b\b\b\b\b\b\b\b\b\b\b\b\b\b\b\b\b\b\b\b\b\b\b\b\b\b\b\b\b\b\b\b\b\b\b\b\b\b\b\b\b\b\b\b\b\b\b\b\b\b\b\b\b\b\b\b\b\b\b\b\b\b\b\b\b\b\b\b\b\b\b\b\b\b\b\b\b\b\b\b\b\b\b\b\b\b\b\b\b\b\b\b\b\b\b\b\b\b\b\b\b\b\b\b\b\b\b\b\b\b\b\b\b\b\b\b\b\b\b\b\b\b\b\b\b\b\b\b\b\b\b\b\b\b\b\b\b\b\b\b\b\b\b\b\b\b\b\b\b\b\b\b\b\b\b\b\b\b\b\b\b\b\b\b\b\b\b\b\b\b\b\b\b\r313/313 [==============================] - 53s 168ms/step - loss: 44.3746 - distortion_loss: 0.0837 - rate_loss: 2.5296 - distortion_pass_through_loss: 0.0837 - rate_pass_through_loss: 2.5297 - val_loss: 44.2057 - val_distortion_loss: 0.0834 - val_rate_loss: 2.5205 - val_distortion_pass_through_loss: 0.0834 - val_rate_pass_through_loss: 2.5209\n",
            "Epoch: 8\n",
            "Using weights previously generated\n",
            "  6/313 [..............................] - ETA: 37s - loss: 44.1260 - distortion_loss: 0.0832 - rate_loss: 2.5097 - distortion_pass_through_loss: 0.0832 - rate_pass_through_loss: 2.5097"
          ]
        },
        {
          "output_type": "stream",
          "name": "stderr",
          "text": [
            "WARNING:tensorflow:Callback method `on_train_batch_end` is slow compared to the batch time (batch time: 0.0385s vs `on_train_batch_end` time: 0.0858s). Check your callbacks.\n"
          ]
        },
        {
          "output_type": "stream",
          "name": "stdout",
          "text": [
            "313/313 [==============================] - ETA: 0s - loss: 43.9545 - distortion_loss: 0.0828 - rate_loss: 2.5650 - distortion_pass_through_loss: 0.0828 - rate_pass_through_loss: 2.5652\n",
            "Saved weights.\n",
            "R=0.7724609375 D=18.461862564086914 D+R=19.234323501586914 LATENT_SIZE=256\n"
          ]
        },
        {
          "output_type": "display_data",
          "data": {
            "text/plain": [
              "<Figure size 640x480 with 3 Axes>"
            ],
            "image/png": "[encoded data removed]"
          },
          "metadata": {}
        },
        {
          "output_type": "stream",
          "name": "stdout",
          "text": [
            "\b\b\b\b\b\b\b\b\b\b\b\b\b\b\b\b\b\b\b\b\b\b\b\b\b\b\b\b\b\b\b\b\b\b\b\b\b\b\b\b\b\b\b\b\b\b\b\b\b\b\b\b\b\b\b\b\b\b\b\b\b\b\b\b\b\b\b\b\b\b\b\b\b\b\b\b\b\b\b\b\b\b\b\b\b\b\b\b\b\b\b\b\b\b\b\b\b\b\b\b\b\b\b\b\b\b\b\b\b\b\b\b\b\b\b\b\b\b\b\b\b\b\b\b\b\b\b\b\b\b\b\b\b\b\b\b\b\b\b\b\b\b\b\b\b\b\b\b\b\b\b\b\b\b\b\b\b\b\b\b\b\b\b\b\b\b\b\b\b\b\b\b\b\b\b\b\b\b\b\b\b\b\b\b\r313/313 [==============================] - 58s 184ms/step - loss: 43.9545 - distortion_loss: 0.0828 - rate_loss: 2.5650 - distortion_pass_through_loss: 0.0828 - rate_pass_through_loss: 2.5652 - val_loss: 41.9567 - val_distortion_loss: 0.0787 - val_rate_loss: 2.5946 - val_distortion_pass_through_loss: 0.0788 - val_rate_pass_through_loss: 2.5950\n",
            "Epoch: 9\n",
            "Using weights previously generated\n",
            "  6/313 [..............................] - ETA: 37s - loss: 42.0738 - distortion_loss: 0.0790 - rate_loss: 2.5862 - distortion_pass_through_loss: 0.0790 - rate_pass_through_loss: 2.5862"
          ]
        },
        {
          "output_type": "stream",
          "name": "stderr",
          "text": [
            "WARNING:tensorflow:Callback method `on_train_batch_end` is slow compared to the batch time (batch time: 0.0372s vs `on_train_batch_end` time: 0.0860s). Check your callbacks.\n"
          ]
        },
        {
          "output_type": "stream",
          "name": "stdout",
          "text": [
            "313/313 [==============================] - ETA: 0s - loss: 40.7167 - distortion_loss: 0.0761 - rate_loss: 2.6723 - distortion_pass_through_loss: 0.0761 - rate_pass_through_loss: 2.6726\n",
            "Saved weights.\n",
            "R=0.7744140625 D=16.648452758789062 D+R=17.422866821289062 LATENT_SIZE=256\n"
          ]
        },
        {
          "output_type": "display_data",
          "data": {
            "text/plain": [
              "<Figure size 640x480 with 3 Axes>"
            ],
            "image/png": "[encoded data removed]"
          },
          "metadata": {}
        },
        {
          "output_type": "stream",
          "name": "stdout",
          "text": [
            "\b\b\b\b\b\b\b\b\b\b\b\b\b\b\b\b\b\b\b\b\b\b\b\b\b\b\b\b\b\b\b\b\b\b\b\b\b\b\b\b\b\b\b\b\b\b\b\b\b\b\b\b\b\b\b\b\b\b\b\b\b\b\b\b\b\b\b\b\b\b\b\b\b\b\b\b\b\b\b\b\b\b\b\b\b\b\b\b\b\b\b\b\b\b\b\b\b\b\b\b\b\b\b\b\b\b\b\b\b\b\b\b\b\b\b\b\b\b\b\b\b\b\b\b\b\b\b\b\b\b\b\b\b\b\b\b\b\b\b\b\b\b\b\b\b\b\b\b\b\b\b\b\b\b\b\b\b\b\b\b\b\b\b\b\b\b\b\b\b\b\b\b\b\b\b\b\b\b\b\b\b\b\b\b\r313/313 [==============================] - 51s 163ms/step - loss: 40.7167 - distortion_loss: 0.0761 - rate_loss: 2.6723 - distortion_pass_through_loss: 0.0761 - rate_pass_through_loss: 2.6726 - val_loss: 39.5838 - val_distortion_loss: 0.0737 - val_rate_loss: 2.7211 - val_distortion_pass_through_loss: 0.0738 - val_rate_pass_through_loss: 2.7215\n",
            "Epoch: 10\n",
            "Using weights previously generated\n",
            "  6/313 [..............................] - ETA: 38s - loss: 39.9586 - distortion_loss: 0.0745 - rate_loss: 2.7133 - distortion_pass_through_loss: 0.0745 - rate_pass_through_loss: 2.7133"
          ]
        },
        {
          "output_type": "stream",
          "name": "stderr",
          "text": [
            "WARNING:tensorflow:Callback method `on_train_batch_end` is slow compared to the batch time (batch time: 0.0380s vs `on_train_batch_end` time: 0.0863s). Check your callbacks.\n"
          ]
        },
        {
          "output_type": "stream",
          "name": "stdout",
          "text": [
            "313/313 [==============================] - ETA: 0s - loss: 39.1015 - distortion_loss: 0.0727 - rate_loss: 2.7488 - distortion_pass_through_loss: 0.0727 - rate_pass_through_loss: 2.7489\n",
            "Saved weights.\n",
            "R=0.78125 D=16.411449432373047 D+R=17.192699432373047 LATENT_SIZE=256\n"
          ]
        },
        {
          "output_type": "display_data",
          "data": {
            "text/plain": [
              "<Figure size 640x480 with 3 Axes>"
            ],
            "image/png": "[encoded data removed]"
          },
          "metadata": {}
        },
        {
          "output_type": "stream",
          "name": "stdout",
          "text": [
            "\b\b\b\b\b\b\b\b\b\b\b\b\b\b\b\b\b\b\b\b\b\b\b\b\b\b\b\b\b\b\b\b\b\b\b\b\b\b\b\b\b\b\b\b\b\b\b\b\b\b\b\b\b\b\b\b\b\b\b\b\b\b\b\b\b\b\b\b\b\b\b\b\b\b\b\b\b\b\b\b\b\b\b\b\b\b\b\b\b\b\b\b\b\b\b\b\b\b\b\b\b\b\b\b\b\b\b\b\b\b\b\b\b\b\b\b\b\b\b\b\b\b\b\b\b\b\b\b\b\b\b\b\b\b\b\b\b\b\b\b\b\b\b\b\b\b\b\b\b\b\b\b\b\b\b\b\b\b\b\b\b\b\b\b\b\b\b\b\b\b\b\b\b\b\b\b\b\b\b\b\b\b\b\b\r313/313 [==============================] - 49s 156ms/step - loss: 39.1015 - distortion_loss: 0.0727 - rate_loss: 2.7488 - distortion_pass_through_loss: 0.0727 - rate_pass_through_loss: 2.7489 - val_loss: 38.9513 - val_distortion_loss: 0.0724 - val_rate_loss: 2.7379 - val_distortion_pass_through_loss: 0.0725 - val_rate_pass_through_loss: 2.7383\n",
            "Epoch: 11\n",
            "Using weights previously generated\n",
            "  6/313 [..............................] - ETA: 37s - loss: 39.1318 - distortion_loss: 0.0728 - rate_loss: 2.7316 - distortion_pass_through_loss: 0.0728 - rate_pass_through_loss: 2.7316"
          ]
        },
        {
          "output_type": "stream",
          "name": "stderr",
          "text": [
            "WARNING:tensorflow:Callback method `on_train_batch_end` is slow compared to the batch time (batch time: 0.0382s vs `on_train_batch_end` time: 0.0849s). Check your callbacks.\n"
          ]
        },
        {
          "output_type": "stream",
          "name": "stdout",
          "text": [
            "313/313 [==============================] - ETA: 0s - loss: 38.6702 - distortion_loss: 0.0718 - rate_loss: 2.7658 - distortion_pass_through_loss: 0.0718 - rate_pass_through_loss: 2.7660\n",
            "Saved weights.\n",
            "R=0.79296875 D=16.06049919128418 D+R=16.85346794128418 LATENT_SIZE=256\n"
          ]
        },
        {
          "output_type": "display_data",
          "data": {
            "text/plain": [
              "<Figure size 640x480 with 3 Axes>"
            ],
            "image/png": "[encoded data removed]"
          },
          "metadata": {}
        },
        {
          "output_type": "stream",
          "name": "stdout",
          "text": [
            "\b\b\b\b\b\b\b\b\b\b\b\b\b\b\b\b\b\b\b\b\b\b\b\b\b\b\b\b\b\b\b\b\b\b\b\b\b\b\b\b\b\b\b\b\b\b\b\b\b\b\b\b\b\b\b\b\b\b\b\b\b\b\b\b\b\b\b\b\b\b\b\b\b\b\b\b\b\b\b\b\b\b\b\b\b\b\b\b\b\b\b\b\b\b\b\b\b\b\b\b\b\b\b\b\b\b\b\b\b\b\b\b\b\b\b\b\b\b\b\b\b\b\b\b\b\b\b\b\b\b\b\b\b\b\b\b\b\b\b\b\b\b\b\b\b\b\b\b\b\b\b\b\b\b\b\b\b\b\b\b\b\b\b\b\b\b\b\b\b\b\b\b\b\b\b\b\b\b\b\b\b\b\b\b\r313/313 [==============================] - 53s 170ms/step - loss: 38.6702 - distortion_loss: 0.0718 - rate_loss: 2.7658 - distortion_pass_through_loss: 0.0718 - rate_pass_through_loss: 2.7660 - val_loss: 40.2180 - val_distortion_loss: 0.0748 - val_rate_loss: 2.8025 - val_distortion_pass_through_loss: 0.0749 - val_rate_pass_through_loss: 2.8029\n",
            "Epoch: 12\n",
            "Using weights previously generated\n",
            "  6/313 [..............................] - ETA: 39s - loss: 38.9040 - distortion_loss: 0.0722 - rate_loss: 2.7807 - distortion_pass_through_loss: 0.0722 - rate_pass_through_loss: 2.7807"
          ]
        },
        {
          "output_type": "stream",
          "name": "stderr",
          "text": [
            "WARNING:tensorflow:Callback method `on_train_batch_end` is slow compared to the batch time (batch time: 0.0388s vs `on_train_batch_end` time: 0.0883s). Check your callbacks.\n"
          ]
        },
        {
          "output_type": "stream",
          "name": "stdout",
          "text": [
            "313/313 [==============================] - ETA: 0s - loss: 37.7794 - distortion_loss: 0.0700 - rate_loss: 2.8036 - distortion_pass_through_loss: 0.0699 - rate_pass_through_loss: 2.8037\n",
            "Saved weights.\n",
            "R=0.79296875 D=15.885540962219238 D+R=16.678508758544922 LATENT_SIZE=256\n"
          ]
        },
        {
          "output_type": "display_data",
          "data": {
            "text/plain": [
              "<Figure size 640x480 with 3 Axes>"
            ],
            "image/png": "[encoded data removed]"
          },
          "metadata": {}
        },
        {
          "output_type": "stream",
          "name": "stdout",
          "text": [
            "\b\b\b\b\b\b\b\b\b\b\b\b\b\b\b\b\b\b\b\b\b\b\b\b\b\b\b\b\b\b\b\b\b\b\b\b\b\b\b\b\b\b\b\b\b\b\b\b\b\b\b\b\b\b\b\b\b\b\b\b\b\b\b\b\b\b\b\b\b\b\b\b\b\b\b\b\b\b\b\b\b\b\b\b\b\b\b\b\b\b\b\b\b\b\b\b\b\b\b\b\b\b\b\b\b\b\b\b\b\b\b\b\b\b\b\b\b\b\b\b\b\b\b\b\b\b\b\b\b\b\b\b\b\b\b\b\b\b\b\b\b\b\b\b\b\b\b\b\b\b\b\b\b\b\b\b\b\b\b\b\b\b\b\b\b\b\b\b\b\b\b\b\b\b\b\b\b\b\b\b\b\b\b\b\r313/313 [==============================] - 53s 171ms/step - loss: 37.7794 - distortion_loss: 0.0700 - rate_loss: 2.8036 - distortion_pass_through_loss: 0.0699 - rate_pass_through_loss: 2.8037 - val_loss: 37.5802 - val_distortion_loss: 0.0695 - val_rate_loss: 2.8340 - val_distortion_pass_through_loss: 0.0695 - val_rate_pass_through_loss: 2.8343\n",
            "Epoch: 13\n",
            "Using weights previously generated\n",
            "  6/313 [..............................] - ETA: 38s - loss: 39.8544 - distortion_loss: 0.0741 - rate_loss: 2.8285 - distortion_pass_through_loss: 0.0741 - rate_pass_through_loss: 2.8285"
          ]
        },
        {
          "output_type": "stream",
          "name": "stderr",
          "text": [
            "WARNING:tensorflow:Callback method `on_train_batch_end` is slow compared to the batch time (batch time: 0.0418s vs `on_train_batch_end` time: 0.0850s). Check your callbacks.\n"
          ]
        },
        {
          "output_type": "stream",
          "name": "stdout",
          "text": [
            "313/313 [==============================] - ETA: 0s - loss: 37.0639 - distortion_loss: 0.0685 - rate_loss: 2.8170 - distortion_pass_through_loss: 0.0685 - rate_pass_through_loss: 2.8172\n",
            "Saved weights.\n",
            "R=0.794921875 D=19.099626541137695 D+R=19.894548416137695 LATENT_SIZE=256\n"
          ]
        },
        {
          "output_type": "display_data",
          "data": {
            "text/plain": [
              "<Figure size 640x480 with 3 Axes>"
            ],
            "image/png": "[encoded data removed]"
          },
          "metadata": {}
        },
        {
          "output_type": "stream",
          "name": "stdout",
          "text": [
            "\b\b\b\b\b\b\b\b\b\b\b\b\b\b\b\b\b\b\b\b\b\b\b\b\b\b\b\b\b\b\b\b\b\b\b\b\b\b\b\b\b\b\b\b\b\b\b\b\b\b\b\b\b\b\b\b\b\b\b\b\b\b\b\b\b\b\b\b\b\b\b\b\b\b\b\b\b\b\b\b\b\b\b\b\b\b\b\b\b\b\b\b\b\b\b\b\b\b\b\b\b\b\b\b\b\b\b\b\b\b\b\b\b\b\b\b\b\b\b\b\b\b\b\b\b\b\b\b\b\b\b\b\b\b\b\b\b\b\b\b\b\b\b\b\b\b\b\b\b\b\b\b\b\b\b\b\b\b\b\b\b\b\b\b\b\b\b\b\b\b\b\b\b\b\b\b\b\b\b\b\b\b\b\b\r313/313 [==============================] - 52s 165ms/step - loss: 37.0639 - distortion_loss: 0.0685 - rate_loss: 2.8170 - distortion_pass_through_loss: 0.0685 - rate_pass_through_loss: 2.8172 - val_loss: 38.8885 - val_distortion_loss: 0.0720 - val_rate_loss: 2.8779 - val_distortion_pass_through_loss: 0.0721 - val_rate_pass_through_loss: 2.8782\n",
            "Epoch: 14\n",
            "Using weights previously generated\n",
            "  6/313 [..............................] - ETA: 37s - loss: 36.3809 - distortion_loss: 0.0670 - rate_loss: 2.8902 - distortion_pass_through_loss: 0.0670 - rate_pass_through_loss: 2.8902"
          ]
        },
        {
          "output_type": "stream",
          "name": "stderr",
          "text": [
            "WARNING:tensorflow:Callback method `on_train_batch_end` is slow compared to the batch time (batch time: 0.0387s vs `on_train_batch_end` time: 0.0865s). Check your callbacks.\n"
          ]
        },
        {
          "output_type": "stream",
          "name": "stdout",
          "text": [
            "313/313 [==============================] - ETA: 0s - loss: 36.2284 - distortion_loss: 0.0668 - rate_loss: 2.8517 - distortion_pass_through_loss: 0.0667 - rate_pass_through_loss: 2.8519\n",
            "Saved weights.\n",
            "R=0.7998046875 D=15.543594360351562 D+R=16.343399047851562 LATENT_SIZE=256\n"
          ]
        },
        {
          "output_type": "display_data",
          "data": {
            "text/plain": [
              "<Figure size 640x480 with 3 Axes>"
            ],
            "image/png": "[encoded data removed]"
          },
          "metadata": {}
        },
        {
          "output_type": "stream",
          "name": "stdout",
          "text": [
            "\b\b\b\b\b\b\b\b\b\b\b\b\b\b\b\b\b\b\b\b\b\b\b\b\b\b\b\b\b\b\b\b\b\b\b\b\b\b\b\b\b\b\b\b\b\b\b\b\b\b\b\b\b\b\b\b\b\b\b\b\b\b\b\b\b\b\b\b\b\b\b\b\b\b\b\b\b\b\b\b\b\b\b\b\b\b\b\b\b\b\b\b\b\b\b\b\b\b\b\b\b\b\b\b\b\b\b\b\b\b\b\b\b\b\b\b\b\b\b\b\b\b\b\b\b\b\b\b\b\b\b\b\b\b\b\b\b\b\b\b\b\b\b\b\b\b\b\b\b\b\b\b\b\b\b\b\b\b\b\b\b\b\b\b\b\b\b\b\b\b\b\b\b\b\b\b\b\b\b\b\b\b\b\b\r313/313 [==============================] - 51s 162ms/step - loss: 36.2284 - distortion_loss: 0.0668 - rate_loss: 2.8517 - distortion_pass_through_loss: 0.0667 - rate_pass_through_loss: 2.8519 - val_loss: 36.6487 - val_distortion_loss: 0.0675 - val_rate_loss: 2.8927 - val_distortion_pass_through_loss: 0.0675 - val_rate_pass_through_loss: 2.8929\n",
            "Epoch: 15\n",
            "Using weights previously generated\n",
            "  6/313 [..............................] - ETA: 38s - loss: 34.6504 - distortion_loss: 0.0635 - rate_loss: 2.9015 - distortion_pass_through_loss: 0.0635 - rate_pass_through_loss: 2.9015"
          ]
        },
        {
          "output_type": "stream",
          "name": "stderr",
          "text": [
            "WARNING:tensorflow:Callback method `on_train_batch_end` is slow compared to the batch time (batch time: 0.0391s vs `on_train_batch_end` time: 0.0862s). Check your callbacks.\n"
          ]
        },
        {
          "output_type": "stream",
          "name": "stdout",
          "text": [
            "313/313 [==============================] - ETA: 0s - loss: 35.4055 - distortion_loss: 0.0651 - rate_loss: 2.8798 - distortion_pass_through_loss: 0.0650 - rate_pass_through_loss: 2.8800\n",
            "Saved weights.\n",
            "R=0.79296875 D=15.321969985961914 D+R=16.114938735961914 LATENT_SIZE=256\n"
          ]
        },
        {
          "output_type": "display_data",
          "data": {
            "text/plain": [
              "<Figure size 640x480 with 3 Axes>"
            ],
            "image/png": "[encoded data removed]"
          },
          "metadata": {}
        },
        {
          "output_type": "stream",
          "name": "stdout",
          "text": [
            "\b\b\b\b\b\b\b\b\b\b\b\b\b\b\b\b\b\b\b\b\b\b\b\b\b\b\b\b\b\b\b\b\b\b\b\b\b\b\b\b\b\b\b\b\b\b\b\b\b\b\b\b\b\b\b\b\b\b\b\b\b\b\b\b\b\b\b\b\b\b\b\b\b\b\b\b\b\b\b\b\b\b\b\b\b\b\b\b\b\b\b\b\b\b\b\b\b\b\b\b\b\b\b\b\b\b\b\b\b\b\b\b\b\b\b\b\b\b\b\b\b\b\b\b\b\b\b\b\b\b\b\b\b\b\b\b\b\b\b\b\b\b\b\b\b\b\b\b\b\b\b\b\b\b\b\b\b\b\b\b\b\b\b\b\b\b\b\b\b\b\b\b\b\b\b\b\b\b\b\b\b\b\b\b\r313/313 [==============================] - 48s 152ms/step - loss: 35.4055 - distortion_loss: 0.0651 - rate_loss: 2.8798 - distortion_pass_through_loss: 0.0650 - rate_pass_through_loss: 2.8800 - val_loss: 36.0298 - val_distortion_loss: 0.0662 - val_rate_loss: 2.9289 - val_distortion_pass_through_loss: 0.0662 - val_rate_pass_through_loss: 2.9291\n",
            "Epoch: 16\n",
            "Using weights previously generated\n",
            "  6/313 [..............................] - ETA: 39s - loss: 33.6083 - distortion_loss: 0.0614 - rate_loss: 2.9283 - distortion_pass_through_loss: 0.0614 - rate_pass_through_loss: 2.9283"
          ]
        },
        {
          "output_type": "stream",
          "name": "stderr",
          "text": [
            "WARNING:tensorflow:Callback method `on_train_batch_end` is slow compared to the batch time (batch time: 0.0414s vs `on_train_batch_end` time: 0.0886s). Check your callbacks.\n"
          ]
        },
        {
          "output_type": "stream",
          "name": "stdout",
          "text": [
            "313/313 [==============================] - ETA: 0s - loss: 34.8705 - distortion_loss: 0.0639 - rate_loss: 2.8979 - distortion_pass_through_loss: 0.0639 - rate_pass_through_loss: 2.8981\n",
            "Saved weights.\n",
            "R=0.79296875 D=15.863100051879883 D+R=16.656068801879883 LATENT_SIZE=256\n"
          ]
        },
        {
          "output_type": "display_data",
          "data": {
            "text/plain": [
              "<Figure size 640x480 with 3 Axes>"
            ],
            "image/png": "[encoded data removed]"
          },
          "metadata": {}
        },
        {
          "output_type": "stream",
          "name": "stdout",
          "text": [
            "\b\b\b\b\b\b\b\b\b\b\b\b\b\b\b\b\b\b\b\b\b\b\b\b\b\b\b\b\b\b\b\b\b\b\b\b\b\b\b\b\b\b\b\b\b\b\b\b\b\b\b\b\b\b\b\b\b\b\b\b\b\b\b\b\b\b\b\b\b\b\b\b\b\b\b\b\b\b\b\b\b\b\b\b\b\b\b\b\b\b\b\b\b\b\b\b\b\b\b\b\b\b\b\b\b\b\b\b\b\b\b\b\b\b\b\b\b\b\b\b\b\b\b\b\b\b\b\b\b\b\b\b\b\b\b\b\b\b\b\b\b\b\b\b\b\b\b\b\b\b\b\b\b\b\b\b\b\b\b\b\b\b\b\b\b\b\b\b\b\b\b\b\b\b\b\b\b\b\b\b\b\b\b\b\r313/313 [==============================] - 53s 170ms/step - loss: 34.8705 - distortion_loss: 0.0639 - rate_loss: 2.8979 - distortion_pass_through_loss: 0.0639 - rate_pass_through_loss: 2.8981 - val_loss: 35.8583 - val_distortion_loss: 0.0658 - val_rate_loss: 2.9586 - val_distortion_pass_through_loss: 0.0658 - val_rate_pass_through_loss: 2.9589\n",
            "Epoch: 17\n",
            "Using weights previously generated\n",
            "  6/313 [..............................] - ETA: 40s - loss: 33.1293 - distortion_loss: 0.0603 - rate_loss: 2.9572 - distortion_pass_through_loss: 0.0603 - rate_pass_through_loss: 2.9572"
          ]
        },
        {
          "output_type": "stream",
          "name": "stderr",
          "text": [
            "WARNING:tensorflow:Callback method `on_train_batch_end` is slow compared to the batch time (batch time: 0.0462s vs `on_train_batch_end` time: 0.0881s). Check your callbacks.\n"
          ]
        },
        {
          "output_type": "stream",
          "name": "stdout",
          "text": [
            "313/313 [==============================] - ETA: 0s - loss: 34.4527 - distortion_loss: 0.0631 - rate_loss: 2.9114 - distortion_pass_through_loss: 0.0631 - rate_pass_through_loss: 2.9115\n",
            "Saved weights.\n",
            "R=0.80078125 D=17.01704216003418 D+R=17.81782341003418 LATENT_SIZE=256\n"
          ]
        },
        {
          "output_type": "display_data",
          "data": {
            "text/plain": [
              "<Figure size 640x480 with 3 Axes>"
            ],
            "image/png": "[encoded data removed]"
          },
          "metadata": {}
        },
        {
          "output_type": "stream",
          "name": "stdout",
          "text": [
            "\b\b\b\b\b\b\b\b\b\b\b\b\b\b\b\b\b\b\b\b\b\b\b\b\b\b\b\b\b\b\b\b\b\b\b\b\b\b\b\b\b\b\b\b\b\b\b\b\b\b\b\b\b\b\b\b\b\b\b\b\b\b\b\b\b\b\b\b\b\b\b\b\b\b\b\b\b\b\b\b\b\b\b\b\b\b\b\b\b\b\b\b\b\b\b\b\b\b\b\b\b\b\b\b\b\b\b\b\b\b\b\b\b\b\b\b\b\b\b\b\b\b\b\b\b\b\b\b\b\b\b\b\b\b\b\b\b\b\b\b\b\b\b\b\b\b\b\b\b\b\b\b\b\b\b\b\b\b\b\b\b\b\b\b\b\b\b\b\b\b\b\b\b\b\b\b\b\b\b\b\b\b\b\b\r313/313 [==============================] - 53s 170ms/step - loss: 34.4527 - distortion_loss: 0.0631 - rate_loss: 2.9114 - distortion_pass_through_loss: 0.0631 - rate_pass_through_loss: 2.9115 - val_loss: 36.0094 - val_distortion_loss: 0.0662 - val_rate_loss: 2.9314 - val_distortion_pass_through_loss: 0.0662 - val_rate_pass_through_loss: 2.9317\n"
          ]
        },
        {
          "output_type": "error",
          "ename": "KeyboardInterrupt",
          "evalue": "ignored",
          "traceback": [
            "\u001b[0;31m---------------------------------------------------------------------------\u001b[0m",
            "\u001b[0;31mKeyboardInterrupt\u001b[0m                         Traceback (most recent call last)",
            "\u001b[0;32m<ipython-input-18-d6d9c9a92224>\u001b[0m in \u001b[0;36m<cell line: 14>\u001b[0;34m()\u001b[0m\n\u001b[1;32m     14\u001b[0m \u001b[0;32mfor\u001b[0m \u001b[0mi\u001b[0m \u001b[0;32min\u001b[0m \u001b[0mrange\u001b[0m\u001b[0;34m(\u001b[0m\u001b[0;36m1\u001b[0m\u001b[0;34m,\u001b[0m \u001b[0mEPOCHS\u001b[0m\u001b[0;34m)\u001b[0m\u001b[0;34m:\u001b[0m\u001b[0;34m\u001b[0m\u001b[0;34m\u001b[0m\u001b[0m\n\u001b[1;32m     15\u001b[0m   \u001b[0mprint\u001b[0m\u001b[0;34m(\u001b[0m\u001b[0;34m\"Epoch:\"\u001b[0m\u001b[0;34m,\u001b[0m \u001b[0mi\u001b[0m\u001b[0;34m)\u001b[0m\u001b[0;34m\u001b[0m\u001b[0;34m\u001b[0m\u001b[0m\n\u001b[0;32m---> 16\u001b[0;31m   trainer.fit(\n\u001b[0m\u001b[1;32m     17\u001b[0m     \u001b[0mtraining_dataset\u001b[0m\u001b[0;34m.\u001b[0m\u001b[0mmap\u001b[0m\u001b[0;34m(\u001b[0m\u001b[0madd_rd_targets\u001b[0m\u001b[0;34m)\u001b[0m\u001b[0;34m.\u001b[0m\u001b[0mbatch\u001b[0m\u001b[0;34m(\u001b[0m\u001b[0;36m128\u001b[0m\u001b[0;34m)\u001b[0m\u001b[0;34m.\u001b[0m\u001b[0mprefetch\u001b[0m\u001b[0;34m(\u001b[0m\u001b[0;36m8\u001b[0m\u001b[0;34m)\u001b[0m\u001b[0;34m,\u001b[0m\u001b[0;34m\u001b[0m\u001b[0;34m\u001b[0m\u001b[0m\n\u001b[1;32m     18\u001b[0m     \u001b[0mepochs\u001b[0m\u001b[0;34m=\u001b[0m\u001b[0;36m1\u001b[0m\u001b[0;34m,\u001b[0m\u001b[0;34m\u001b[0m\u001b[0;34m\u001b[0m\u001b[0m\n",
            "\u001b[0;32m/usr/local/lib/python3.10/dist-packages/keras/src/utils/traceback_utils.py\u001b[0m in \u001b[0;36merror_handler\u001b[0;34m(*args, **kwargs)\u001b[0m\n\u001b[1;32m     63\u001b[0m         \u001b[0mfiltered_tb\u001b[0m \u001b[0;34m=\u001b[0m \u001b[0;32mNone\u001b[0m\u001b[0;34m\u001b[0m\u001b[0;34m\u001b[0m\u001b[0m\n\u001b[1;32m     64\u001b[0m         \u001b[0;32mtry\u001b[0m\u001b[0;34m:\u001b[0m\u001b[0;34m\u001b[0m\u001b[0;34m\u001b[0m\u001b[0m\n\u001b[0;32m---> 65\u001b[0;31m             \u001b[0;32mreturn\u001b[0m \u001b[0mfn\u001b[0m\u001b[0;34m(\u001b[0m\u001b[0;34m*\u001b[0m\u001b[0margs\u001b[0m\u001b[0;34m,\u001b[0m \u001b[0;34m**\u001b[0m\u001b[0mkwargs\u001b[0m\u001b[0;34m)\u001b[0m\u001b[0;34m\u001b[0m\u001b[0;34m\u001b[0m\u001b[0m\n\u001b[0m\u001b[1;32m     66\u001b[0m         \u001b[0;32mexcept\u001b[0m \u001b[0mException\u001b[0m \u001b[0;32mas\u001b[0m \u001b[0me\u001b[0m\u001b[0;34m:\u001b[0m\u001b[0;34m\u001b[0m\u001b[0;34m\u001b[0m\u001b[0m\n\u001b[1;32m     67\u001b[0m             \u001b[0mfiltered_tb\u001b[0m \u001b[0;34m=\u001b[0m \u001b[0m_process_traceback_frames\u001b[0m\u001b[0;34m(\u001b[0m\u001b[0me\u001b[0m\u001b[0;34m.\u001b[0m\u001b[0m__traceback__\u001b[0m\u001b[0;34m)\u001b[0m\u001b[0;34m\u001b[0m\u001b[0;34m\u001b[0m\u001b[0m\n",
            "\u001b[0;31mKeyboardInterrupt\u001b[0m: "
          ]
        }
      ]
    },
    {
      "cell_type": "code",
      "source": [
        "class Compressor(tf.keras.Model):\n",
        "  \"\"\"Compresses images to strings.\"\"\"\n",
        "\n",
        "  def __init__(self, analysis_transform, entropy_model):\n",
        "    super().__init__()\n",
        "    self.analysis_transform = analysis_transform\n",
        "    self.entropy_model = entropy_model\n",
        "\n",
        "  def call(self, x):\n",
        "    # Ensure inputs are floats in the range (0, 1).\n",
        "    x = tf.cast(x, self.compute_dtype) / 255.\n",
        "    y = self.analysis_transform(x)\n",
        "    # Also return the exact information content of each digit.\n",
        "    _, bits = self.entropy_model(y, training=False)\n",
        "    return self.entropy_model.compress(y), bits\n",
        "\n",
        "class Decompressor(tf.keras.Model):\n",
        "  \"\"\"Decompresses images from strings.\"\"\"\n",
        "\n",
        "  def __init__(self, entropy_model, synthesis_transform):\n",
        "    super().__init__()\n",
        "    self.entropy_model = entropy_model\n",
        "    self.synthesis_transform = synthesis_transform\n",
        "\n",
        "  def call(self, string):\n",
        "    y_hat = self.entropy_model.decompress(string, ())\n",
        "    x_hat = self.synthesis_transform(y_hat)\n",
        "    # Scale and cast back to 8-bit integer.\n",
        "    return tf.saturate_cast(tf.round(x_hat * 255.), tf.uint8)\n",
        "\n",
        "def make_codec(trainer, **kwargs):\n",
        "  # The entropy model must be created with `compression=True` and the same\n",
        "  # instance must be shared between compressor and decompressor.\n",
        "  entropy_model = tfc.ContinuousBatchedEntropyModel(\n",
        "      trainer.prior, coding_rank=1, compression=True, **kwargs)\n",
        "  compressor = Compressor(trainer.analysis_transform, entropy_model)\n",
        "  decompressor = Decompressor(entropy_model, trainer.synthesis_transform)\n",
        "  return compressor, decompressor\n",
        "\n",
        "compressor, decompressor = make_codec(trainer)"
      ],
      "metadata": {
        "id": "zBBKPXXqHr0R"
      },
      "execution_count": null,
      "outputs": []
    },
    {
      "cell_type": "code",
      "source": [
        "def display_images(originals, strings, entropies, reconstructions):\n",
        "  \"\"\"Visualizes 16 digits together with their reconstructions.\"\"\"\n",
        "  fig, axes = plt.subplots(4, 4, sharex=True, sharey=True, figsize=(12.5, 5))\n",
        "  axes = axes.ravel()\n",
        "  for i in range(len(axes)):\n",
        "    image = tf.concat([\n",
        "        tf.squeeze(originals[i]),\n",
        "        tf.zeros((32, 32, 3), tf.uint8),\n",
        "        tf.squeeze(reconstructions[i]),\n",
        "    ], 1)\n",
        "    axes[i].imshow(image)\n",
        "    axes[i].text(\n",
        "        #.5, .5, f\"→ 0x{strings[i].numpy().hex()} →\\n{entropies[i]:0.2f} bits\",\n",
        "        .5, .5, f\"{entropies[i]:0.2f} bits\",\n",
        "        ha=\"center\", va=\"top\", color=\"white\", fontsize=\"small\",\n",
        "        transform=axes[i].transAxes)\n",
        "    axes[i].axis(\"off\")\n",
        "  plt.subplots_adjust(wspace=0, hspace=0, left=0, right=1, bottom=0, top=1)"
      ],
      "metadata": {
        "id": "ZMpeJEHcDFtr"
      },
      "execution_count": null,
      "outputs": []
    },
    {
      "cell_type": "code",
      "source": [
        "(originals, _), = validation_dataset.batch(16).skip(3).take(1)\n",
        "strings, entropies = compressor(originals)\n",
        "\n",
        "print(f\"String representation of first compressed image (in hexadecimal): 0x{strings[0].numpy().hex()}\")\n",
        "print(f\"Number of bits actually needed to represent it: {entropies[0]:0.2f}\")\n",
        "\n",
        "reconstructions = decompressor(strings)\n",
        "display_images(originals, strings, entropies, reconstructions)"
      ],
      "metadata": {
        "id": "die98jiNHwvn"
      },
      "execution_count": null,
      "outputs": []
    },
    {
      "cell_type": "code",
      "source": [
        "# Compare with JPEG\n",
        "\n",
        "(originals, _), = validation_dataset.batch(16).skip(3).take(1)\n",
        "\n",
        "reconstructions = []\n",
        "entropies = []\n",
        "for count, i in enumerate(originals):\n",
        "  j = tf.image.encode_jpeg(i)\n",
        "  k = tf.image.decode_jpeg(j)\n",
        "  reconstructions.append(k)\n",
        "  file_path = f\"{count:02d}.jpg\"\n",
        "  with open(file_path, \"wb\") as file:\n",
        "    file.write(j.numpy())\n",
        "  length_j = tf.strings.length(j)*8\n",
        "  entropies.append(length_j)\n",
        "\n",
        "display_images(originals, strings, entropies, reconstructions)"
      ],
      "metadata": {
        "id": "Pd4LMerNIJ3s"
      },
      "execution_count": null,
      "outputs": []
    },
    {
      "cell_type": "code",
      "source": [
        "!ls -l"
      ],
      "metadata": {
        "id": "BbsRoCe3vhHl"
      },
      "execution_count": null,
      "outputs": []
    },
    {
      "cell_type": "code",
      "source": [],
      "metadata": {
        "id": "S9iHvay9eGCh"
      },
      "execution_count": null,
      "outputs": []
    }
  ]
}