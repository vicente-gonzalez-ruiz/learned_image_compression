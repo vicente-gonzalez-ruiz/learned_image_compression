{
  "nbformat": 4,
  "nbformat_minor": 0,
  "metadata": {
    "colab": {
      "provenance": [],
      "gpuType": "T4"
    },
    "kernelspec": {
      "name": "python3",
      "display_name": "Python 3"
    },
    "language_info": {
      "name": "python"
    },
    "widgets": {
      "application/vnd.jupyter.widget-state+json": {
        "ae2fa21b9fc746d1af8ccecb9eb2a4b9": {
          "model_module": "@jupyter-widgets/controls",
          "model_name": "HBoxModel",
          "model_module_version": "1.5.0",
          "state": {
            "_dom_classes": [],
            "_model_module": "@jupyter-widgets/controls",
            "_model_module_version": "1.5.0",
            "_model_name": "HBoxModel",
            "_view_count": null,
            "_view_module": "@jupyter-widgets/controls",
            "_view_module_version": "1.5.0",
            "_view_name": "HBoxView",
            "box_style": "",
            "children": [
              "IPY_MODEL_18a9212f292c469da3b4d3005040a300",
              "IPY_MODEL_51c87281aacb474287f2369f129d6be1",
              "IPY_MODEL_2890647e78dd4bbf9bb9f478cf11a058"
            ],
            "layout": "IPY_MODEL_0a1c61596d2e46ed98b5b20580381c64"
          }
        },
        "18a9212f292c469da3b4d3005040a300": {
          "model_module": "@jupyter-widgets/controls",
          "model_name": "HTMLModel",
          "model_module_version": "1.5.0",
          "state": {
            "_dom_classes": [],
            "_model_module": "@jupyter-widgets/controls",
            "_model_module_version": "1.5.0",
            "_model_name": "HTMLModel",
            "_view_count": null,
            "_view_module": "@jupyter-widgets/controls",
            "_view_module_version": "1.5.0",
            "_view_name": "HTMLView",
            "description": "",
            "description_tooltip": null,
            "layout": "IPY_MODEL_63eebf624e924c14a44317fbd14782e6",
            "placeholder": "​",
            "style": "IPY_MODEL_3423a1905a7a4af8af2ab888792c6476",
            "value": "Dl Completed...: 100%"
          }
        },
        "51c87281aacb474287f2369f129d6be1": {
          "model_module": "@jupyter-widgets/controls",
          "model_name": "FloatProgressModel",
          "model_module_version": "1.5.0",
          "state": {
            "_dom_classes": [],
            "_model_module": "@jupyter-widgets/controls",
            "_model_module_version": "1.5.0",
            "_model_name": "FloatProgressModel",
            "_view_count": null,
            "_view_module": "@jupyter-widgets/controls",
            "_view_module_version": "1.5.0",
            "_view_name": "ProgressView",
            "bar_style": "success",
            "description": "",
            "description_tooltip": null,
            "layout": "IPY_MODEL_0a4254c2741848e0b4e68be7970334b8",
            "max": 5,
            "min": 0,
            "orientation": "horizontal",
            "style": "IPY_MODEL_c8a55192655d4d2186a48264e67d74e0",
            "value": 5
          }
        },
        "2890647e78dd4bbf9bb9f478cf11a058": {
          "model_module": "@jupyter-widgets/controls",
          "model_name": "HTMLModel",
          "model_module_version": "1.5.0",
          "state": {
            "_dom_classes": [],
            "_model_module": "@jupyter-widgets/controls",
            "_model_module_version": "1.5.0",
            "_model_name": "HTMLModel",
            "_view_count": null,
            "_view_module": "@jupyter-widgets/controls",
            "_view_module_version": "1.5.0",
            "_view_name": "HTMLView",
            "description": "",
            "description_tooltip": null,
            "layout": "IPY_MODEL_61612c258fd24a90b61078195b203fb5",
            "placeholder": "​",
            "style": "IPY_MODEL_0e7ebfb3ca07468fa25b7a98400c0275",
            "value": " 5/5 [00:00&lt;00:00, 13.08 file/s]"
          }
        },
        "0a1c61596d2e46ed98b5b20580381c64": {
          "model_module": "@jupyter-widgets/base",
          "model_name": "LayoutModel",
          "model_module_version": "1.2.0",
          "state": {
            "_model_module": "@jupyter-widgets/base",
            "_model_module_version": "1.2.0",
            "_model_name": "LayoutModel",
            "_view_count": null,
            "_view_module": "@jupyter-widgets/base",
            "_view_module_version": "1.2.0",
            "_view_name": "LayoutView",
            "align_content": null,
            "align_items": null,
            "align_self": null,
            "border": null,
            "bottom": null,
            "display": null,
            "flex": null,
            "flex_flow": null,
            "grid_area": null,
            "grid_auto_columns": null,
            "grid_auto_flow": null,
            "grid_auto_rows": null,
            "grid_column": null,
            "grid_gap": null,
            "grid_row": null,
            "grid_template_areas": null,
            "grid_template_columns": null,
            "grid_template_rows": null,
            "height": null,
            "justify_content": null,
            "justify_items": null,
            "left": null,
            "margin": null,
            "max_height": null,
            "max_width": null,
            "min_height": null,
            "min_width": null,
            "object_fit": null,
            "object_position": null,
            "order": null,
            "overflow": null,
            "overflow_x": null,
            "overflow_y": null,
            "padding": null,
            "right": null,
            "top": null,
            "visibility": null,
            "width": null
          }
        },
        "63eebf624e924c14a44317fbd14782e6": {
          "model_module": "@jupyter-widgets/base",
          "model_name": "LayoutModel",
          "model_module_version": "1.2.0",
          "state": {
            "_model_module": "@jupyter-widgets/base",
            "_model_module_version": "1.2.0",
            "_model_name": "LayoutModel",
            "_view_count": null,
            "_view_module": "@jupyter-widgets/base",
            "_view_module_version": "1.2.0",
            "_view_name": "LayoutView",
            "align_content": null,
            "align_items": null,
            "align_self": null,
            "border": null,
            "bottom": null,
            "display": null,
            "flex": null,
            "flex_flow": null,
            "grid_area": null,
            "grid_auto_columns": null,
            "grid_auto_flow": null,
            "grid_auto_rows": null,
            "grid_column": null,
            "grid_gap": null,
            "grid_row": null,
            "grid_template_areas": null,
            "grid_template_columns": null,
            "grid_template_rows": null,
            "height": null,
            "justify_content": null,
            "justify_items": null,
            "left": null,
            "margin": null,
            "max_height": null,
            "max_width": null,
            "min_height": null,
            "min_width": null,
            "object_fit": null,
            "object_position": null,
            "order": null,
            "overflow": null,
            "overflow_x": null,
            "overflow_y": null,
            "padding": null,
            "right": null,
            "top": null,
            "visibility": null,
            "width": null
          }
        },
        "3423a1905a7a4af8af2ab888792c6476": {
          "model_module": "@jupyter-widgets/controls",
          "model_name": "DescriptionStyleModel",
          "model_module_version": "1.5.0",
          "state": {
            "_model_module": "@jupyter-widgets/controls",
            "_model_module_version": "1.5.0",
            "_model_name": "DescriptionStyleModel",
            "_view_count": null,
            "_view_module": "@jupyter-widgets/base",
            "_view_module_version": "1.2.0",
            "_view_name": "StyleView",
            "description_width": ""
          }
        },
        "0a4254c2741848e0b4e68be7970334b8": {
          "model_module": "@jupyter-widgets/base",
          "model_name": "LayoutModel",
          "model_module_version": "1.2.0",
          "state": {
            "_model_module": "@jupyter-widgets/base",
            "_model_module_version": "1.2.0",
            "_model_name": "LayoutModel",
            "_view_count": null,
            "_view_module": "@jupyter-widgets/base",
            "_view_module_version": "1.2.0",
            "_view_name": "LayoutView",
            "align_content": null,
            "align_items": null,
            "align_self": null,
            "border": null,
            "bottom": null,
            "display": null,
            "flex": null,
            "flex_flow": null,
            "grid_area": null,
            "grid_auto_columns": null,
            "grid_auto_flow": null,
            "grid_auto_rows": null,
            "grid_column": null,
            "grid_gap": null,
            "grid_row": null,
            "grid_template_areas": null,
            "grid_template_columns": null,
            "grid_template_rows": null,
            "height": null,
            "justify_content": null,
            "justify_items": null,
            "left": null,
            "margin": null,
            "max_height": null,
            "max_width": null,
            "min_height": null,
            "min_width": null,
            "object_fit": null,
            "object_position": null,
            "order": null,
            "overflow": null,
            "overflow_x": null,
            "overflow_y": null,
            "padding": null,
            "right": null,
            "top": null,
            "visibility": null,
            "width": null
          }
        },
        "c8a55192655d4d2186a48264e67d74e0": {
          "model_module": "@jupyter-widgets/controls",
          "model_name": "ProgressStyleModel",
          "model_module_version": "1.5.0",
          "state": {
            "_model_module": "@jupyter-widgets/controls",
            "_model_module_version": "1.5.0",
            "_model_name": "ProgressStyleModel",
            "_view_count": null,
            "_view_module": "@jupyter-widgets/base",
            "_view_module_version": "1.2.0",
            "_view_name": "StyleView",
            "bar_color": null,
            "description_width": ""
          }
        },
        "61612c258fd24a90b61078195b203fb5": {
          "model_module": "@jupyter-widgets/base",
          "model_name": "LayoutModel",
          "model_module_version": "1.2.0",
          "state": {
            "_model_module": "@jupyter-widgets/base",
            "_model_module_version": "1.2.0",
            "_model_name": "LayoutModel",
            "_view_count": null,
            "_view_module": "@jupyter-widgets/base",
            "_view_module_version": "1.2.0",
            "_view_name": "LayoutView",
            "align_content": null,
            "align_items": null,
            "align_self": null,
            "border": null,
            "bottom": null,
            "display": null,
            "flex": null,
            "flex_flow": null,
            "grid_area": null,
            "grid_auto_columns": null,
            "grid_auto_flow": null,
            "grid_auto_rows": null,
            "grid_column": null,
            "grid_gap": null,
            "grid_row": null,
            "grid_template_areas": null,
            "grid_template_columns": null,
            "grid_template_rows": null,
            "height": null,
            "justify_content": null,
            "justify_items": null,
            "left": null,
            "margin": null,
            "max_height": null,
            "max_width": null,
            "min_height": null,
            "min_width": null,
            "object_fit": null,
            "object_position": null,
            "order": null,
            "overflow": null,
            "overflow_x": null,
            "overflow_y": null,
            "padding": null,
            "right": null,
            "top": null,
            "visibility": null,
            "width": null
          }
        },
        "0e7ebfb3ca07468fa25b7a98400c0275": {
          "model_module": "@jupyter-widgets/controls",
          "model_name": "DescriptionStyleModel",
          "model_module_version": "1.5.0",
          "state": {
            "_model_module": "@jupyter-widgets/controls",
            "_model_module_version": "1.5.0",
            "_model_name": "DescriptionStyleModel",
            "_view_count": null,
            "_view_module": "@jupyter-widgets/base",
            "_view_module_version": "1.2.0",
            "_view_name": "StyleView",
            "description_width": ""
          }
        }
      }
    },
    "accelerator": "GPU"
  },
  "cells": [
    {
      "cell_type": "code",
      "execution_count": 1,
      "metadata": {
        "colab": {
          "base_uri": "https://localhost:8080/"
        },
        "id": "NpPkP6zhHC3p",
        "outputId": "3ba02ca0-9ef8-4a4b-d18d-8320687c5eb2"
      },
      "outputs": [
        {
          "output_type": "stream",
          "name": "stdout",
          "text": [
            "Collecting tensorflow-compression<2.15\n",
            "  Downloading tensorflow_compression-2.14.0-cp310-cp310-manylinux_2_17_x86_64.manylinux2014_x86_64.whl (257 kB)\n",
            "     ━━━━━━━━━━━━━━━━━━━━━━━━━━━━━━━━━━━━━━━━ 257.7/257.7 kB 1.8 MB/s eta 0:00:00\n",
            "Requirement already satisfied: scipy~=1.4 in /usr/local/lib/python3.10/dist-packages (from tensorflow-compression<2.15) (1.11.4)\n",
            "Requirement already satisfied: tensorflow~=2.14.0 in /usr/local/lib/python3.10/dist-packages (from tensorflow-compression<2.15) (2.14.0)\n",
            "Requirement already satisfied: tensorflow-probability~=0.15 in /usr/local/lib/python3.10/dist-packages (from tensorflow-compression<2.15) (0.22.0)\n",
            "Requirement already satisfied: numpy<1.28.0,>=1.21.6 in /usr/local/lib/python3.10/dist-packages (from scipy~=1.4->tensorflow-compression<2.15) (1.23.5)\n",
            "Requirement already satisfied: absl-py>=1.0.0 in /usr/local/lib/python3.10/dist-packages (from tensorflow~=2.14.0->tensorflow-compression<2.15) (1.4.0)\n",
            "Requirement already satisfied: astunparse>=1.6.0 in /usr/local/lib/python3.10/dist-packages (from tensorflow~=2.14.0->tensorflow-compression<2.15) (1.6.3)\n",
            "Requirement already satisfied: flatbuffers>=23.5.26 in /usr/local/lib/python3.10/dist-packages (from tensorflow~=2.14.0->tensorflow-compression<2.15) (23.5.26)\n",
            "Requirement already satisfied: gast!=0.5.0,!=0.5.1,!=0.5.2,>=0.2.1 in /usr/local/lib/python3.10/dist-packages (from tensorflow~=2.14.0->tensorflow-compression<2.15) (0.5.4)\n",
            "Requirement already satisfied: google-pasta>=0.1.1 in /usr/local/lib/python3.10/dist-packages (from tensorflow~=2.14.0->tensorflow-compression<2.15) (0.2.0)\n",
            "Requirement already satisfied: h5py>=2.9.0 in /usr/local/lib/python3.10/dist-packages (from tensorflow~=2.14.0->tensorflow-compression<2.15) (3.9.0)\n",
            "Requirement already satisfied: libclang>=13.0.0 in /usr/local/lib/python3.10/dist-packages (from tensorflow~=2.14.0->tensorflow-compression<2.15) (16.0.6)\n",
            "Requirement already satisfied: ml-dtypes==0.2.0 in /usr/local/lib/python3.10/dist-packages (from tensorflow~=2.14.0->tensorflow-compression<2.15) (0.2.0)\n",
            "Requirement already satisfied: opt-einsum>=2.3.2 in /usr/local/lib/python3.10/dist-packages (from tensorflow~=2.14.0->tensorflow-compression<2.15) (3.3.0)\n",
            "Requirement already satisfied: packaging in /usr/local/lib/python3.10/dist-packages (from tensorflow~=2.14.0->tensorflow-compression<2.15) (23.2)\n",
            "Requirement already satisfied: protobuf!=4.21.0,!=4.21.1,!=4.21.2,!=4.21.3,!=4.21.4,!=4.21.5,<5.0.0dev,>=3.20.3 in /usr/local/lib/python3.10/dist-packages (from tensorflow~=2.14.0->tensorflow-compression<2.15) (3.20.3)\n",
            "Requirement already satisfied: setuptools in /usr/local/lib/python3.10/dist-packages (from tensorflow~=2.14.0->tensorflow-compression<2.15) (67.7.2)\n",
            "Requirement already satisfied: six>=1.12.0 in /usr/local/lib/python3.10/dist-packages (from tensorflow~=2.14.0->tensorflow-compression<2.15) (1.16.0)\n",
            "Requirement already satisfied: termcolor>=1.1.0 in /usr/local/lib/python3.10/dist-packages (from tensorflow~=2.14.0->tensorflow-compression<2.15) (2.4.0)\n",
            "Requirement already satisfied: typing-extensions>=3.6.6 in /usr/local/lib/python3.10/dist-packages (from tensorflow~=2.14.0->tensorflow-compression<2.15) (4.5.0)\n",
            "Requirement already satisfied: wrapt<1.15,>=1.11.0 in /usr/local/lib/python3.10/dist-packages (from tensorflow~=2.14.0->tensorflow-compression<2.15) (1.14.1)\n",
            "Requirement already satisfied: tensorflow-io-gcs-filesystem>=0.23.1 in /usr/local/lib/python3.10/dist-packages (from tensorflow~=2.14.0->tensorflow-compression<2.15) (0.34.0)\n",
            "Requirement already satisfied: grpcio<2.0,>=1.24.3 in /usr/local/lib/python3.10/dist-packages (from tensorflow~=2.14.0->tensorflow-compression<2.15) (1.59.3)\n",
            "Requirement already satisfied: tensorboard<2.15,>=2.14 in /usr/local/lib/python3.10/dist-packages (from tensorflow~=2.14.0->tensorflow-compression<2.15) (2.14.1)\n",
            "Requirement already satisfied: tensorflow-estimator<2.15,>=2.14.0 in /usr/local/lib/python3.10/dist-packages (from tensorflow~=2.14.0->tensorflow-compression<2.15) (2.14.0)\n",
            "Requirement already satisfied: keras<2.15,>=2.14.0 in /usr/local/lib/python3.10/dist-packages (from tensorflow~=2.14.0->tensorflow-compression<2.15) (2.14.0)\n",
            "Requirement already satisfied: decorator in /usr/local/lib/python3.10/dist-packages (from tensorflow-probability~=0.15->tensorflow-compression<2.15) (4.4.2)\n",
            "Requirement already satisfied: cloudpickle>=1.3 in /usr/local/lib/python3.10/dist-packages (from tensorflow-probability~=0.15->tensorflow-compression<2.15) (2.2.1)\n",
            "Requirement already satisfied: dm-tree in /usr/local/lib/python3.10/dist-packages (from tensorflow-probability~=0.15->tensorflow-compression<2.15) (0.1.8)\n",
            "Requirement already satisfied: wheel<1.0,>=0.23.0 in /usr/local/lib/python3.10/dist-packages (from astunparse>=1.6.0->tensorflow~=2.14.0->tensorflow-compression<2.15) (0.42.0)\n",
            "Requirement already satisfied: google-auth<3,>=1.6.3 in /usr/local/lib/python3.10/dist-packages (from tensorboard<2.15,>=2.14->tensorflow~=2.14.0->tensorflow-compression<2.15) (2.17.3)\n",
            "Requirement already satisfied: google-auth-oauthlib<1.1,>=0.5 in /usr/local/lib/python3.10/dist-packages (from tensorboard<2.15,>=2.14->tensorflow~=2.14.0->tensorflow-compression<2.15) (1.0.0)\n",
            "Requirement already satisfied: markdown>=2.6.8 in /usr/local/lib/python3.10/dist-packages (from tensorboard<2.15,>=2.14->tensorflow~=2.14.0->tensorflow-compression<2.15) (3.5.1)\n",
            "Requirement already satisfied: requests<3,>=2.21.0 in /usr/local/lib/python3.10/dist-packages (from tensorboard<2.15,>=2.14->tensorflow~=2.14.0->tensorflow-compression<2.15) (2.31.0)\n",
            "Requirement already satisfied: tensorboard-data-server<0.8.0,>=0.7.0 in /usr/local/lib/python3.10/dist-packages (from tensorboard<2.15,>=2.14->tensorflow~=2.14.0->tensorflow-compression<2.15) (0.7.2)\n",
            "Requirement already satisfied: werkzeug>=1.0.1 in /usr/local/lib/python3.10/dist-packages (from tensorboard<2.15,>=2.14->tensorflow~=2.14.0->tensorflow-compression<2.15) (3.0.1)\n",
            "Requirement already satisfied: cachetools<6.0,>=2.0.0 in /usr/local/lib/python3.10/dist-packages (from google-auth<3,>=1.6.3->tensorboard<2.15,>=2.14->tensorflow~=2.14.0->tensorflow-compression<2.15) (5.3.2)\n",
            "Requirement already satisfied: pyasn1-modules>=0.2.1 in /usr/local/lib/python3.10/dist-packages (from google-auth<3,>=1.6.3->tensorboard<2.15,>=2.14->tensorflow~=2.14.0->tensorflow-compression<2.15) (0.3.0)\n",
            "Requirement already satisfied: rsa<5,>=3.1.4 in /usr/local/lib/python3.10/dist-packages (from google-auth<3,>=1.6.3->tensorboard<2.15,>=2.14->tensorflow~=2.14.0->tensorflow-compression<2.15) (4.9)\n",
            "Requirement already satisfied: requests-oauthlib>=0.7.0 in /usr/local/lib/python3.10/dist-packages (from google-auth-oauthlib<1.1,>=0.5->tensorboard<2.15,>=2.14->tensorflow~=2.14.0->tensorflow-compression<2.15) (1.3.1)\n",
            "Requirement already satisfied: charset-normalizer<4,>=2 in /usr/local/lib/python3.10/dist-packages (from requests<3,>=2.21.0->tensorboard<2.15,>=2.14->tensorflow~=2.14.0->tensorflow-compression<2.15) (3.3.2)\n",
            "Requirement already satisfied: idna<4,>=2.5 in /usr/local/lib/python3.10/dist-packages (from requests<3,>=2.21.0->tensorboard<2.15,>=2.14->tensorflow~=2.14.0->tensorflow-compression<2.15) (3.6)\n",
            "Requirement already satisfied: urllib3<3,>=1.21.1 in /usr/local/lib/python3.10/dist-packages (from requests<3,>=2.21.0->tensorboard<2.15,>=2.14->tensorflow~=2.14.0->tensorflow-compression<2.15) (2.0.7)\n",
            "Requirement already satisfied: certifi>=2017.4.17 in /usr/local/lib/python3.10/dist-packages (from requests<3,>=2.21.0->tensorboard<2.15,>=2.14->tensorflow~=2.14.0->tensorflow-compression<2.15) (2023.11.17)\n",
            "Requirement already satisfied: MarkupSafe>=2.1.1 in /usr/local/lib/python3.10/dist-packages (from werkzeug>=1.0.1->tensorboard<2.15,>=2.14->tensorflow~=2.14.0->tensorflow-compression<2.15) (2.1.3)\n",
            "Requirement already satisfied: pyasn1<0.6.0,>=0.4.6 in /usr/local/lib/python3.10/dist-packages (from pyasn1-modules>=0.2.1->google-auth<3,>=1.6.3->tensorboard<2.15,>=2.14->tensorflow~=2.14.0->tensorflow-compression<2.15) (0.5.1)\n",
            "Requirement already satisfied: oauthlib>=3.0.0 in /usr/local/lib/python3.10/dist-packages (from requests-oauthlib>=0.7.0->google-auth-oauthlib<1.1,>=0.5->tensorboard<2.15,>=2.14->tensorflow~=2.14.0->tensorflow-compression<2.15) (3.2.2)\n",
            "Installing collected packages: tensorflow-compression\n",
            "Successfully installed tensorflow-compression-2.14.0\n"
          ]
        }
      ],
      "source": [
        "%%bash\n",
        "# Installs the latest version of TFC compatible with the installed TF version.\n",
        "\n",
        "read MAJOR MINOR <<< \"$(pip show tensorflow | perl -p -0777 -e 's/.*Version: (\\d+)\\.(\\d+).*/\\1 \\2/sg')\"\n",
        "pip install \"tensorflow-compression<$MAJOR.$(($MINOR+1))\""
      ]
    },
    {
      "cell_type": "code",
      "source": [
        "import matplotlib.pyplot as plt\n",
        "import tensorflow as tf\n",
        "import tensorflow_compression as tfc\n",
        "import tensorflow_datasets as tfds"
      ],
      "metadata": {
        "id": "PBgqFHcfHRn5"
      },
      "execution_count": 2,
      "outputs": []
    },
    {
      "cell_type": "code",
      "source": [
        "training_dataset, validation_dataset = tfds.load(\n",
        "    \"mnist\",\n",
        "    split=[\"train\", \"test\"],\n",
        "    shuffle_files=True,\n",
        "    as_supervised=True,\n",
        "    with_info=False,\n",
        ")"
      ],
      "metadata": {
        "colab": {
          "base_uri": "https://localhost:8080/",
          "height": 84,
          "referenced_widgets": [
            "ae2fa21b9fc746d1af8ccecb9eb2a4b9",
            "18a9212f292c469da3b4d3005040a300",
            "51c87281aacb474287f2369f129d6be1",
            "2890647e78dd4bbf9bb9f478cf11a058",
            "0a1c61596d2e46ed98b5b20580381c64",
            "63eebf624e924c14a44317fbd14782e6",
            "3423a1905a7a4af8af2ab888792c6476",
            "0a4254c2741848e0b4e68be7970334b8",
            "c8a55192655d4d2186a48264e67d74e0",
            "61612c258fd24a90b61078195b203fb5",
            "0e7ebfb3ca07468fa25b7a98400c0275"
          ]
        },
        "id": "abk_06aQHfbK",
        "outputId": "d575f75a-624f-432a-ac4e-e39f7bca34bd"
      },
      "execution_count": 3,
      "outputs": [
        {
          "output_type": "stream",
          "name": "stdout",
          "text": [
            "Downloading and preparing dataset 11.06 MiB (download: 11.06 MiB, generated: 21.00 MiB, total: 32.06 MiB) to /root/tensorflow_datasets/mnist/3.0.1...\n"
          ]
        },
        {
          "output_type": "display_data",
          "data": {
            "text/plain": [
              "Dl Completed...:   0%|          | 0/5 [00:00<?, ? file/s]"
            ],
            "application/vnd.jupyter.widget-view+json": {
              "version_major": 2,
              "version_minor": 0,
              "model_id": "ae2fa21b9fc746d1af8ccecb9eb2a4b9"
            }
          },
          "metadata": {}
        },
        {
          "output_type": "stream",
          "name": "stdout",
          "text": [
            "Dataset mnist downloaded and prepared to /root/tensorflow_datasets/mnist/3.0.1. Subsequent calls will reuse this data.\n"
          ]
        }
      ]
    },
    {
      "cell_type": "code",
      "source": [
        "for image, label in training_dataset.take(1):\n",
        "    # Display the image\n",
        "    plt.imshow(image)\n",
        "    plt.title(f\"Label: {label.numpy()}\")\n",
        "    plt.show()"
      ],
      "metadata": {
        "colab": {
          "base_uri": "https://localhost:8080/",
          "height": 452
        },
        "id": "6tuaY4ZCzrFg",
        "outputId": "70db8049-b2c1-4cd6-8ab3-d8fdd3cbfed4"
      },
      "execution_count": 4,
      "outputs": [
        {
          "output_type": "display_data",
          "data": {
            "text/plain": [
              "<Figure size 640x480 with 1 Axes>"
            ],
            "image/png": "[encoded data removed]"
          },
          "metadata": {}
        }
      ]
    },
    {
      "cell_type": "code",
      "source": [
        "def make_analysis_transform(latent_dims):\n",
        "  \"\"\"Creates the analysis (encoder) transform.\"\"\"\n",
        "  return tf.keras.Sequential([\n",
        "      tf.keras.layers.Conv2D(\n",
        "          20, 5, use_bias=True, strides=2, padding=\"same\",\n",
        "          activation=\"leaky_relu\", name=\"conv_1\"),\n",
        "      tf.keras.layers.Conv2D(\n",
        "          50, 5, use_bias=True, strides=2, padding=\"same\",\n",
        "          activation=\"leaky_relu\", name=\"conv_2\"),\n",
        "      tf.keras.layers.Flatten(),\n",
        "      tf.keras.layers.Dense(\n",
        "          500, use_bias=True, activation=\"leaky_relu\", name=\"fc_1\"),\n",
        "      tf.keras.layers.Dense(\n",
        "          latent_dims, use_bias=True, activation=None, name=\"fc_2\"),\n",
        "  ], name=\"analysis_transform\")"
      ],
      "metadata": {
        "id": "2OifL8qZHU9L"
      },
      "execution_count": 5,
      "outputs": []
    },
    {
      "cell_type": "code",
      "source": [
        "def make_synthesis_transform():\n",
        "  \"\"\"Creates the synthesis (decoder) transform.\"\"\"\n",
        "  return tf.keras.Sequential([\n",
        "      tf.keras.layers.Dense(\n",
        "          500, use_bias=True, activation=\"leaky_relu\", name=\"fc_1\"),\n",
        "      tf.keras.layers.Dense(\n",
        "          2450, use_bias=True, activation=\"leaky_relu\", name=\"fc_2\"),\n",
        "      tf.keras.layers.Reshape((7, 7, 50)),\n",
        "      tf.keras.layers.Conv2DTranspose(\n",
        "          20, 5, use_bias=True, strides=2, padding=\"same\",\n",
        "          activation=\"leaky_relu\", name=\"conv_1\"),\n",
        "      tf.keras.layers.Conv2DTranspose(\n",
        "          1, 5, use_bias=True, strides=2, padding=\"same\",\n",
        "          activation=\"leaky_relu\", name=\"conv_2\"),\n",
        "  ], name=\"synthesis_transform\")"
      ],
      "metadata": {
        "id": "_sNapaRjHX6e"
      },
      "execution_count": 6,
      "outputs": []
    },
    {
      "cell_type": "code",
      "source": [
        "class MNISTCompressionTrainer(tf.keras.Model):\n",
        "  \"\"\"Model that trains a compressor/decompressor for MNIST.\"\"\"\n",
        "\n",
        "  def __init__(self, latent_dims):\n",
        "    super().__init__()\n",
        "    self.analysis_transform = make_analysis_transform(latent_dims)\n",
        "    self.synthesis_transform = make_synthesis_transform()\n",
        "    self.prior_log_scales = tf.Variable(tf.zeros((latent_dims,)))\n",
        "\n",
        "  @property\n",
        "  def prior(self):\n",
        "    return tfc.NoisyLogistic(loc=0., scale=tf.exp(self.prior_log_scales))\n",
        "\n",
        "  def call(self, x, training):\n",
        "    \"\"\"Computes rate and distortion losses.\"\"\"\n",
        "    # Ensure inputs are floats in the range (0, 1).\n",
        "    x = tf.cast(x, self.compute_dtype) / 255.\n",
        "    x = tf.reshape(x, (-1, 28, 28, 1))\n",
        "\n",
        "    # Compute latent space representation y, perturb it and model its entropy,\n",
        "    # then compute the reconstructed pixel-level representation x_hat.\n",
        "    y = self.analysis_transform(x)\n",
        "    entropy_model = tfc.ContinuousBatchedEntropyModel(\n",
        "        self.prior, coding_rank=1, compression=False)\n",
        "    y_tilde, rate = entropy_model(y, training=training)\n",
        "    x_tilde = self.synthesis_transform(y_tilde)\n",
        "\n",
        "    # Average number of bits per MNIST digit.\n",
        "    rate = tf.reduce_mean(rate)\n",
        "\n",
        "    # Mean absolute difference across pixels.\n",
        "    distortion = tf.reduce_mean(abs(x - x_tilde))\n",
        "\n",
        "    return dict(rate=rate, distortion=distortion)"
      ],
      "metadata": {
        "id": "n-zH_Nq0Hajt"
      },
      "execution_count": 7,
      "outputs": []
    },
    {
      "cell_type": "code",
      "source": [
        "def pass_through_loss(_, x):\n",
        "  # Since rate and distortion are unsupervised, the loss doesn't need a target.\n",
        "  return x\n",
        "\n",
        "def make_mnist_compression_trainer(lmbda, latent_dims=50):\n",
        "  trainer = MNISTCompressionTrainer(latent_dims)\n",
        "  trainer.compile(\n",
        "    optimizer=tf.keras.optimizers.Adam(learning_rate=1e-3),\n",
        "    # Just pass through rate and distortion as losses/metrics.\n",
        "    loss=dict(rate=pass_through_loss, distortion=pass_through_loss),\n",
        "    metrics=dict(rate=pass_through_loss, distortion=pass_through_loss),\n",
        "    loss_weights=dict(rate=1., distortion=lmbda),\n",
        "  )\n",
        "  return trainer"
      ],
      "metadata": {
        "id": "mly1xT6kHkkV"
      },
      "execution_count": 8,
      "outputs": []
    },
    {
      "cell_type": "code",
      "source": [
        "def add_rd_targets(image, label):\n",
        "  # Training is unsupervised, so labels aren't necessary here. However, we\n",
        "  # need to add \"dummy\" targets for rate and distortion.\n",
        "  return image, dict(rate=0., distortion=0.)\n",
        "\n",
        "def train_mnist_model(lmbda):\n",
        "  trainer = make_mnist_compression_trainer(lmbda)\n",
        "  trainer.fit(\n",
        "      training_dataset.map(add_rd_targets).batch(128).prefetch(8),\n",
        "      epochs=15,\n",
        "      validation_data=validation_dataset.map(add_rd_targets).batch(128).cache(),\n",
        "      validation_freq=1,\n",
        "      verbose=1,\n",
        "  )\n",
        "  return trainer\n",
        "\n",
        "trainer = train_mnist_model(lmbda=2000)\n",
        "trainer.analysis_transform.summary()\n",
        "trainer.synthesis_transform.summary()"
      ],
      "metadata": {
        "colab": {
          "base_uri": "https://localhost:8080/"
        },
        "id": "XHzi3inHHmnj",
        "outputId": "7b1ff50a-68dd-4465-ce83-00c901512f53"
      },
      "execution_count": 9,
      "outputs": [
        {
          "output_type": "stream",
          "name": "stdout",
          "text": [
            "Epoch 1/15\n",
            "469/469 [==============================] - ETA: 0s - loss: 217.8064 - distortion_loss: 0.0589 - rate_loss: 99.9681 - distortion_pass_through_loss: 0.0589 - rate_pass_through_loss: 99.9630"
          ]
        },
        {
          "output_type": "stream",
          "name": "stderr",
          "text": [
            "WARNING:absl:Computing quantization offsets using offset heuristic within a tf.function. Ideally, the offset heuristic should only be used to determine offsets once after training. Depending on the prior, estimating the offset might be computationally expensive.\n"
          ]
        },
        {
          "output_type": "stream",
          "name": "stdout",
          "text": [
            "\b\b\b\b\b\b\b\b\b\b\b\b\b\b\b\b\b\b\b\b\b\b\b\b\b\b\b\b\b\b\b\b\b\b\b\b\b\b\b\b\b\b\b\b\b\b\b\b\b\b\b\b\b\b\b\b\b\b\b\b\b\b\b\b\b\b\b\b\b\b\b\b\b\b\b\b\b\b\b\b\b\b\b\b\b\b\b\b\b\b\b\b\b\b\b\b\b\b\b\b\b\b\b\b\b\b\b\b\b\b\b\b\b\b\b\b\b\b\b\b\b\b\b\b\b\b\b\b\b\b\b\b\b\b\b\b\b\b\b\b\b\b\b\b\b\b\b\b\b\b\b\b\b\b\b\b\b\b\b\b\b\b\b\b\b\b\b\b\b\b\b\b\b\b\b\b\b\b\b\b\b\b\b\b\b\b\b\r469/469 [==============================] - 31s 20ms/step - loss: 217.8064 - distortion_loss: 0.0589 - rate_loss: 99.9681 - distortion_pass_through_loss: 0.0589 - rate_pass_through_loss: 99.9630 - val_loss: 178.1052 - val_distortion_loss: 0.0432 - val_rate_loss: 91.6631 - val_distortion_pass_through_loss: 0.0432 - val_rate_pass_through_loss: 91.6637\n",
            "Epoch 2/15\n",
            "469/469 [==============================] - 5s 11ms/step - loss: 166.8630 - distortion_loss: 0.0416 - rate_loss: 83.5886 - distortion_pass_through_loss: 0.0416 - rate_pass_through_loss: 83.5840 - val_loss: 156.9771 - val_distortion_loss: 0.0406 - val_rate_loss: 75.7286 - val_distortion_pass_through_loss: 0.0406 - val_rate_pass_through_loss: 75.7280\n",
            "Epoch 3/15\n",
            "469/469 [==============================] - 4s 9ms/step - loss: 152.1145 - distortion_loss: 0.0407 - rate_loss: 70.7192 - distortion_pass_through_loss: 0.0407 - rate_pass_through_loss: 70.7162 - val_loss: 145.3598 - val_distortion_loss: 0.0408 - val_rate_loss: 63.7386 - val_distortion_pass_through_loss: 0.0408 - val_rate_pass_through_loss: 63.7468\n",
            "Epoch 4/15\n",
            "469/469 [==============================] - 5s 11ms/step - loss: 143.5541 - distortion_loss: 0.0404 - rate_loss: 62.6892 - distortion_pass_through_loss: 0.0404 - rate_pass_through_loss: 62.6869 - val_loss: 137.5004 - val_distortion_loss: 0.0416 - val_rate_loss: 54.3472 - val_distortion_pass_through_loss: 0.0416 - val_rate_pass_through_loss: 54.3688\n",
            "Epoch 5/15\n",
            "469/469 [==============================] - 5s 10ms/step - loss: 138.1306 - distortion_loss: 0.0401 - rate_loss: 57.8796 - distortion_pass_through_loss: 0.0401 - rate_pass_through_loss: 57.8774 - val_loss: 131.9742 - val_distortion_loss: 0.0420 - val_rate_loss: 48.0689 - val_distortion_pass_through_loss: 0.0420 - val_rate_pass_through_loss: 48.0644\n",
            "Epoch 6/15\n",
            "469/469 [==============================] - 4s 9ms/step - loss: 134.2054 - distortion_loss: 0.0396 - rate_loss: 54.9414 - distortion_pass_through_loss: 0.0396 - rate_pass_through_loss: 54.9400 - val_loss: 128.1571 - val_distortion_loss: 0.0419 - val_rate_loss: 44.3128 - val_distortion_pass_through_loss: 0.0419 - val_rate_pass_through_loss: 44.3103\n",
            "Epoch 7/15\n",
            "469/469 [==============================] - 4s 8ms/step - loss: 131.2215 - distortion_loss: 0.0392 - rate_loss: 52.8403 - distortion_pass_through_loss: 0.0392 - rate_pass_through_loss: 52.8390 - val_loss: 125.2839 - val_distortion_loss: 0.0415 - val_rate_loss: 42.3592 - val_distortion_pass_through_loss: 0.0415 - val_rate_pass_through_loss: 42.3636\n",
            "Epoch 8/15\n",
            "469/469 [==============================] - 5s 11ms/step - loss: 128.5488 - distortion_loss: 0.0387 - rate_loss: 51.1354 - distortion_pass_through_loss: 0.0387 - rate_pass_through_loss: 51.1338 - val_loss: 122.2554 - val_distortion_loss: 0.0407 - val_rate_loss: 40.8549 - val_distortion_pass_through_loss: 0.0407 - val_rate_pass_through_loss: 40.8677\n",
            "Epoch 9/15\n",
            "469/469 [==============================] - 6s 12ms/step - loss: 126.1819 - distortion_loss: 0.0382 - rate_loss: 49.6992 - distortion_pass_through_loss: 0.0382 - rate_pass_through_loss: 49.6986 - val_loss: 119.3858 - val_distortion_loss: 0.0392 - val_rate_loss: 40.9126 - val_distortion_pass_through_loss: 0.0392 - val_rate_pass_through_loss: 40.9153\n",
            "Epoch 10/15\n",
            "469/469 [==============================] - 5s 10ms/step - loss: 123.8270 - distortion_loss: 0.0377 - rate_loss: 48.3649 - distortion_pass_through_loss: 0.0377 - rate_pass_through_loss: 48.3641 - val_loss: 118.4248 - val_distortion_loss: 0.0387 - val_rate_loss: 41.1063 - val_distortion_pass_through_loss: 0.0387 - val_rate_pass_through_loss: 41.1137\n",
            "Epoch 11/15\n",
            "469/469 [==============================] - 5s 10ms/step - loss: 121.8243 - distortion_loss: 0.0373 - rate_loss: 47.2247 - distortion_pass_through_loss: 0.0373 - rate_pass_through_loss: 47.2239 - val_loss: 115.9792 - val_distortion_loss: 0.0375 - val_rate_loss: 41.0182 - val_distortion_pass_through_loss: 0.0375 - val_rate_pass_through_loss: 41.0312\n",
            "Epoch 12/15\n",
            "469/469 [==============================] - 4s 9ms/step - loss: 119.7773 - distortion_loss: 0.0368 - rate_loss: 46.2662 - distortion_pass_through_loss: 0.0368 - rate_pass_through_loss: 46.2655 - val_loss: 114.7993 - val_distortion_loss: 0.0369 - val_rate_loss: 40.9589 - val_distortion_pass_through_loss: 0.0369 - val_rate_pass_through_loss: 40.9756\n",
            "Epoch 13/15\n",
            "469/469 [==============================] - 5s 10ms/step - loss: 118.3211 - distortion_loss: 0.0364 - rate_loss: 45.4242 - distortion_pass_through_loss: 0.0364 - rate_pass_through_loss: 45.4232 - val_loss: 114.8355 - val_distortion_loss: 0.0371 - val_rate_loss: 40.6622 - val_distortion_pass_through_loss: 0.0371 - val_rate_pass_through_loss: 40.6757\n",
            "Epoch 14/15\n",
            "469/469 [==============================] - 4s 9ms/step - loss: 116.7546 - distortion_loss: 0.0360 - rate_loss: 44.8005 - distortion_pass_through_loss: 0.0360 - rate_pass_through_loss: 44.7996 - val_loss: 114.1811 - val_distortion_loss: 0.0369 - val_rate_loss: 40.4434 - val_distortion_pass_through_loss: 0.0369 - val_rate_pass_through_loss: 40.4497\n",
            "Epoch 15/15\n",
            "469/469 [==============================] - 4s 8ms/step - loss: 115.8054 - distortion_loss: 0.0357 - rate_loss: 44.3825 - distortion_pass_through_loss: 0.0357 - rate_pass_through_loss: 44.3824 - val_loss: 112.4439 - val_distortion_loss: 0.0358 - val_rate_loss: 40.9016 - val_distortion_pass_through_loss: 0.0358 - val_rate_pass_through_loss: 40.9131\n",
            "Model: \"analysis_transform\"\n",
            "_________________________________________________________________\n",
            " Layer (type)                Output Shape              Param #   \n",
            "=================================================================\n",
            " conv_1 (Conv2D)             (None, 14, 14, 20)        520       \n",
            "                                                                 \n",
            " conv_2 (Conv2D)             (None, 7, 7, 50)          25050     \n",
            "                                                                 \n",
            " flatten (Flatten)           (None, 2450)              0         \n",
            "                                                                 \n",
            " fc_1 (Dense)                (None, 500)               1225500   \n",
            "                                                                 \n",
            " fc_2 (Dense)                (None, 50)                25050     \n",
            "                                                                 \n",
            "=================================================================\n",
            "Total params: 1276120 (4.87 MB)\n",
            "Trainable params: 1276120 (4.87 MB)\n",
            "Non-trainable params: 0 (0.00 Byte)\n",
            "_________________________________________________________________\n",
            "Model: \"synthesis_transform\"\n",
            "_________________________________________________________________\n",
            " Layer (type)                Output Shape              Param #   \n",
            "=================================================================\n",
            " fc_1 (Dense)                (None, 500)               25500     \n",
            "                                                                 \n",
            " fc_2 (Dense)                (None, 2450)              1227450   \n",
            "                                                                 \n",
            " reshape (Reshape)           (None, 7, 7, 50)          0         \n",
            "                                                                 \n",
            " conv_1 (Conv2DTranspose)    (None, 14, 14, 20)        25020     \n",
            "                                                                 \n",
            " conv_2 (Conv2DTranspose)    (None, 28, 28, 1)         501       \n",
            "                                                                 \n",
            "=================================================================\n",
            "Total params: 1278471 (4.88 MB)\n",
            "Trainable params: 1278471 (4.88 MB)\n",
            "Non-trainable params: 0 (0.00 Byte)\n",
            "_________________________________________________________________\n"
          ]
        }
      ]
    },
    {
      "cell_type": "code",
      "source": [
        "class MNISTCompressor(tf.keras.Model):\n",
        "  \"\"\"Compresses MNIST images to strings.\"\"\"\n",
        "\n",
        "  def __init__(self, analysis_transform, entropy_model):\n",
        "    super().__init__()\n",
        "    self.analysis_transform = analysis_transform\n",
        "    self.entropy_model = entropy_model\n",
        "\n",
        "  def call(self, x):\n",
        "    # Ensure inputs are floats in the range (0, 1).\n",
        "    x = tf.cast(x, self.compute_dtype) / 255.\n",
        "    y = self.analysis_transform(x)\n",
        "    # Also return the exact information content of each digit.\n",
        "    _, bits = self.entropy_model(y, training=False)\n",
        "    return self.entropy_model.compress(y), bits"
      ],
      "metadata": {
        "id": "CUjr2NanHo9t"
      },
      "execution_count": 10,
      "outputs": []
    },
    {
      "cell_type": "code",
      "source": [
        "class MNISTDecompressor(tf.keras.Model):\n",
        "  \"\"\"Decompresses MNIST images from strings.\"\"\"\n",
        "\n",
        "  def __init__(self, entropy_model, synthesis_transform):\n",
        "    super().__init__()\n",
        "    self.entropy_model = entropy_model\n",
        "    self.synthesis_transform = synthesis_transform\n",
        "\n",
        "  def call(self, string):\n",
        "    y_hat = self.entropy_model.decompress(string, ())\n",
        "    x_hat = self.synthesis_transform(y_hat)\n",
        "    # Scale and cast back to 8-bit integer.\n",
        "    return tf.saturate_cast(tf.round(x_hat * 255.), tf.uint8)"
      ],
      "metadata": {
        "id": "zBBKPXXqHr0R"
      },
      "execution_count": 11,
      "outputs": []
    },
    {
      "cell_type": "code",
      "source": [
        "def make_mnist_codec(trainer, **kwargs):\n",
        "  # The entropy model must be created with `compression=True` and the same\n",
        "  # instance must be shared between compressor and decompressor.\n",
        "  entropy_model = tfc.ContinuousBatchedEntropyModel(\n",
        "      trainer.prior, coding_rank=1, compression=True, **kwargs)\n",
        "  compressor = MNISTCompressor(trainer.analysis_transform, entropy_model)\n",
        "  decompressor = MNISTDecompressor(entropy_model, trainer.synthesis_transform)\n",
        "  return compressor, decompressor\n",
        "\n",
        "compressor, decompressor = make_mnist_codec(trainer)"
      ],
      "metadata": {
        "id": "FRAydfEPHuar"
      },
      "execution_count": 12,
      "outputs": []
    },
    {
      "cell_type": "code",
      "source": [
        "(originals, _), = validation_dataset.batch(16).skip(3).take(1)\n",
        "strings, entropies = compressor(originals)\n",
        "\n",
        "print(f\"String representation of first digit in hexadecimal: 0x{strings[0].numpy().hex()}\")\n",
        "print(f\"Number of bits actually needed to represent it: {entropies[0]:0.2f}\")\n",
        "\n",
        "reconstructions = decompressor(strings)\n",
        "\n",
        "def display_digits(originals, strings, entropies, reconstructions):\n",
        "  \"\"\"Visualizes 16 digits together with their reconstructions.\"\"\"\n",
        "  fig, axes = plt.subplots(4, 4, sharex=True, sharey=True, figsize=(12.5, 5))\n",
        "  axes = axes.ravel()\n",
        "  for i in range(len(axes)):\n",
        "    image = tf.concat([\n",
        "        tf.squeeze(originals[i]),\n",
        "        tf.zeros((28, 14), tf.uint8),\n",
        "        tf.squeeze(reconstructions[i]),\n",
        "    ], 1)\n",
        "    axes[i].imshow(image)\n",
        "    axes[i].text(\n",
        "        .5, .5, f\"→ 0x{strings[i].numpy().hex()} →\\n{entropies[i]:0.2f} bits\",\n",
        "        ha=\"center\", va=\"top\", color=\"white\", fontsize=\"small\",\n",
        "        transform=axes[i].transAxes)\n",
        "    axes[i].axis(\"off\")\n",
        "  plt.subplots_adjust(wspace=0, hspace=0, left=0, right=1, bottom=0, top=1)\n",
        "\n",
        "display_digits(originals, strings, entropies, reconstructions)\n"
      ],
      "metadata": {
        "colab": {
          "base_uri": "https://localhost:8080/",
          "height": 571
        },
        "id": "die98jiNHwvn",
        "outputId": "2936bc25-2d8a-40d9-9131-4f1ec6473089"
      },
      "execution_count": 13,
      "outputs": [
        {
          "output_type": "stream",
          "name": "stdout",
          "text": [
            "String representation of first digit in hexadecimal: 0x2e2185b643\n",
            "Number of bits actually needed to represent it: 39.34\n"
          ]
        },
        {
          "output_type": "display_data",
          "data": {
            "text/plain": [
              "<Figure size 1250x500 with 16 Axes>"
            ],
            "image/png": "[encoded data removed]"
          },
          "metadata": {}
        }
      ]
    }
  ]
}